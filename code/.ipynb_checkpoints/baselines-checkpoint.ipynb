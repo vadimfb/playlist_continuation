{
 "cells": [
  {
   "cell_type": "code",
   "execution_count": 1,
   "metadata": {},
   "outputs": [],
   "source": [
    "import numpy as np\n",
    "import pandas as pd\n",
    "import tqdm"
   ]
  },
  {
   "cell_type": "code",
   "execution_count": 2,
   "metadata": {},
   "outputs": [],
   "source": [
    "data_dir = '/home/vadim/playlist_generation/data/random_data'"
   ]
  },
  {
   "cell_type": "markdown",
   "metadata": {},
   "source": [
    "### Загружаем mpd_data(Million playlist dataset)"
   ]
  },
  {
   "cell_type": "code",
   "execution_count": 3,
   "metadata": {},
   "outputs": [
    {
     "data": {
      "text/html": [
       "<div>\n",
       "<style scoped>\n",
       "    .dataframe tbody tr th:only-of-type {\n",
       "        vertical-align: middle;\n",
       "    }\n",
       "\n",
       "    .dataframe tbody tr th {\n",
       "        vertical-align: top;\n",
       "    }\n",
       "\n",
       "    .dataframe thead th {\n",
       "        text-align: right;\n",
       "    }\n",
       "</style>\n",
       "<table border=\"1\" class=\"dataframe\">\n",
       "  <thead>\n",
       "    <tr style=\"text-align: right;\">\n",
       "      <th></th>\n",
       "      <th>userid</th>\n",
       "      <th>trackid</th>\n",
       "    </tr>\n",
       "  </thead>\n",
       "  <tbody>\n",
       "    <tr>\n",
       "      <th>1161</th>\n",
       "      <td>822014</td>\n",
       "      <td>620</td>\n",
       "    </tr>\n",
       "    <tr>\n",
       "      <th>1166</th>\n",
       "      <td>822014</td>\n",
       "      <td>1110</td>\n",
       "    </tr>\n",
       "    <tr>\n",
       "      <th>1168</th>\n",
       "      <td>822014</td>\n",
       "      <td>1112</td>\n",
       "    </tr>\n",
       "    <tr>\n",
       "      <th>1170</th>\n",
       "      <td>822014</td>\n",
       "      <td>1114</td>\n",
       "    </tr>\n",
       "    <tr>\n",
       "      <th>1172</th>\n",
       "      <td>822014</td>\n",
       "      <td>683</td>\n",
       "    </tr>\n",
       "  </tbody>\n",
       "</table>\n",
       "</div>"
      ],
      "text/plain": [
       "      userid  trackid\n",
       "1161  822014      620\n",
       "1166  822014     1110\n",
       "1168  822014     1112\n",
       "1170  822014     1114\n",
       "1172  822014      683"
      ]
     },
     "execution_count": 3,
     "metadata": {},
     "output_type": "execute_result"
    }
   ],
   "source": [
    "mpd_data = pd.read_csv('{}/transactions.csv'.format(data_dir), index_col=0)\n",
    "mpd_data.head()"
   ]
  },
  {
   "cell_type": "markdown",
   "metadata": {},
   "source": [
    "### Определяем рейтинг единичкой"
   ]
  },
  {
   "cell_type": "code",
   "execution_count": 4,
   "metadata": {},
   "outputs": [
    {
     "data": {
      "text/html": [
       "<div>\n",
       "<style scoped>\n",
       "    .dataframe tbody tr th:only-of-type {\n",
       "        vertical-align: middle;\n",
       "    }\n",
       "\n",
       "    .dataframe tbody tr th {\n",
       "        vertical-align: top;\n",
       "    }\n",
       "\n",
       "    .dataframe thead th {\n",
       "        text-align: right;\n",
       "    }\n",
       "</style>\n",
       "<table border=\"1\" class=\"dataframe\">\n",
       "  <thead>\n",
       "    <tr style=\"text-align: right;\">\n",
       "      <th></th>\n",
       "      <th>userid</th>\n",
       "      <th>trackid</th>\n",
       "      <th>rating</th>\n",
       "    </tr>\n",
       "  </thead>\n",
       "  <tbody>\n",
       "    <tr>\n",
       "      <th>1161</th>\n",
       "      <td>822014</td>\n",
       "      <td>620</td>\n",
       "      <td>1</td>\n",
       "    </tr>\n",
       "    <tr>\n",
       "      <th>1166</th>\n",
       "      <td>822014</td>\n",
       "      <td>1110</td>\n",
       "      <td>1</td>\n",
       "    </tr>\n",
       "    <tr>\n",
       "      <th>1168</th>\n",
       "      <td>822014</td>\n",
       "      <td>1112</td>\n",
       "      <td>1</td>\n",
       "    </tr>\n",
       "    <tr>\n",
       "      <th>1170</th>\n",
       "      <td>822014</td>\n",
       "      <td>1114</td>\n",
       "      <td>1</td>\n",
       "    </tr>\n",
       "    <tr>\n",
       "      <th>1172</th>\n",
       "      <td>822014</td>\n",
       "      <td>683</td>\n",
       "      <td>1</td>\n",
       "    </tr>\n",
       "  </tbody>\n",
       "</table>\n",
       "</div>"
      ],
      "text/plain": [
       "      userid  trackid  rating\n",
       "1161  822014      620       1\n",
       "1166  822014     1110       1\n",
       "1168  822014     1112       1\n",
       "1170  822014     1114       1\n",
       "1172  822014      683       1"
      ]
     },
     "execution_count": 4,
     "metadata": {},
     "output_type": "execute_result"
    }
   ],
   "source": [
    "mpd_data['rating'] = 1\n",
    "mpd_data.head()"
   ]
  },
  {
   "cell_type": "markdown",
   "metadata": {},
   "source": [
    "### Обрежем mpd_data по пользователям для быстроты"
   ]
  },
  {
   "cell_type": "code",
   "execution_count": 5,
   "metadata": {},
   "outputs": [],
   "source": [
    "data = mpd_data"
   ]
  },
  {
   "cell_type": "code",
   "execution_count": 6,
   "metadata": {},
   "outputs": [
    {
     "data": {
      "text/plain": [
       "(373089, 3)"
      ]
     },
     "execution_count": 6,
     "metadata": {},
     "output_type": "execute_result"
    }
   ],
   "source": [
    "data.shape"
   ]
  },
  {
   "cell_type": "code",
   "execution_count": 7,
   "metadata": {},
   "outputs": [],
   "source": [
    "from polara.recommender.data import RecommenderData\n",
    "from polara.recommender.models import SVDModel\n",
    "from sklearn.model_selection import KFold"
   ]
  },
  {
   "cell_type": "code",
   "execution_count": 8,
   "metadata": {},
   "outputs": [],
   "source": [
    "def cross_validation_svd(data, n_splits=5, seed=1, test_size=0.05, topk=500, rank=10):\n",
    "    kf = KFold(n_splits=n_splits, random_state=seed)\n",
    "    i = 1\n",
    "    scores = {'precision': [], 'recall': [], 'miss_rate': [], 'nDCG': []}\n",
    "    for users_ids, unseen_users_ids in kf.split(data['userid'].drop_duplicates()):\n",
    "        print('=========================Fold {}============================='.format(i))\n",
    "        i += 1\n",
    "        users = data['userid'].drop_duplicates().values[users_ids]\n",
    "        unseen_users = data['userid'].drop_duplicates().values[unseen_users_ids]\n",
    "        train = data.query('userid in @users')\n",
    "        test = data.query('userid in @unseen_users')\n",
    "        test_sampled = test.sample(frac=1-test_size, random_state=seed).sort_values('userid')\n",
    "        test_holdout = test[~test.index.isin(test_sampled.index)]\n",
    "        \n",
    "        data_model = RecommenderData(train,'userid', 'trackid', 'rating', seed=seed)\n",
    "        data_model.prepare_training_only()\n",
    "        svd = SVDModel(data_model)\n",
    "        svd.rank = rank\n",
    "        svd.build()\n",
    "        \n",
    "        data_model.set_test_data(testset=test_sampled, holdout=test_holdout, warm_start=True)\n",
    "        svd.switch_positive = 1\n",
    "        svd.topk = topk\n",
    "        relevance = svd.evaluate('relevance')\n",
    "        ranking = svd.evaluate('ranking')\n",
    "        \n",
    "        scores['precision'].append(relevance.precision)\n",
    "        scores['recall'].append(relevance.recall)\n",
    "        scores['miss_rate'].append(relevance.miss_rate)\n",
    "        scores['nDCG'].append(ranking.nDCG)\n",
    "        \n",
    "    result = pd.DataFrame(scores)\n",
    "    return result"
   ]
  },
  {
   "cell_type": "code",
   "execution_count": 9,
   "metadata": {},
   "outputs": [
    {
     "name": "stderr",
     "output_type": "stream",
     "text": [
      "\r",
      "  0%|          | 0/6 [00:00<?, ?it/s]"
     ]
    },
    {
     "name": "stdout",
     "output_type": "stream",
     "text": [
      "             ===========rank=3=============\n",
      "(373089, 3)\n",
      "=========================Fold 1=============================\n",
      "Preparing data...\n",
      "Done.\n",
      "PureSVD training time: 0.16348437500005275s\n",
      "1057 unique trackid's within 1145 testset interactions were filtered. Reason: not in the training data.\n",
      "137 unique trackid's within 140 holdout interactions were filtered. Reason: not in the training data.\n",
      "30 userid's were filtered out from holdout. Reason: inconsistent with testset.\n",
      "1253 userid's were filtered out from testset. Reason: inconsistent with holdout.\n",
      "=========================Fold 2=============================\n",
      "Preparing data...\n",
      "Done.\n",
      "PureSVD training time: 0.13209973400000763s\n",
      "1027 unique trackid's within 1082 testset interactions were filtered. Reason: not in the training data.\n",
      "107 unique trackid's within 107 holdout interactions were filtered. Reason: not in the training data.\n",
      "28 userid's were filtered out from holdout. Reason: inconsistent with testset.\n",
      "1288 userid's were filtered out from testset. Reason: inconsistent with holdout.\n",
      "=========================Fold 3=============================\n",
      "Preparing data...\n",
      "Done.\n",
      "PureSVD training time: 0.15260938000005808s\n",
      "1012 unique trackid's within 1079 testset interactions were filtered. Reason: not in the training data.\n",
      "121 unique trackid's within 122 holdout interactions were filtered. Reason: not in the training data.\n",
      "18 userid's were filtered out from holdout. Reason: inconsistent with testset.\n",
      "1330 userid's were filtered out from testset. Reason: inconsistent with holdout.\n",
      "=========================Fold 4=============================\n",
      "Preparing data...\n",
      "Done.\n",
      "PureSVD training time: 0.12239205800005948s\n",
      "1010 unique trackid's within 1075 testset interactions were filtered. Reason: not in the training data.\n",
      "129 unique trackid's within 129 holdout interactions were filtered. Reason: not in the training data.\n",
      "16 userid's were filtered out from holdout. Reason: inconsistent with testset.\n",
      "1283 userid's were filtered out from testset. Reason: inconsistent with holdout.\n",
      "=========================Fold 5=============================\n",
      "Preparing data...\n",
      "Done.\n",
      "PureSVD training time: 0.1303693669999575s\n",
      "982 unique trackid's within 1048 testset interactions were filtered. Reason: not in the training data.\n",
      "121 unique trackid's within 121 holdout interactions were filtered. Reason: not in the training data.\n",
      "29 userid's were filtered out from holdout. Reason: inconsistent with testset.\n",
      "1293 userid's were filtered out from testset. Reason: inconsistent with holdout.\n"
     ]
    },
    {
     "name": "stderr",
     "output_type": "stream",
     "text": [
      "\r",
      " 17%|█▋        | 1/6 [00:08<00:41,  8.36s/it]"
     ]
    },
    {
     "name": "stdout",
     "output_type": "stream",
     "text": [
      "             ===========rank=4=============\n",
      "(373089, 3)\n",
      "=========================Fold 1=============================\n",
      "Preparing data...\n",
      "Done.\n",
      "PureSVD training time: 0.13807001400004992s\n",
      "1057 unique trackid's within 1145 testset interactions were filtered. Reason: not in the training data.\n",
      "137 unique trackid's within 140 holdout interactions were filtered. Reason: not in the training data.\n",
      "30 userid's were filtered out from holdout. Reason: inconsistent with testset.\n",
      "1253 userid's were filtered out from testset. Reason: inconsistent with holdout.\n",
      "=========================Fold 2=============================\n",
      "Preparing data...\n",
      "Done.\n",
      "PureSVD training time: 0.1696616440000298s\n",
      "1027 unique trackid's within 1082 testset interactions were filtered. Reason: not in the training data.\n",
      "107 unique trackid's within 107 holdout interactions were filtered. Reason: not in the training data.\n",
      "28 userid's were filtered out from holdout. Reason: inconsistent with testset.\n",
      "1288 userid's were filtered out from testset. Reason: inconsistent with holdout.\n",
      "=========================Fold 3=============================\n",
      "Preparing data...\n",
      "Done.\n",
      "PureSVD training time: 0.13371559699999125s\n",
      "1012 unique trackid's within 1079 testset interactions were filtered. Reason: not in the training data.\n",
      "121 unique trackid's within 122 holdout interactions were filtered. Reason: not in the training data.\n",
      "18 userid's were filtered out from holdout. Reason: inconsistent with testset.\n",
      "1330 userid's were filtered out from testset. Reason: inconsistent with holdout.\n",
      "=========================Fold 4=============================\n",
      "Preparing data...\n",
      "Done.\n",
      "PureSVD training time: 0.13976065800000015s\n",
      "1010 unique trackid's within 1075 testset interactions were filtered. Reason: not in the training data.\n",
      "129 unique trackid's within 129 holdout interactions were filtered. Reason: not in the training data.\n",
      "16 userid's were filtered out from holdout. Reason: inconsistent with testset.\n",
      "1283 userid's were filtered out from testset. Reason: inconsistent with holdout.\n",
      "=========================Fold 5=============================\n",
      "Preparing data...\n",
      "Done.\n",
      "PureSVD training time: 0.13244906900001752s\n",
      "982 unique trackid's within 1048 testset interactions were filtered. Reason: not in the training data.\n",
      "121 unique trackid's within 121 holdout interactions were filtered. Reason: not in the training data.\n",
      "29 userid's were filtered out from holdout. Reason: inconsistent with testset.\n",
      "1293 userid's were filtered out from testset. Reason: inconsistent with holdout.\n"
     ]
    },
    {
     "name": "stderr",
     "output_type": "stream",
     "text": [
      "\r",
      " 33%|███▎      | 2/6 [00:16<00:32,  8.13s/it]"
     ]
    },
    {
     "name": "stdout",
     "output_type": "stream",
     "text": [
      "             ===========rank=5=============\n",
      "(373089, 3)\n",
      "=========================Fold 1=============================\n",
      "Preparing data...\n",
      "Done.\n",
      "PureSVD training time: 0.253135608999969s\n",
      "1057 unique trackid's within 1145 testset interactions were filtered. Reason: not in the training data.\n",
      "137 unique trackid's within 140 holdout interactions were filtered. Reason: not in the training data.\n",
      "30 userid's were filtered out from holdout. Reason: inconsistent with testset.\n",
      "1253 userid's were filtered out from testset. Reason: inconsistent with holdout.\n",
      "=========================Fold 2=============================\n",
      "Preparing data...\n",
      "Done.\n",
      "PureSVD training time: 0.1549714599999561s\n",
      "1027 unique trackid's within 1082 testset interactions were filtered. Reason: not in the training data.\n",
      "107 unique trackid's within 107 holdout interactions were filtered. Reason: not in the training data.\n",
      "28 userid's were filtered out from holdout. Reason: inconsistent with testset.\n",
      "1288 userid's were filtered out from testset. Reason: inconsistent with holdout.\n",
      "=========================Fold 3=============================\n",
      "Preparing data...\n",
      "Done.\n",
      "PureSVD training time: 0.3309938439999769s\n",
      "1012 unique trackid's within 1079 testset interactions were filtered. Reason: not in the training data.\n",
      "121 unique trackid's within 122 holdout interactions were filtered. Reason: not in the training data.\n",
      "18 userid's were filtered out from holdout. Reason: inconsistent with testset.\n",
      "1330 userid's were filtered out from testset. Reason: inconsistent with holdout.\n",
      "=========================Fold 4=============================\n",
      "Preparing data...\n",
      "Done.\n",
      "PureSVD training time: 0.28681387699998595s\n",
      "1010 unique trackid's within 1075 testset interactions were filtered. Reason: not in the training data.\n",
      "129 unique trackid's within 129 holdout interactions were filtered. Reason: not in the training data.\n",
      "16 userid's were filtered out from holdout. Reason: inconsistent with testset.\n",
      "1283 userid's were filtered out from testset. Reason: inconsistent with holdout.\n",
      "=========================Fold 5=============================\n",
      "Preparing data...\n",
      "Done.\n",
      "PureSVD training time: 0.16900179899994328s\n",
      "982 unique trackid's within 1048 testset interactions were filtered. Reason: not in the training data.\n",
      "121 unique trackid's within 121 holdout interactions were filtered. Reason: not in the training data.\n",
      "29 userid's were filtered out from holdout. Reason: inconsistent with testset.\n",
      "1293 userid's were filtered out from testset. Reason: inconsistent with holdout.\n"
     ]
    },
    {
     "name": "stderr",
     "output_type": "stream",
     "text": [
      "\r",
      " 50%|█████     | 3/6 [00:25<00:25,  8.47s/it]"
     ]
    },
    {
     "name": "stdout",
     "output_type": "stream",
     "text": [
      "             ===========rank=10=============\n",
      "(373089, 3)\n",
      "=========================Fold 1=============================\n",
      "Preparing data...\n",
      "Done.\n",
      "PureSVD training time: 0.19682629199996882s\n",
      "1057 unique trackid's within 1145 testset interactions were filtered. Reason: not in the training data.\n",
      "137 unique trackid's within 140 holdout interactions were filtered. Reason: not in the training data.\n",
      "30 userid's were filtered out from holdout. Reason: inconsistent with testset.\n",
      "1253 userid's were filtered out from testset. Reason: inconsistent with holdout.\n",
      "=========================Fold 2=============================\n",
      "Preparing data...\n",
      "Done.\n",
      "PureSVD training time: 0.18042232000004788s\n",
      "1027 unique trackid's within 1082 testset interactions were filtered. Reason: not in the training data.\n",
      "107 unique trackid's within 107 holdout interactions were filtered. Reason: not in the training data.\n",
      "28 userid's were filtered out from holdout. Reason: inconsistent with testset.\n",
      "1288 userid's were filtered out from testset. Reason: inconsistent with holdout.\n",
      "=========================Fold 3=============================\n",
      "Preparing data...\n",
      "Done.\n",
      "PureSVD training time: 0.2698898020000797s\n",
      "1012 unique trackid's within 1079 testset interactions were filtered. Reason: not in the training data.\n",
      "121 unique trackid's within 122 holdout interactions were filtered. Reason: not in the training data.\n",
      "18 userid's were filtered out from holdout. Reason: inconsistent with testset.\n",
      "1330 userid's were filtered out from testset. Reason: inconsistent with holdout.\n",
      "=========================Fold 4=============================\n",
      "Preparing data...\n",
      "Done.\n",
      "PureSVD training time: 0.23451288000001114s\n",
      "1010 unique trackid's within 1075 testset interactions were filtered. Reason: not in the training data.\n",
      "129 unique trackid's within 129 holdout interactions were filtered. Reason: not in the training data.\n",
      "16 userid's were filtered out from holdout. Reason: inconsistent with testset.\n",
      "1283 userid's were filtered out from testset. Reason: inconsistent with holdout.\n",
      "=========================Fold 5=============================\n",
      "Preparing data...\n",
      "Done.\n",
      "PureSVD training time: 0.3606822329999204s\n",
      "982 unique trackid's within 1048 testset interactions were filtered. Reason: not in the training data.\n",
      "121 unique trackid's within 121 holdout interactions were filtered. Reason: not in the training data.\n",
      "29 userid's were filtered out from holdout. Reason: inconsistent with testset.\n",
      "1293 userid's were filtered out from testset. Reason: inconsistent with holdout.\n"
     ]
    },
    {
     "name": "stderr",
     "output_type": "stream",
     "text": [
      "\r",
      " 67%|██████▋   | 4/6 [00:34<00:17,  8.67s/it]"
     ]
    },
    {
     "name": "stdout",
     "output_type": "stream",
     "text": [
      "             ===========rank=25=============\n",
      "(373089, 3)\n",
      "=========================Fold 1=============================\n",
      "Preparing data...\n",
      "Done.\n",
      "PureSVD training time: 0.6607899319999433s\n",
      "1057 unique trackid's within 1145 testset interactions were filtered. Reason: not in the training data.\n",
      "137 unique trackid's within 140 holdout interactions were filtered. Reason: not in the training data.\n",
      "30 userid's were filtered out from holdout. Reason: inconsistent with testset.\n",
      "1253 userid's were filtered out from testset. Reason: inconsistent with holdout.\n",
      "=========================Fold 2=============================\n",
      "Preparing data...\n",
      "Done.\n",
      "PureSVD training time: 0.6286811249999573s\n",
      "1027 unique trackid's within 1082 testset interactions were filtered. Reason: not in the training data.\n",
      "107 unique trackid's within 107 holdout interactions were filtered. Reason: not in the training data.\n",
      "28 userid's were filtered out from holdout. Reason: inconsistent with testset.\n",
      "1288 userid's were filtered out from testset. Reason: inconsistent with holdout.\n",
      "=========================Fold 3=============================\n",
      "Preparing data...\n",
      "Done.\n",
      "PureSVD training time: 0.646691009000051s\n",
      "1012 unique trackid's within 1079 testset interactions were filtered. Reason: not in the training data.\n",
      "121 unique trackid's within 122 holdout interactions were filtered. Reason: not in the training data.\n",
      "18 userid's were filtered out from holdout. Reason: inconsistent with testset.\n",
      "1330 userid's were filtered out from testset. Reason: inconsistent with holdout.\n",
      "=========================Fold 4=============================\n",
      "Preparing data...\n",
      "Done.\n",
      "PureSVD training time: 0.7167075960001057s\n",
      "1010 unique trackid's within 1075 testset interactions were filtered. Reason: not in the training data.\n",
      "129 unique trackid's within 129 holdout interactions were filtered. Reason: not in the training data.\n",
      "16 userid's were filtered out from holdout. Reason: inconsistent with testset.\n",
      "1283 userid's were filtered out from testset. Reason: inconsistent with holdout.\n",
      "=========================Fold 5=============================\n",
      "Preparing data...\n",
      "Done.\n",
      "PureSVD training time: 0.4944259860000102s\n",
      "982 unique trackid's within 1048 testset interactions were filtered. Reason: not in the training data.\n",
      "121 unique trackid's within 121 holdout interactions were filtered. Reason: not in the training data.\n",
      "29 userid's were filtered out from holdout. Reason: inconsistent with testset.\n",
      "1293 userid's were filtered out from testset. Reason: inconsistent with holdout.\n"
     ]
    },
    {
     "name": "stderr",
     "output_type": "stream",
     "text": [
      "\r",
      " 83%|████████▎ | 5/6 [00:45<00:09,  9.14s/it]"
     ]
    },
    {
     "name": "stdout",
     "output_type": "stream",
     "text": [
      "             ===========rank=50=============\n",
      "(373089, 3)\n",
      "=========================Fold 1=============================\n",
      "Preparing data...\n",
      "Done.\n",
      "PureSVD training time: 1.5409900009999546s\n",
      "1057 unique trackid's within 1145 testset interactions were filtered. Reason: not in the training data.\n",
      "137 unique trackid's within 140 holdout interactions were filtered. Reason: not in the training data.\n",
      "30 userid's were filtered out from holdout. Reason: inconsistent with testset.\n",
      "1253 userid's were filtered out from testset. Reason: inconsistent with holdout.\n",
      "=========================Fold 2=============================\n",
      "Preparing data...\n",
      "Done.\n",
      "PureSVD training time: 2.0736168179998913s\n",
      "1027 unique trackid's within 1082 testset interactions were filtered. Reason: not in the training data.\n",
      "107 unique trackid's within 107 holdout interactions were filtered. Reason: not in the training data.\n",
      "28 userid's were filtered out from holdout. Reason: inconsistent with testset.\n",
      "1288 userid's were filtered out from testset. Reason: inconsistent with holdout.\n",
      "=========================Fold 3=============================\n",
      "Preparing data...\n",
      "Done.\n",
      "PureSVD training time: 2.3010677439999654s\n",
      "1012 unique trackid's within 1079 testset interactions were filtered. Reason: not in the training data.\n",
      "121 unique trackid's within 122 holdout interactions were filtered. Reason: not in the training data.\n",
      "18 userid's were filtered out from holdout. Reason: inconsistent with testset.\n",
      "1330 userid's were filtered out from testset. Reason: inconsistent with holdout.\n",
      "=========================Fold 4=============================\n",
      "Preparing data...\n",
      "Done.\n",
      "PureSVD training time: 1.6126888919999374s\n",
      "1010 unique trackid's within 1075 testset interactions were filtered. Reason: not in the training data.\n",
      "129 unique trackid's within 129 holdout interactions were filtered. Reason: not in the training data.\n",
      "16 userid's were filtered out from holdout. Reason: inconsistent with testset.\n",
      "1283 userid's were filtered out from testset. Reason: inconsistent with holdout.\n",
      "=========================Fold 5=============================\n",
      "Preparing data...\n",
      "Done.\n",
      "PureSVD training time: 1.439346711999974s\n",
      "982 unique trackid's within 1048 testset interactions were filtered. Reason: not in the training data.\n",
      "121 unique trackid's within 121 holdout interactions were filtered. Reason: not in the training data.\n",
      "29 userid's were filtered out from holdout. Reason: inconsistent with testset.\n",
      "1293 userid's were filtered out from testset. Reason: inconsistent with holdout.\n"
     ]
    },
    {
     "name": "stderr",
     "output_type": "stream",
     "text": [
      "100%|██████████| 6/6 [01:02<00:00, 10.43s/it]\n"
     ]
    }
   ],
   "source": [
    "topks = [500]\n",
    "ranks = [3,4,5,10, 25, 50]\n",
    "recall = []\n",
    "nDCG = []\n",
    "precision = []\n",
    "miss_rate = []\n",
    "for rank in tqdm.tqdm(ranks):\n",
    "    print('             ===========rank={}============='.format(rank))\n",
    "    print(data.shape)\n",
    "    result = cross_validation_svd(data, topk=500, test_size=0.1, rank=rank)\n",
    "    recall.append(result.recall.mean())\n",
    "    nDCG.append(result.nDCG.mean())\n",
    "    precision.append(result.precision.mean())\n",
    "    miss_rate.append(result.miss_rate.mean())"
   ]
  },
  {
   "cell_type": "code",
   "execution_count": 10,
   "metadata": {},
   "outputs": [],
   "source": [
    "import matplotlib.pyplot as plt"
   ]
  },
  {
   "cell_type": "code",
   "execution_count": 11,
   "metadata": {},
   "outputs": [
    {
     "data": {
      "image/png": "[encoded data removed]",
      "text/plain": [
       "<Figure size 864x576 with 1 Axes>"
      ]
     },
     "metadata": {},
     "output_type": "display_data"
    }
   ],
   "source": [
    "plt.style.use('seaborn')\n",
    "plt.figure(figsize=(12,8))\n",
    "plt.plot(ranks, recall, 'orange', label='recall')\n",
    "plt.plot(ranks, nDCG,label='nDCG')\n",
    "plt.plot(ranks, precision, label='precision')\n",
    "plt.plot(ranks, miss_rate, label='miss_rate')\n",
    "plt.ylabel('evalution')\n",
    "plt.xlabel('topk')\n",
    "plt.legend()\n",
    "plt.show()"
   ]
  },
  {
   "cell_type": "code",
   "execution_count": null,
   "metadata": {},
   "outputs": [],
   "source": []
  }
 ],
 "metadata": {
  "kernelspec": {
   "display_name": "Python 3",
   "language": "python",
   "name": "python3"
  },
  "language_info": {
   "codemirror_mode": {
    "name": "ipython",
    "version": 3
   },
   "file_extension": ".py",
   "mimetype": "text/x-python",
   "name": "python",
   "nbconvert_exporter": "python",
   "pygments_lexer": "ipython3",
   "version": "3.5.2"
  }
 },
 "nbformat": 4,
 "nbformat_minor": 2
}
