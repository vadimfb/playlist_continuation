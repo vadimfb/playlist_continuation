{
 "cells": [
  {
   "cell_type": "code",
   "execution_count": 1,
   "metadata": {},
   "outputs": [],
   "source": [
    "import numpy as np\n",
    "import pandas as pd\n",
    "import tqdm"
   ]
  },
  {
   "cell_type": "code",
   "execution_count": 2,
   "metadata": {},
   "outputs": [],
   "source": [
    "data_dir = '/home/vadim/playlist_generation/data'"
   ]
  },
  {
   "cell_type": "markdown",
   "metadata": {},
   "source": [
    "### Загружаем mpd_data(Million playlist dataset)"
   ]
  },
  {
   "cell_type": "code",
   "execution_count": 3,
   "metadata": {},
   "outputs": [
    {
     "name": "stderr",
     "output_type": "stream",
     "text": [
      "/usr/local/lib/python3.5/dist-packages/numpy/lib/arraysetops.py:472: FutureWarning: elementwise comparison failed; returning scalar instead, but in the future will perform elementwise comparison\n",
      "  mask |= (ar1 == a)\n"
     ]
    },
    {
     "data": {
      "text/html": [
       "<div>\n",
       "<style scoped>\n",
       "    .dataframe tbody tr th:only-of-type {\n",
       "        vertical-align: middle;\n",
       "    }\n",
       "\n",
       "    .dataframe tbody tr th {\n",
       "        vertical-align: top;\n",
       "    }\n",
       "\n",
       "    .dataframe thead th {\n",
       "        text-align: right;\n",
       "    }\n",
       "</style>\n",
       "<table border=\"1\" class=\"dataframe\">\n",
       "  <thead>\n",
       "    <tr style=\"text-align: right;\">\n",
       "      <th></th>\n",
       "      <th>userid</th>\n",
       "      <th>trackid</th>\n",
       "    </tr>\n",
       "  </thead>\n",
       "  <tbody>\n",
       "    <tr>\n",
       "      <th>0</th>\n",
       "      <td>822000</td>\n",
       "      <td>0</td>\n",
       "    </tr>\n",
       "    <tr>\n",
       "      <th>1</th>\n",
       "      <td>822000</td>\n",
       "      <td>1</td>\n",
       "    </tr>\n",
       "    <tr>\n",
       "      <th>2</th>\n",
       "      <td>822000</td>\n",
       "      <td>2</td>\n",
       "    </tr>\n",
       "    <tr>\n",
       "      <th>3</th>\n",
       "      <td>822000</td>\n",
       "      <td>3</td>\n",
       "    </tr>\n",
       "    <tr>\n",
       "      <th>4</th>\n",
       "      <td>822000</td>\n",
       "      <td>4</td>\n",
       "    </tr>\n",
       "  </tbody>\n",
       "</table>\n",
       "</div>"
      ],
      "text/plain": [
       "   userid  trackid\n",
       "0  822000        0\n",
       "1  822000        1\n",
       "2  822000        2\n",
       "3  822000        3\n",
       "4  822000        4"
      ]
     },
     "execution_count": 3,
     "metadata": {},
     "output_type": "execute_result"
    }
   ],
   "source": [
    "mpd_data = pd.read_csv('{}/transactions.csv'.format(data_dir), index_col=0)\n",
    "mpd_data.head()"
   ]
  },
  {
   "cell_type": "markdown",
   "metadata": {},
   "source": [
    "### Определяем рейтинг единичкой"
   ]
  },
  {
   "cell_type": "code",
   "execution_count": 4,
   "metadata": {},
   "outputs": [
    {
     "data": {
      "text/html": [
       "<div>\n",
       "<style scoped>\n",
       "    .dataframe tbody tr th:only-of-type {\n",
       "        vertical-align: middle;\n",
       "    }\n",
       "\n",
       "    .dataframe tbody tr th {\n",
       "        vertical-align: top;\n",
       "    }\n",
       "\n",
       "    .dataframe thead th {\n",
       "        text-align: right;\n",
       "    }\n",
       "</style>\n",
       "<table border=\"1\" class=\"dataframe\">\n",
       "  <thead>\n",
       "    <tr style=\"text-align: right;\">\n",
       "      <th></th>\n",
       "      <th>userid</th>\n",
       "      <th>trackid</th>\n",
       "      <th>rating</th>\n",
       "    </tr>\n",
       "  </thead>\n",
       "  <tbody>\n",
       "    <tr>\n",
       "      <th>0</th>\n",
       "      <td>822000</td>\n",
       "      <td>0</td>\n",
       "      <td>1</td>\n",
       "    </tr>\n",
       "    <tr>\n",
       "      <th>1</th>\n",
       "      <td>822000</td>\n",
       "      <td>1</td>\n",
       "      <td>1</td>\n",
       "    </tr>\n",
       "    <tr>\n",
       "      <th>2</th>\n",
       "      <td>822000</td>\n",
       "      <td>2</td>\n",
       "      <td>1</td>\n",
       "    </tr>\n",
       "    <tr>\n",
       "      <th>3</th>\n",
       "      <td>822000</td>\n",
       "      <td>3</td>\n",
       "      <td>1</td>\n",
       "    </tr>\n",
       "    <tr>\n",
       "      <th>4</th>\n",
       "      <td>822000</td>\n",
       "      <td>4</td>\n",
       "      <td>1</td>\n",
       "    </tr>\n",
       "  </tbody>\n",
       "</table>\n",
       "</div>"
      ],
      "text/plain": [
       "   userid  trackid  rating\n",
       "0  822000        0       1\n",
       "1  822000        1       1\n",
       "2  822000        2       1\n",
       "3  822000        3       1\n",
       "4  822000        4       1"
      ]
     },
     "execution_count": 4,
     "metadata": {},
     "output_type": "execute_result"
    }
   ],
   "source": [
    "mpd_data['rating'] = 1\n",
    "mpd_data.head()"
   ]
  },
  {
   "cell_type": "markdown",
   "metadata": {},
   "source": [
    "### Обрежем mpd_data по пользователям для быстроты"
   ]
  },
  {
   "cell_type": "code",
   "execution_count": 5,
   "metadata": {},
   "outputs": [],
   "source": [
    "users = mpd_data['userid'].unique()[:1000]"
   ]
  },
  {
   "cell_type": "code",
   "execution_count": 6,
   "metadata": {},
   "outputs": [],
   "source": [
    "data = mpd_data.query('userid in @users')"
   ]
  },
  {
   "cell_type": "code",
   "execution_count": 7,
   "metadata": {},
   "outputs": [
    {
     "data": {
      "text/plain": [
       "(68009, 3)"
      ]
     },
     "execution_count": 7,
     "metadata": {},
     "output_type": "execute_result"
    }
   ],
   "source": [
    "data.shape"
   ]
  },
  {
   "cell_type": "code",
   "execution_count": 8,
   "metadata": {},
   "outputs": [],
   "source": [
    "from polara.recommender.data import RecommenderData\n",
    "from polara.recommender.models import SVDModel\n",
    "from sklearn.model_selection import KFold"
   ]
  },
  {
   "cell_type": "code",
   "execution_count": 9,
   "metadata": {},
   "outputs": [],
   "source": [
    "def cross_validation_svd(data, n_splits=5, seed=1, test_size=0.05, topk=500, rank=10):\n",
    "    kf = KFold(n_splits=n_splits, random_state=seed)\n",
    "    i = 1\n",
    "    scores = {'precision': [], 'recall': [], 'miss_rate': [], 'nDCG': []}\n",
    "    for users_ids, unseen_users_ids in kf.split(data['userid'].drop_duplicates()):\n",
    "        print('=========================Fold {}============================='.format(i))\n",
    "        i += 1\n",
    "        users = data['userid'].drop_duplicates().values[users_ids]\n",
    "        unseen_users = data['userid'].drop_duplicates().values[unseen_users_ids]\n",
    "        train = data.query('userid in @users')\n",
    "        test = data.query('userid in @unseen_users')\n",
    "        test_sampled = test.sample(frac=1-test_size, random_state=seed).sort_values('userid')\n",
    "        test_holdout = test[~test.index.isin(test_sampled.index)]\n",
    "        \n",
    "        data_model = RecommenderData(train,'userid', 'trackid', 'rating', seed=seed)\n",
    "        data_model.prepare_training_only()\n",
    "        svd = SVDModel(data_model)\n",
    "        svd.rank = rank\n",
    "        svd.build()\n",
    "        \n",
    "        data_model.set_test_data(testset=test_sampled, holdout=test_holdout, warm_start=True)\n",
    "        svd.switch_positive = 1\n",
    "        svd.topk = topk\n",
    "        relevance = svd.evaluate('relevance')\n",
    "        ranking = svd.evaluate('ranking')\n",
    "        \n",
    "        scores['precision'].append(relevance.precision)\n",
    "        scores['recall'].append(relevance.recall)\n",
    "        scores['miss_rate'].append(relevance.miss_rate)\n",
    "        scores['nDCG'].append(ranking.nDCG)\n",
    "        \n",
    "    result = pd.DataFrame(scores)\n",
    "    return result"
   ]
  },
  {
   "cell_type": "code",
   "execution_count": 10,
   "metadata": {},
   "outputs": [
    {
     "name": "stderr",
     "output_type": "stream",
     "text": [
      "\r",
      "  0%|          | 0/8 [00:00<?, ?it/s]"
     ]
    },
    {
     "name": "stdout",
     "output_type": "stream",
     "text": [
      "             ===========rank=10=============\n",
      "(68009, 3)\n",
      "=========================Fold 1=============================\n",
      "Preparing data...\n",
      "Done.\n",
      "PureSVD training time: 0.1801699650000046s\n",
      "5293 unique trackid's within 5443 testset interactions were filtered. Reason: not in the training data.\n",
      "580 unique trackid's within 581 holdout interactions were filtered. Reason: not in the training data.\n",
      "37 userid's were filtered out from testset. Reason: inconsistent with holdout.\n",
      "=========================Fold 2=============================\n",
      "Preparing data...\n",
      "Done.\n",
      "PureSVD training time: 0.04979873199999929s\n",
      "3990 unique trackid's within 4142 testset interactions were filtered. Reason: not in the training data.\n",
      "439 unique trackid's within 440 holdout interactions were filtered. Reason: not in the training data.\n",
      "1 userid's were filtered out from holdout. Reason: inconsistent with testset.\n",
      "34 userid's were filtered out from testset. Reason: inconsistent with holdout.\n",
      "=========================Fold 3=============================\n",
      "Preparing data...\n",
      "Done.\n",
      "PureSVD training time: 0.06330488599996897s\n",
      "5336 unique trackid's within 5542 testset interactions were filtered. Reason: not in the training data.\n",
      "617 unique trackid's within 617 holdout interactions were filtered. Reason: not in the training data.\n",
      "29 userid's were filtered out from testset. Reason: inconsistent with holdout.\n",
      "=========================Fold 4=============================\n",
      "Preparing data...\n",
      "Done.\n",
      "PureSVD training time: 0.14210835000000088s\n",
      "4785 unique trackid's within 4942 testset interactions were filtered. Reason: not in the training data.\n",
      "584 unique trackid's within 585 holdout interactions were filtered. Reason: not in the training data.\n",
      "32 userid's were filtered out from testset. Reason: inconsistent with holdout.\n",
      "=========================Fold 5=============================\n",
      "Preparing data...\n",
      "Done.\n",
      "PureSVD training time: 0.05400205199998709s\n",
      "6032 unique trackid's within 6226 testset interactions were filtered. Reason: not in the training data.\n",
      "652 unique trackid's within 656 holdout interactions were filtered. Reason: not in the training data.\n",
      "33 userid's were filtered out from testset. Reason: inconsistent with holdout.\n"
     ]
    },
    {
     "name": "stderr",
     "output_type": "stream",
     "text": [
      "\r",
      " 12%|█▎        | 1/8 [00:02<00:18,  2.59s/it]"
     ]
    },
    {
     "name": "stdout",
     "output_type": "stream",
     "text": [
      "             ===========rank=25=============\n",
      "(68009, 3)\n",
      "=========================Fold 1=============================\n",
      "Preparing data...\n",
      "Done.\n",
      "PureSVD training time: 0.23487430500000528s\n",
      "5293 unique trackid's within 5443 testset interactions were filtered. Reason: not in the training data.\n",
      "580 unique trackid's within 581 holdout interactions were filtered. Reason: not in the training data.\n",
      "37 userid's were filtered out from testset. Reason: inconsistent with holdout.\n",
      "=========================Fold 2=============================\n",
      "Preparing data...\n",
      "Done.\n",
      "PureSVD training time: 0.21149162899996554s\n",
      "3990 unique trackid's within 4142 testset interactions were filtered. Reason: not in the training data.\n",
      "439 unique trackid's within 440 holdout interactions were filtered. Reason: not in the training data.\n",
      "1 userid's were filtered out from holdout. Reason: inconsistent with testset.\n",
      "34 userid's were filtered out from testset. Reason: inconsistent with holdout.\n",
      "=========================Fold 3=============================\n",
      "Preparing data...\n",
      "Done.\n",
      "PureSVD training time: 0.193886679000002s\n",
      "5336 unique trackid's within 5542 testset interactions were filtered. Reason: not in the training data.\n",
      "617 unique trackid's within 617 holdout interactions were filtered. Reason: not in the training data.\n",
      "29 userid's were filtered out from testset. Reason: inconsistent with holdout.\n",
      "=========================Fold 4=============================\n",
      "Preparing data...\n",
      "Done.\n",
      "PureSVD training time: 0.09620148400000517s\n",
      "4785 unique trackid's within 4942 testset interactions were filtered. Reason: not in the training data.\n",
      "584 unique trackid's within 585 holdout interactions were filtered. Reason: not in the training data.\n",
      "32 userid's were filtered out from testset. Reason: inconsistent with holdout.\n",
      "=========================Fold 5=============================\n",
      "Preparing data...\n",
      "Done.\n",
      "PureSVD training time: 0.12477661700000908s\n",
      "6032 unique trackid's within 6226 testset interactions were filtered. Reason: not in the training data.\n",
      "652 unique trackid's within 656 holdout interactions were filtered. Reason: not in the training data.\n",
      "33 userid's were filtered out from testset. Reason: inconsistent with holdout.\n"
     ]
    },
    {
     "name": "stderr",
     "output_type": "stream",
     "text": [
      "\r",
      " 25%|██▌       | 2/8 [00:05<00:15,  2.63s/it]"
     ]
    },
    {
     "name": "stdout",
     "output_type": "stream",
     "text": [
      "             ===========rank=50=============\n",
      "(68009, 3)\n",
      "=========================Fold 1=============================\n",
      "Preparing data...\n",
      "Done.\n",
      "PureSVD training time: 0.2054585770000017s\n",
      "5293 unique trackid's within 5443 testset interactions were filtered. Reason: not in the training data.\n",
      "580 unique trackid's within 581 holdout interactions were filtered. Reason: not in the training data.\n",
      "37 userid's were filtered out from testset. Reason: inconsistent with holdout.\n",
      "=========================Fold 2=============================\n",
      "Preparing data...\n",
      "Done.\n",
      "PureSVD training time: 0.3822624649999966s\n",
      "3990 unique trackid's within 4142 testset interactions were filtered. Reason: not in the training data.\n",
      "439 unique trackid's within 440 holdout interactions were filtered. Reason: not in the training data.\n",
      "1 userid's were filtered out from holdout. Reason: inconsistent with testset.\n",
      "34 userid's were filtered out from testset. Reason: inconsistent with holdout.\n",
      "=========================Fold 3=============================\n",
      "Preparing data...\n",
      "Done.\n",
      "PureSVD training time: 0.31950378400000545s\n",
      "5336 unique trackid's within 5542 testset interactions were filtered. Reason: not in the training data.\n",
      "617 unique trackid's within 617 holdout interactions were filtered. Reason: not in the training data.\n",
      "29 userid's were filtered out from testset. Reason: inconsistent with holdout.\n",
      "=========================Fold 4=============================\n",
      "Preparing data...\n",
      "Done.\n",
      "PureSVD training time: 0.20958691699996734s\n",
      "4785 unique trackid's within 4942 testset interactions were filtered. Reason: not in the training data.\n",
      "584 unique trackid's within 585 holdout interactions were filtered. Reason: not in the training data.\n",
      "32 userid's were filtered out from testset. Reason: inconsistent with holdout.\n",
      "=========================Fold 5=============================\n",
      "Preparing data...\n",
      "Done.\n",
      "PureSVD training time: 0.3772718580000287s\n",
      "6032 unique trackid's within 6226 testset interactions were filtered. Reason: not in the training data.\n",
      "652 unique trackid's within 656 holdout interactions were filtered. Reason: not in the training data.\n",
      "33 userid's were filtered out from testset. Reason: inconsistent with holdout.\n"
     ]
    },
    {
     "name": "stderr",
     "output_type": "stream",
     "text": [
      "\r",
      " 38%|███▊      | 3/8 [00:08<00:14,  2.97s/it]"
     ]
    },
    {
     "name": "stdout",
     "output_type": "stream",
     "text": [
      "             ===========rank=100=============\n",
      "(68009, 3)\n",
      "=========================Fold 1=============================\n",
      "Preparing data...\n",
      "Done.\n",
      "PureSVD training time: 0.8326575130000151s\n",
      "5293 unique trackid's within 5443 testset interactions were filtered. Reason: not in the training data.\n",
      "580 unique trackid's within 581 holdout interactions were filtered. Reason: not in the training data.\n",
      "37 userid's were filtered out from testset. Reason: inconsistent with holdout.\n",
      "=========================Fold 2=============================\n",
      "Preparing data...\n",
      "Done.\n",
      "PureSVD training time: 0.7194605239999987s\n",
      "3990 unique trackid's within 4142 testset interactions were filtered. Reason: not in the training data.\n",
      "439 unique trackid's within 440 holdout interactions were filtered. Reason: not in the training data.\n",
      "1 userid's were filtered out from holdout. Reason: inconsistent with testset.\n",
      "34 userid's were filtered out from testset. Reason: inconsistent with holdout.\n",
      "=========================Fold 3=============================\n",
      "Preparing data...\n",
      "Done.\n",
      "PureSVD training time: 0.658537200000012s\n",
      "5336 unique trackid's within 5542 testset interactions were filtered. Reason: not in the training data.\n",
      "617 unique trackid's within 617 holdout interactions were filtered. Reason: not in the training data.\n",
      "29 userid's were filtered out from testset. Reason: inconsistent with holdout.\n",
      "=========================Fold 4=============================\n",
      "Preparing data...\n",
      "Done.\n",
      "PureSVD training time: 0.6174758270000211s\n",
      "4785 unique trackid's within 4942 testset interactions were filtered. Reason: not in the training data.\n",
      "584 unique trackid's within 585 holdout interactions were filtered. Reason: not in the training data.\n",
      "32 userid's were filtered out from testset. Reason: inconsistent with holdout.\n",
      "=========================Fold 5=============================\n",
      "Preparing data...\n",
      "Done.\n",
      "PureSVD training time: 0.6368899670000019s\n",
      "6032 unique trackid's within 6226 testset interactions were filtered. Reason: not in the training data.\n",
      "652 unique trackid's within 656 holdout interactions were filtered. Reason: not in the training data.\n",
      "33 userid's were filtered out from testset. Reason: inconsistent with holdout.\n"
     ]
    },
    {
     "name": "stderr",
     "output_type": "stream",
     "text": [
      "\r",
      " 50%|█████     | 4/8 [00:14<00:14,  3.69s/it]"
     ]
    },
    {
     "name": "stdout",
     "output_type": "stream",
     "text": [
      "             ===========rank=200=============\n",
      "(68009, 3)\n",
      "=========================Fold 1=============================\n",
      "Preparing data...\n",
      "Done.\n",
      "PureSVD training time: 2.189960583999948s\n",
      "5293 unique trackid's within 5443 testset interactions were filtered. Reason: not in the training data.\n",
      "580 unique trackid's within 581 holdout interactions were filtered. Reason: not in the training data.\n",
      "37 userid's were filtered out from testset. Reason: inconsistent with holdout.\n",
      "=========================Fold 2=============================\n",
      "Preparing data...\n",
      "Done.\n",
      "PureSVD training time: 1.9584745250000424s\n",
      "3990 unique trackid's within 4142 testset interactions were filtered. Reason: not in the training data.\n",
      "439 unique trackid's within 440 holdout interactions were filtered. Reason: not in the training data.\n",
      "1 userid's were filtered out from holdout. Reason: inconsistent with testset.\n",
      "34 userid's were filtered out from testset. Reason: inconsistent with holdout.\n",
      "=========================Fold 3=============================\n",
      "Preparing data...\n",
      "Done.\n",
      "PureSVD training time: 1.9633600930000057s\n",
      "5336 unique trackid's within 5542 testset interactions were filtered. Reason: not in the training data.\n",
      "617 unique trackid's within 617 holdout interactions were filtered. Reason: not in the training data.\n",
      "29 userid's were filtered out from testset. Reason: inconsistent with holdout.\n",
      "=========================Fold 4=============================\n",
      "Preparing data...\n",
      "Done.\n",
      "PureSVD training time: 1.9948807609999903s\n",
      "4785 unique trackid's within 4942 testset interactions were filtered. Reason: not in the training data.\n",
      "584 unique trackid's within 585 holdout interactions were filtered. Reason: not in the training data.\n",
      "32 userid's were filtered out from testset. Reason: inconsistent with holdout.\n",
      "=========================Fold 5=============================\n",
      "Preparing data...\n",
      "Done.\n",
      "PureSVD training time: 1.8685930869999652s\n",
      "6032 unique trackid's within 6226 testset interactions were filtered. Reason: not in the training data.\n",
      "652 unique trackid's within 656 holdout interactions were filtered. Reason: not in the training data.\n",
      "33 userid's were filtered out from testset. Reason: inconsistent with holdout.\n"
     ]
    },
    {
     "name": "stderr",
     "output_type": "stream",
     "text": [
      "\r",
      " 62%|██████▎   | 5/8 [00:27<00:16,  5.47s/it]"
     ]
    },
    {
     "name": "stdout",
     "output_type": "stream",
     "text": [
      "             ===========rank=300=============\n",
      "(68009, 3)\n",
      "=========================Fold 1=============================\n",
      "Preparing data...\n",
      "Done.\n",
      "PureSVD training time: 4.086989604999985s\n",
      "5293 unique trackid's within 5443 testset interactions were filtered. Reason: not in the training data.\n",
      "580 unique trackid's within 581 holdout interactions were filtered. Reason: not in the training data.\n",
      "37 userid's were filtered out from testset. Reason: inconsistent with holdout.\n",
      "=========================Fold 2=============================\n",
      "Preparing data...\n",
      "Done.\n",
      "PureSVD training time: 3.6486927830000013s\n",
      "3990 unique trackid's within 4142 testset interactions were filtered. Reason: not in the training data.\n",
      "439 unique trackid's within 440 holdout interactions were filtered. Reason: not in the training data.\n",
      "1 userid's were filtered out from holdout. Reason: inconsistent with testset.\n",
      "34 userid's were filtered out from testset. Reason: inconsistent with holdout.\n",
      "=========================Fold 3=============================\n",
      "Preparing data...\n",
      "Done.\n",
      "PureSVD training time: 4.912888694999992s\n",
      "5336 unique trackid's within 5542 testset interactions were filtered. Reason: not in the training data.\n",
      "617 unique trackid's within 617 holdout interactions were filtered. Reason: not in the training data.\n",
      "29 userid's were filtered out from testset. Reason: inconsistent with holdout.\n",
      "=========================Fold 4=============================\n",
      "Preparing data...\n",
      "Done.\n",
      "PureSVD training time: 4.444569137999963s\n",
      "4785 unique trackid's within 4942 testset interactions were filtered. Reason: not in the training data.\n",
      "584 unique trackid's within 585 holdout interactions were filtered. Reason: not in the training data.\n",
      "32 userid's were filtered out from testset. Reason: inconsistent with holdout.\n",
      "=========================Fold 5=============================\n",
      "Preparing data...\n",
      "Done.\n",
      "PureSVD training time: 4.210910275999993s\n",
      "6032 unique trackid's within 6226 testset interactions were filtered. Reason: not in the training data.\n",
      "652 unique trackid's within 656 holdout interactions were filtered. Reason: not in the training data.\n",
      "33 userid's were filtered out from testset. Reason: inconsistent with holdout.\n"
     ]
    },
    {
     "name": "stderr",
     "output_type": "stream",
     "text": [
      "\r",
      " 75%|███████▌  | 6/8 [00:51<00:17,  8.64s/it]"
     ]
    },
    {
     "name": "stdout",
     "output_type": "stream",
     "text": [
      "             ===========rank=400=============\n",
      "(68009, 3)\n",
      "=========================Fold 1=============================\n",
      "Preparing data...\n",
      "Done.\n",
      "PureSVD training time: 7.772904670000003s\n",
      "5293 unique trackid's within 5443 testset interactions were filtered. Reason: not in the training data.\n",
      "580 unique trackid's within 581 holdout interactions were filtered. Reason: not in the training data.\n",
      "37 userid's were filtered out from testset. Reason: inconsistent with holdout.\n",
      "=========================Fold 2=============================\n",
      "Preparing data...\n",
      "Done.\n",
      "PureSVD training time: 7.348831279000024s\n",
      "3990 unique trackid's within 4142 testset interactions were filtered. Reason: not in the training data.\n",
      "439 unique trackid's within 440 holdout interactions were filtered. Reason: not in the training data.\n",
      "1 userid's were filtered out from holdout. Reason: inconsistent with testset.\n",
      "34 userid's were filtered out from testset. Reason: inconsistent with holdout.\n",
      "=========================Fold 3=============================\n",
      "Preparing data...\n",
      "Done.\n",
      "PureSVD training time: 7.295791558000019s\n",
      "5336 unique trackid's within 5542 testset interactions were filtered. Reason: not in the training data.\n",
      "617 unique trackid's within 617 holdout interactions were filtered. Reason: not in the training data.\n",
      "29 userid's were filtered out from testset. Reason: inconsistent with holdout.\n",
      "=========================Fold 4=============================\n",
      "Preparing data...\n",
      "Done.\n",
      "PureSVD training time: 6.702836332999993s\n",
      "4785 unique trackid's within 4942 testset interactions were filtered. Reason: not in the training data.\n",
      "584 unique trackid's within 585 holdout interactions were filtered. Reason: not in the training data.\n",
      "32 userid's were filtered out from testset. Reason: inconsistent with holdout.\n",
      "=========================Fold 5=============================\n",
      "Preparing data...\n",
      "Done.\n",
      "PureSVD training time: 7.255607471000019s\n",
      "6032 unique trackid's within 6226 testset interactions were filtered. Reason: not in the training data.\n",
      "652 unique trackid's within 656 holdout interactions were filtered. Reason: not in the training data.\n",
      "33 userid's were filtered out from testset. Reason: inconsistent with holdout.\n"
     ]
    },
    {
     "name": "stderr",
     "output_type": "stream",
     "text": [
      "\r",
      " 88%|████████▊ | 7/8 [01:32<00:13, 13.17s/it]"
     ]
    },
    {
     "name": "stdout",
     "output_type": "stream",
     "text": [
      "             ===========rank=500=============\n",
      "(68009, 3)\n",
      "=========================Fold 1=============================\n",
      "Preparing data...\n",
      "Done.\n",
      "PureSVD training time: 7.387504723000006s\n",
      "5293 unique trackid's within 5443 testset interactions were filtered. Reason: not in the training data.\n",
      "580 unique trackid's within 581 holdout interactions were filtered. Reason: not in the training data.\n",
      "37 userid's were filtered out from testset. Reason: inconsistent with holdout.\n",
      "=========================Fold 2=============================\n",
      "Preparing data...\n",
      "Done.\n",
      "PureSVD training time: 7.063647445000015s\n",
      "3990 unique trackid's within 4142 testset interactions were filtered. Reason: not in the training data.\n",
      "439 unique trackid's within 440 holdout interactions were filtered. Reason: not in the training data.\n",
      "1 userid's were filtered out from holdout. Reason: inconsistent with testset.\n",
      "34 userid's were filtered out from testset. Reason: inconsistent with holdout.\n",
      "=========================Fold 3=============================\n",
      "Preparing data...\n",
      "Done.\n",
      "PureSVD training time: 7.127106810999976s\n",
      "5336 unique trackid's within 5542 testset interactions were filtered. Reason: not in the training data.\n",
      "617 unique trackid's within 617 holdout interactions were filtered. Reason: not in the training data.\n",
      "29 userid's were filtered out from testset. Reason: inconsistent with holdout.\n",
      "=========================Fold 4=============================\n",
      "Preparing data...\n",
      "Done.\n",
      "PureSVD training time: 7.209105378999993s\n",
      "4785 unique trackid's within 4942 testset interactions were filtered. Reason: not in the training data.\n",
      "584 unique trackid's within 585 holdout interactions were filtered. Reason: not in the training data.\n",
      "32 userid's were filtered out from testset. Reason: inconsistent with holdout.\n",
      "=========================Fold 5=============================\n",
      "Preparing data...\n",
      "Done.\n",
      "PureSVD training time: 7.327539735000016s\n",
      "6032 unique trackid's within 6226 testset interactions were filtered. Reason: not in the training data.\n",
      "652 unique trackid's within 656 holdout interactions were filtered. Reason: not in the training data.\n",
      "33 userid's were filtered out from testset. Reason: inconsistent with holdout.\n"
     ]
    },
    {
     "name": "stderr",
     "output_type": "stream",
     "text": [
      "100%|██████████| 8/8 [02:13<00:00, 16.63s/it]\n"
     ]
    }
   ],
   "source": [
    "topks = [500]\n",
    "ranks = [10, 25, 50, 100, 200, 300, 400, 500]\n",
    "recall = []\n",
    "nDCG = []\n",
    "precision = []\n",
    "miss_rate = []\n",
    "for rank in tqdm.tqdm(ranks):\n",
    "    print('             ===========rank={}============='.format(rank))\n",
    "    print(data.shape)\n",
    "    result = cross_validation_svd(data, topk=500, test_size=0.1, rank=rank)\n",
    "    recall.append(result.recall.mean())\n",
    "    nDCG.append(result.nDCG.mean())\n",
    "    precision.append(result.precision.mean())\n",
    "    miss_rate.append(result.miss_rate.mean())"
   ]
  },
  {
   "cell_type": "code",
   "execution_count": 12,
   "metadata": {},
   "outputs": [
    {
     "data": {
      "image/png": "[encoded data removed]",
      "text/plain": [
       "<Figure size 864x576 with 1 Axes>"
      ]
     },
     "metadata": {},
     "output_type": "display_data"
    }
   ],
   "source": [
    "import matplotlib.pyplot as plt\n",
    "plt.style.use('seaborn')\n",
    "plt.figure(figsize=(12,8))\n",
    "plt.plot(ranks, recall, 'orange', label='recall')\n",
    "plt.plot(ranks, nDCG,label='nDCG')\n",
    "plt.plot(ranks, precision, label='precision')\n",
    "plt.plot(ranks, miss_rate, label='miss_rate')\n",
    "plt.ylabel('evalution')\n",
    "plt.xlabel('topk')\n",
    "plt.legend()\n",
    "plt.show()"
   ]
  },
  {
   "cell_type": "code",
   "execution_count": 13,
   "metadata": {},
   "outputs": [
    {
     "data": {
      "image/png": "[encoded data removed]",
      "text/plain": [
       "<Figure size 360x288 with 1 Axes>"
      ]
     },
     "metadata": {},
     "output_type": "display_data"
    }
   ],
   "source": [
    "plt.style.use('seaborn')\n",
    "plt.figure(figsize=(5,4))\n",
    "plt.plot(ranks, recall)\n",
    "plt.ylabel('recall')\n",
    "plt.xlabel('rank')\n",
    "plt.show()"
   ]
  },
  {
   "cell_type": "code",
   "execution_count": 14,
   "metadata": {},
   "outputs": [
    {
     "data": {
      "image/png": "[encoded data removed]",
      "text/plain": [
       "<Figure size 360x288 with 1 Axes>"
      ]
     },
     "metadata": {},
     "output_type": "display_data"
    }
   ],
   "source": [
    "plt.style.use('seaborn')\n",
    "plt.figure(figsize=(5,4))\n",
    "plt.plot(ranks, precision)\n",
    "plt.ylabel('precision')\n",
    "plt.xlabel('rank')\n",
    "plt.show()"
   ]
  },
  {
   "cell_type": "code",
   "execution_count": 23,
   "metadata": {},
   "outputs": [
    {
     "data": {
      "text/plain": [
       "(265464,)"
      ]
     },
     "execution_count": 23,
     "metadata": {},
     "output_type": "execute_result"
    }
   ],
   "source": [
    "data.trackid.unique().shape"
   ]
  },
  {
   "cell_type": "code",
   "execution_count": null,
   "metadata": {},
   "outputs": [],
   "source": []
  }
 ],
 "metadata": {
  "kernelspec": {
   "display_name": "Python 3",
   "language": "python",
   "name": "python3"
  },
  "language_info": {
   "codemirror_mode": {
    "name": "ipython",
    "version": 3
   },
   "file_extension": ".py",
   "mimetype": "text/x-python",
   "name": "python",
   "nbconvert_exporter": "python",
   "pygments_lexer": "ipython3",
   "version": "3.5.2"
  }
 },
 "nbformat": 4,
 "nbformat_minor": 2
}
