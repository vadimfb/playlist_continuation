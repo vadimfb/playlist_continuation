{
 "cells": [
  {
   "cell_type": "code",
   "execution_count": 40,
   "metadata": {},
   "outputs": [],
   "source": [
    "import pandas as pd"
   ]
  },
  {
   "cell_type": "markdown",
   "metadata": {},
   "source": [
    "## Загружаем данные"
   ]
  },
  {
   "cell_type": "code",
   "execution_count": 41,
   "metadata": {},
   "outputs": [],
   "source": [
    "data_dir = '../data/random_data'"
   ]
  },
  {
   "cell_type": "code",
   "execution_count": 42,
   "metadata": {},
   "outputs": [],
   "source": [
    "tracks = pd.read_csv('{}/tracks.csv'.format(data_dir), index_col=0)\n",
    "artists = pd.read_csv('{}/artists.csv'.format(data_dir), index_col=0)\n",
    "albums = pd.read_csv('{}/albums.csv'.format(data_dir), index_col=0)\n",
    "transactions = pd.read_csv('{}/transactions.csv'.format(data_dir), index_col=0)\n",
    "playlists = pd.read_csv('{}/playlists.csv'.format(data_dir), index_col=0)"
   ]
  },
  {
   "cell_type": "markdown",
   "metadata": {},
   "source": [
    "К каждой транзакции добавляем признаки популярность(popular), артист(artistid), альбом(albumid) трека, имя плейлиста(name), num_followers плейлиста"
   ]
  },
  {
   "cell_type": "code",
   "execution_count": 43,
   "metadata": {},
   "outputs": [],
   "source": [
    "def get_full_dataset(transactions, tracks, playlists):\n",
    "    full_dataset = pd.merge(transactions, tracks, how='left', on='trackid')\n",
    "    full_dataset = pd.merge(full_dataset, playlists, how='left', on='pid')\n",
    "    return full_dataset"
   ]
  },
  {
   "cell_type": "markdown",
   "metadata": {},
   "source": [
    "Рейтинг определяем единичкой"
   ]
  },
  {
   "cell_type": "code",
   "execution_count": 44,
   "metadata": {
    "scrolled": true
   },
   "outputs": [
    {
     "data": {
      "text/html": [
       "<div>\n",
       "<style scoped>\n",
       "    .dataframe tbody tr th:only-of-type {\n",
       "        vertical-align: middle;\n",
       "    }\n",
       "\n",
       "    .dataframe tbody tr th {\n",
       "        vertical-align: top;\n",
       "    }\n",
       "\n",
       "    .dataframe thead th {\n",
       "        text-align: right;\n",
       "    }\n",
       "</style>\n",
       "<table border=\"1\" class=\"dataframe\">\n",
       "  <thead>\n",
       "    <tr style=\"text-align: right;\">\n",
       "      <th></th>\n",
       "      <th>pid</th>\n",
       "      <th>trackid</th>\n",
       "      <th>popular</th>\n",
       "      <th>artistid</th>\n",
       "      <th>albumid</th>\n",
       "      <th>name</th>\n",
       "      <th>num_followers</th>\n",
       "      <th>rating</th>\n",
       "    </tr>\n",
       "  </thead>\n",
       "  <tbody>\n",
       "    <tr>\n",
       "      <th>0</th>\n",
       "      <td>822032</td>\n",
       "      <td>2283</td>\n",
       "      <td>3384</td>\n",
       "      <td>1151</td>\n",
       "      <td>1618</td>\n",
       "      <td>party time</td>\n",
       "      <td>1</td>\n",
       "      <td>1</td>\n",
       "    </tr>\n",
       "    <tr>\n",
       "      <th>1</th>\n",
       "      <td>822032</td>\n",
       "      <td>2288</td>\n",
       "      <td>4339</td>\n",
       "      <td>1152</td>\n",
       "      <td>1622</td>\n",
       "      <td>party time</td>\n",
       "      <td>1</td>\n",
       "      <td>1</td>\n",
       "    </tr>\n",
       "    <tr>\n",
       "      <th>2</th>\n",
       "      <td>822032</td>\n",
       "      <td>907</td>\n",
       "      <td>4992</td>\n",
       "      <td>500</td>\n",
       "      <td>687</td>\n",
       "      <td>party time</td>\n",
       "      <td>1</td>\n",
       "      <td>1</td>\n",
       "    </tr>\n",
       "    <tr>\n",
       "      <th>3</th>\n",
       "      <td>822032</td>\n",
       "      <td>2289</td>\n",
       "      <td>1822</td>\n",
       "      <td>503</td>\n",
       "      <td>690</td>\n",
       "      <td>party time</td>\n",
       "      <td>1</td>\n",
       "      <td>1</td>\n",
       "    </tr>\n",
       "    <tr>\n",
       "      <th>4</th>\n",
       "      <td>822032</td>\n",
       "      <td>910</td>\n",
       "      <td>2160</td>\n",
       "      <td>503</td>\n",
       "      <td>690</td>\n",
       "      <td>party time</td>\n",
       "      <td>1</td>\n",
       "      <td>1</td>\n",
       "    </tr>\n",
       "  </tbody>\n",
       "</table>\n",
       "</div>"
      ],
      "text/plain": [
       "      pid  trackid  popular  artistid  albumid        name  num_followers  \\\n",
       "0  822032     2283     3384      1151     1618  party time              1   \n",
       "1  822032     2288     4339      1152     1622  party time              1   \n",
       "2  822032      907     4992       500      687  party time              1   \n",
       "3  822032     2289     1822       503      690  party time              1   \n",
       "4  822032      910     2160       503      690  party time              1   \n",
       "\n",
       "   rating  \n",
       "0       1  \n",
       "1       1  \n",
       "2       1  \n",
       "3       1  \n",
       "4       1  "
      ]
     },
     "execution_count": 44,
     "metadata": {},
     "output_type": "execute_result"
    }
   ],
   "source": [
    "full_dataset = get_full_dataset(transactions, tracks, playlists)\n",
    "full_dataset['rating'] = 1\n",
    "full_dataset.head()"
   ]
  },
  {
   "cell_type": "code",
   "execution_count": 45,
   "metadata": {},
   "outputs": [
    {
     "data": {
      "text/plain": [
       "(210950, 8)"
      ]
     },
     "execution_count": 45,
     "metadata": {},
     "output_type": "execute_result"
    }
   ],
   "source": [
    "full_dataset.shape"
   ]
  },
  {
   "cell_type": "markdown",
   "metadata": {},
   "source": [
    "Импортируем основные модули"
   ]
  },
  {
   "cell_type": "code",
   "execution_count": 46,
   "metadata": {},
   "outputs": [],
   "source": [
    "from polara.recommender.models import RecommenderModel\n",
    "from polara.recommender.data import RecommenderData\n",
    "import numpy as np\n",
    "from sklearn.neighbors import NearestNeighbors\n",
    "from sklearn.model_selection import KFold\n",
    "from scipy import sparse\n",
    "from polara.recommender.coldstart.data import ItemColdStartData\n",
    "from polara.recommender.models import SVDModel"
   ]
  },
  {
   "cell_type": "markdown",
   "metadata": {},
   "source": [
    "### Описания модели\n",
    "\n",
    "- $\\textbf{R}$ - матрица playlist-track\n",
    "- $\\textbf{X}$ - матрица playlist-feuture\n",
    "- $\\textbf{A}$ - матрица близости плейлистов\n",
    "- $\\textbf{D}$ - диагональная матрица суммы строк $\\textbf{A}$\n",
    "- $\\textbf{L} = D - A$ - лапласиан\n",
    "\n",
    "$$J = \\frac{1}{2}[\\alpha||\\textbf{R} - \\textbf{UV}||_F^2 + (1 - \\alpha)||\\textbf{X} - \\textbf{UH}||_F^2 + \\beta Tr(\\textbf{U}^T\\textbf{LU}) + \\lambda(||\\textbf{U}||_F^2 + ||\\textbf{V}||_F^2 + ||\\textbf{H}||_F^2]$$\n",
    "\n",
    "$$arg \\min_{\\textbf{U}, \\textbf{V}, \\textbf{H}} J$$\n",
    "$$s.t. U \\geq 0, V \\geq 0, H \\geq 0$$\n",
    "\n",
    "Обновление $\\textbf{U}, \\textbf{V} , \\textbf{H}$:\n",
    "\n",
    "- $$U = U * \\frac{\\alpha\\textbf{R}\\textbf{V}^T + (1 -\\alpha)\\textbf{X}\\textbf{H}^T + \\beta\\textbf{AU}}{\\alpha\\textbf{UV}\\textbf{V}^T + (1 - \\alpha)\\textbf{UH}\\textbf{H}^T + \\beta\\textbf{DU} + \\lambda\\textbf{U}}$$\n",
    "- $$V = V * \\frac{\\alpha\\textbf{U}^T\\textbf{R}}{\\alpha\\textbf{U}^T\\textbf{UV} + \\lambda\\textbf{V}}$$\n",
    "- $$H = H * \\frac{(1 - \\alpha)\\textbf{U}^T\\textbf{X}}{(1 - \\alpha)\\textbf{U}^T\\textbf{UH} + \\lambda\\textbf{H}}$$\n",
    "\n",
    "$*$ - поэлементное умножение\n",
    "$\\frac{\\dots}{\\dots}$ - поэлементное деление"
   ]
  },
  {
   "cell_type": "markdown",
   "metadata": {},
   "source": [
    "### Класс LocalCollectiveEmbeddings\n",
    "\n",
    "- get_train_content - получить признаки транзакций, content_data - df с признаками\n",
    "- get_content_shape - возвращает количество столбцов для каждого признака\n",
    "- get_training_content_matrix - возвращает матрицу features $n \\times v$ где n - кол-во плейлистов, v - количество признаков\n",
    "- get_test_content_matrix - аналогично для тестовой выборки\n",
    "- construct_closeness_matrix - строит матрицу близости плейлистов для по признакому описанию\n",
    "- update_factors - обновляет матрицы U, V, H по правилам выше\n",
    "- build - возвращает матрицу факторов плейлистов, треков, признаков\n",
    "    - аргументы df с признаками, параметры модели, maxiter, verbose"
   ]
  },
  {
   "cell_type": "code",
   "execution_count": 47,
   "metadata": {},
   "outputs": [],
   "source": [
    "class LocalCollectiveEmbeddings(RecommenderModel):\n",
    "    import scipy.sparse\n",
    "    \n",
    "    def __init__(self, *args, **kwargs):\n",
    "        super(LocalCollectiveEmbeddings, self).__init__(*args, **kwargs)\n",
    "        self.method = 'LCE'\n",
    "    \n",
    "    def get_train_content(self, content_data):\n",
    "        self.train_content = content_data\n",
    "    \n",
    "    def get_content_shape(self):\n",
    "        self.content_shape = {}\n",
    "        for col in self.train_content.columns:\n",
    "            self.content_shape[col] = self.train_content[col].max() + 1\n",
    "\n",
    "    def get_training_content_matrix(self):\n",
    "        self.get_content_shape()\n",
    "        idx_userid = self.data.training[self.data.fields[0]].values\n",
    "        val = np.ones(self.data.training.shape[0])\n",
    "        \n",
    "        i = 0\n",
    "        features = []\n",
    "        \n",
    "        for col in self.train_content.columns:\n",
    "            idx_feature = self.train_content[col].values\n",
    "            shp = (idx_userid.max() + 1, \n",
    "                   self.content_shape[col])\n",
    "        \n",
    "            features_new = sparse.csr_matrix((val, (idx_userid, idx_feature)), \n",
    "                                             shape=shp)\n",
    "            \n",
    "            if i == 0:\n",
    "                features = features_new\n",
    "            else:\n",
    "                features = sparse.hstack((features, features_new))\n",
    "            \n",
    "            i += 1\n",
    "        \n",
    "        return features\n",
    "    \n",
    "    def get_test_content_matrix(self):\n",
    "        idx_userid = self.data.test.testset[self.data.fields[0]].values\n",
    "        val = np.ones(self.data.test.testset.shape[0])\n",
    "        \n",
    "        i = 0\n",
    "        features = []\n",
    "        \n",
    "        for col in self.train_content.columns:\n",
    "            idx_feature = self.data.test.testset[col].values\n",
    "            shp = (idx_userid.max() + 1, \n",
    "                   self.content_shape[col])\n",
    "        \n",
    "            features_new = sparse.csr_matrix((val, (idx_userid, idx_feature)), \n",
    "                                             shape=shp)\n",
    "            \n",
    "            if i == 0:\n",
    "                features = features_new\n",
    "            else:\n",
    "                features = sparse.hstack((features, features_new))\n",
    "            \n",
    "            i += 1\n",
    "        \n",
    "        \n",
    "        return features\n",
    "        \n",
    "        \n",
    "    def construct_closeness_matrix(self, X, rank, binary=False):\n",
    "        print ('Construct closeness matrix...')\n",
    "        nbrs = NearestNeighbors(n_neighbors=1 + rank).fit(X)\n",
    "        if binary:\n",
    "            closeness_matrix = nbrs.kneighbors_graph(X)\n",
    "        else:\n",
    "            closeness_matrix = nbrs.kneighbors_graph(X, mode='distance')\n",
    "        print ('Done.')\n",
    "            \n",
    "        return closeness_matrix\n",
    "    \n",
    "    def get_constant(self, R, X):\n",
    "        trRtR = tr(R, R)\n",
    "        trXtX = tr(X, X)\n",
    "        return trRtR, trXtX\n",
    "    \n",
    "    def update_factors(self, R, X, U, V, H, A, D, \n",
    "                       alpha, beta, lamb):\n",
    "        \n",
    "        gamma = 1. - alpha\n",
    "        \n",
    "        UtU = U.T.dot(U)\n",
    "        UtR = U.T.dot(R)\n",
    "        UtX = U.T.dot(X)\n",
    "        UtUV = UtU.dot(V)\n",
    "        UtUH = UtU.dot(H)\n",
    "        DU = D.dot(U)\n",
    "        AU = A.dot(U)\n",
    "        \n",
    "        #update V\n",
    "        V_1 = np.divide((alpha * UtR), \n",
    "                        (alpha * UtUV + lamb * V).maximum(1e-10))\n",
    "        V = V.multiply(V_1)\n",
    "            \n",
    "        #update H\n",
    "        H_1 = np.divide(\n",
    "            (gamma * UtX), (gamma * UtUH + lamb * H).maximum(1e-10))\n",
    "        H = H.multiply(H_1)\n",
    "            \n",
    "        # update U\n",
    "        U_t1 = alpha * R.dot(V.T) + gamma * X.dot(H.T) + beta * AU\n",
    "        U_t2 = alpha * U.dot(V.dot(V.T)) + gamma * \\\n",
    "        U.dot(H.dot(H.T)) + beta * DU + lamb * U\n",
    "            \n",
    "        U_t3 = np.divide(U_t1, (U_t2).maximum(1e-10))\n",
    "        U = U.multiply(U_t3)\n",
    "        \n",
    "        #calculate oblective function without constant\n",
    "        \n",
    "        tr1 = alpha * ((-2.) * tr(V, UtR) + tr(V, UtUV))\n",
    "        tr2 = gamma * ((-2.) * tr(H, UtX) + tr(H, UtUH))\n",
    "        tr3 = beta * (tr(U, DU) - tr(U, AU))\n",
    "        tr4 = lamb * (UtU.diagonal().sum() + tr(V, V) + tr(H, H))\n",
    "\n",
    "        Obj = tr1 + tr2 + tr3 + tr4\n",
    "        \n",
    "        \n",
    "        return U, V, H, Obj\n",
    "        \n",
    "        \n",
    "        \n",
    "    def build(self, content_data, \n",
    "              rank=10, alpha=0.1, beta=0.005, lamb=0.0001, \n",
    "              epsilon=0.01, seed=0,maxiter=150, verbose=True):\n",
    "        \n",
    "        self.get_train_content(content_data)\n",
    "        \n",
    "        R = self.get_training_matrix(dtype='float64')\n",
    "        X = self.get_training_content_matrix()\n",
    "        A = self.construct_closeness_matrix(X, rank, binary=True).tocsr()\n",
    "        \n",
    "        num_users = R.shape[0]\n",
    "        num_items = R.shape[1]\n",
    "        num_features = X.shape[1]\n",
    "        \n",
    "        U = np.abs(sparse.rand(num_users, rank, 0.99, 'csr', dtype=R.dtype, random_state=seed))\n",
    "        V = np.abs(sparse.rand(rank, num_items, 0.99, 'csr', dtype=R.dtype, random_state=seed))\n",
    "        H = np.abs(sparse.rand(rank, num_features, 0.99, 'csr', dtype=R.dtype, random_state=seed))\n",
    "        \n",
    "        \n",
    "        #auxiliary constant   \n",
    "        D = sparse.dia_matrix((A.sum(axis=0), 0), A.shape)\n",
    "        trRtR, trXtX = self.get_constant(R, X)\n",
    "\n",
    "        itNum = 1\n",
    "        delta = 2.0 * epsilon\n",
    "\n",
    "        ObjHist = []\n",
    "        \n",
    "        while True:\n",
    "\n",
    "            U, V, H, Obj = self.update_factors(R, X, U, V, H, A, D, \n",
    "                                               alpha, beta, lamb)\n",
    "            Obj += alpha*trRtR + (1. - alpha)*trXtX\n",
    "            Obj = Obj / (num_users * num_features * num_items * rank)\n",
    "            ObjHist.append(Obj)\n",
    "            \n",
    "            if itNum > 1:\n",
    "                delta = abs(ObjHist[-1] - ObjHist[-2])\n",
    "                if verbose:\n",
    "                    print (\"Iteration: \", itNum, \"Objective: \", Obj, \"Delta: \", delta)\n",
    "                if itNum > maxiter or delta < epsilon:\n",
    "                    break\n",
    "\n",
    "            itNum += 1\n",
    "            \n",
    "        self.user_factors = U\n",
    "        self.feature_factors = H \n",
    "        self.item_factors = V\n",
    "        \n",
    "        \n",
    "    def slice_recommendations(self, test_data, shape, start, stop, test_users=None):\n",
    "        slice_data = self._slice_test_data(test_data, start, stop)\n",
    "        features = self.get_test_content_matrix()\n",
    "        Ut = np.linalg.lstsq(self.feature_factors.T.toarray(), \n",
    "                             features.T.toarray(), rcond=-1)[0]\n",
    "        R = Ut.T.dot(self.item_factors.toarray())\n",
    "        return R, slice_data"
   ]
  },
  {
   "cell_type": "code",
   "execution_count": 48,
   "metadata": {},
   "outputs": [],
   "source": [
    "def reindex_content(content_data, col, sort=True, inplace=True):\n",
    "    grouper = content_data.groupby(col, sort=sort).grouper\n",
    "    new_val = grouper.group_info[1]\n",
    "    old_val = grouper.levels[0]\n",
    "    print (new_val.shape, old_val.shape)\n",
    "    val_transform = pd.DataFrame({'old': old_val, 'new': new_val})\n",
    "    new_data = grouper.group_info[0]\n",
    "\n",
    "    if inplace:\n",
    "        result = val_transform\n",
    "        content_data.loc[:, col] = new_data\n",
    "    else:\n",
    "        result = (new_data, val_transform)\n",
    "    return result\n",
    "        \n",
    "def reindex_content_columns(content_data, columns):\n",
    "    index_content = {}\n",
    "    for col in columns:\n",
    "        index_content[col] = reindex_content(content_data, col)\n",
    "    return index_content"
   ]
  },
  {
   "cell_type": "code",
   "execution_count": 49,
   "metadata": {},
   "outputs": [],
   "source": [
    "def tr(A, B):\n",
    "    x = A.multiply(B)\n",
    "    return (x.sum(axis=0)).sum(axis=1)"
   ]
  },
  {
   "cell_type": "code",
   "execution_count": 50,
   "metadata": {},
   "outputs": [],
   "source": [
    "def cross_validation_lce(data, n_splits=5, seed=1, test_size=0.05, \n",
    "                         topk=500, rank=10, maxiter=10000, epsilon=0.1, \n",
    "                         alpha=.9, lamb=0.001, beta=0.05):\n",
    "    \n",
    "    index_content = reindex_content_columns(data, ['artistid', 'albumid'])\n",
    "    \n",
    "    kf = KFold(n_splits=n_splits, random_state=seed)\n",
    "    i = 1\n",
    "    scores_lce = {'precision': [], 'recall': [], 'miss_rate': [], 'nDCG': []}\n",
    "    scores_svd = {'precision': [], 'recall': [], 'miss_rate': [], 'nDCG': []}\n",
    "    for users_ids, unseen_users_ids in kf.split(data['pid'].drop_duplicates()):\n",
    "        print('=========================Fold {}============================='.format(i))\n",
    "        i += 1\n",
    "        users = data['pid'].drop_duplicates().values[users_ids]\n",
    "        unseen_users = data['pid'].drop_duplicates().values[unseen_users_ids]\n",
    "        train = data.query('pid in @users')\n",
    "        test = data.query('pid in @unseen_users')\n",
    "        train_albums = train.albumid.unique()\n",
    "        train_artists = train.artistid.unique()\n",
    "        test = test.query('albumid in @train_albums')\n",
    "        test = test.query('artistid in @train_artists')\n",
    "        test_sampled = test.sample(frac=1-test_size, random_state=seed).sort_values('pid')\n",
    "        test_holdout = test[~test.index.isin(test_sampled.index)]\n",
    "        \n",
    "        data_model = RecommenderData(train,'pid', 'trackid', 'rating', seed=seed)\n",
    "        data_model.prepare_training_only()\n",
    "        lce = LocalCollectiveEmbeddings(data_model)\n",
    "        %time lce.build(train[['artistid']], verbose=False, rank=rank, maxiter=maxiter, alpha=alpha, epsilon=epsilon, beta=beta, lamb=lamb)\n",
    "        \n",
    "        svd = SVDModel(data_model)\n",
    "        svd.rank = rank\n",
    "        svd.build()\n",
    "        \n",
    "        data_model.set_test_data(testset=test_sampled, holdout=test_holdout, warm_start=True)\n",
    "        lce.topk = topk\n",
    "        lce.swith_positive = 1\n",
    "        \n",
    "        svd.topk = topk\n",
    "        svd.swith_positive = 1\n",
    "        \n",
    "        hits = lce.evaluate()\n",
    "        relevance = lce.evaluate('relevance')\n",
    "        ranking = lce.evaluate('ranking')\n",
    "        \n",
    "        scores_lce['precision'].append(relevance.precision)\n",
    "        scores_lce['recall'].append(relevance.recall)\n",
    "        scores_lce['miss_rate'].append(relevance.miss_rate)\n",
    "        scores_lce['nDCG'].append(ranking.nDCG)\n",
    "        \n",
    "        print('lce hits', hits)\n",
    "        \n",
    "        hits = svd.evaluate()\n",
    "        relevance = svd.evaluate('relevance')\n",
    "        ranking = svd.evaluate('ranking')        \n",
    "        \n",
    "        scores_svd['precision'].append(relevance.precision)\n",
    "        scores_svd['recall'].append(relevance.recall)\n",
    "        scores_svd['miss_rate'].append(relevance.miss_rate)\n",
    "        scores_svd['nDCG'].append(ranking.nDCG)\n",
    "        \n",
    "        print ('svd hits', hits)\n",
    "        \n",
    "    result_lce = pd.DataFrame(scores_lce)\n",
    "    result_svd = pd.DataFrame(scores_svd)\n",
    "    return result_lce, result_svd"
   ]
  },
  {
   "cell_type": "code",
   "execution_count": 51,
   "metadata": {},
   "outputs": [],
   "source": [
    "import tqdm"
   ]
  },
  {
   "cell_type": "code",
   "execution_count": 52,
   "metadata": {
    "scrolled": true
   },
   "outputs": [
    {
     "name": "stderr",
     "output_type": "stream",
     "text": [
      "\r",
      "  0%|          | 0/5 [00:00<?, ?it/s]"
     ]
    },
    {
     "name": "stdout",
     "output_type": "stream",
     "text": [
      "             ===========rank=5=============\n",
      "(4243,) (4243,)\n",
      "(6824,) (6824,)\n",
      "=========================Fold 1=============================\n",
      "Preparing data...\n",
      "Done.\n",
      "Construct closeness matrix...\n",
      "Done.\n"
     ]
    },
    {
     "name": "stderr",
     "output_type": "stream",
     "text": [
      "/usr/local/lib/python3.5/dist-packages/scipy/sparse/compressed.py:538: SparseEfficiencyWarning: Taking maximum (minimum) with > 0 (< 0) number results to a dense matrix.\n",
      "  SparseEfficiencyWarning)\n"
     ]
    },
    {
     "name": "stdout",
     "output_type": "stream",
     "text": [
      "CPU times: user 3.14 s, sys: 408 ms, total: 3.54 s\n",
      "Wall time: 3.61 s\n",
      "PureSVD training time: 0.18608613000105834s\n",
      "107 unique trackid's within 120 testset interactions were filtered. Reason: not in the training data.\n",
      "15 unique trackid's within 15 holdout interactions were filtered. Reason: not in the training data.\n",
      "312 pid's were filtered out from testset. Reason: inconsistent with holdout.\n",
      "lce hits Hits(true_positive=255, false_positive=11925, true_negative=None, false_negative=3971)\n",
      "svd hits Hits(true_positive=291, false_positive=11889, true_negative=None, false_negative=3935)\n",
      "=========================Fold 2=============================\n",
      "Preparing data...\n",
      "Done.\n",
      "Construct closeness matrix...\n",
      "Done.\n"
     ]
    },
    {
     "name": "stderr",
     "output_type": "stream",
     "text": [
      "/usr/local/lib/python3.5/dist-packages/scipy/sparse/compressed.py:538: SparseEfficiencyWarning: Taking maximum (minimum) with > 0 (< 0) number results to a dense matrix.\n",
      "  SparseEfficiencyWarning)\n"
     ]
    },
    {
     "name": "stdout",
     "output_type": "stream",
     "text": [
      "CPU times: user 3.83 s, sys: 408 ms, total: 4.24 s\n",
      "Wall time: 4.24 s\n",
      "PureSVD training time: 0.06546096899910481s\n",
      "91 unique trackid's within 102 testset interactions were filtered. Reason: not in the training data.\n",
      "15 unique trackid's within 15 holdout interactions were filtered. Reason: not in the training data.\n",
      "326 pid's were filtered out from testset. Reason: inconsistent with holdout.\n",
      "lce hits Hits(true_positive=228, false_positive=11812, true_negative=None, false_negative=3852)\n",
      "svd hits Hits(true_positive=275, false_positive=11765, true_negative=None, false_negative=3805)\n",
      "=========================Fold 3=============================\n",
      "Preparing data...\n",
      "Done.\n",
      "Construct closeness matrix...\n",
      "Done.\n"
     ]
    },
    {
     "name": "stderr",
     "output_type": "stream",
     "text": [
      "/usr/local/lib/python3.5/dist-packages/scipy/sparse/compressed.py:538: SparseEfficiencyWarning: Taking maximum (minimum) with > 0 (< 0) number results to a dense matrix.\n",
      "  SparseEfficiencyWarning)\n"
     ]
    },
    {
     "name": "stdout",
     "output_type": "stream",
     "text": [
      "CPU times: user 12.2 s, sys: 450 ms, total: 12.7 s\n",
      "Wall time: 12.7 s\n",
      "PureSVD training time: 0.0714848180032277s\n",
      "98 unique trackid's within 109 testset interactions were filtered. Reason: not in the training data.\n",
      "9 unique trackid's within 9 holdout interactions were filtered. Reason: not in the training data.\n",
      "304 pid's were filtered out from testset. Reason: inconsistent with holdout.\n",
      "lce hits Hits(true_positive=240, false_positive=12020, true_negative=None, false_negative=3947)\n",
      "svd hits Hits(true_positive=283, false_positive=11977, true_negative=None, false_negative=3904)\n",
      "=========================Fold 4=============================\n",
      "Preparing data...\n",
      "Done.\n",
      "Construct closeness matrix...\n",
      "Done.\n"
     ]
    },
    {
     "name": "stderr",
     "output_type": "stream",
     "text": [
      "/usr/local/lib/python3.5/dist-packages/scipy/sparse/compressed.py:538: SparseEfficiencyWarning: Taking maximum (minimum) with > 0 (< 0) number results to a dense matrix.\n",
      "  SparseEfficiencyWarning)\n"
     ]
    },
    {
     "name": "stdout",
     "output_type": "stream",
     "text": [
      "CPU times: user 10.3 s, sys: 464 ms, total: 10.8 s\n",
      "Wall time: 10.8 s\n",
      "PureSVD training time: 0.08086741599981906s\n",
      "93 unique trackid's within 102 testset interactions were filtered. Reason: not in the training data.\n",
      "15 unique trackid's within 15 holdout interactions were filtered. Reason: not in the training data.\n",
      "1 pid's were filtered out from holdout. Reason: inconsistent with testset.\n",
      "330 pid's were filtered out from testset. Reason: inconsistent with holdout.\n",
      "lce hits Hits(true_positive=215, false_positive=11755, true_negative=None, false_negative=3853)\n",
      "svd hits Hits(true_positive=250, false_positive=11720, true_negative=None, false_negative=3818)\n",
      "=========================Fold 5=============================\n",
      "Preparing data...\n",
      "Done.\n",
      "Construct closeness matrix...\n",
      "Done.\n"
     ]
    },
    {
     "name": "stderr",
     "output_type": "stream",
     "text": [
      "/usr/local/lib/python3.5/dist-packages/scipy/sparse/compressed.py:538: SparseEfficiencyWarning: Taking maximum (minimum) with > 0 (< 0) number results to a dense matrix.\n",
      "  SparseEfficiencyWarning)\n"
     ]
    },
    {
     "name": "stdout",
     "output_type": "stream",
     "text": [
      "CPU times: user 8.95 s, sys: 372 ms, total: 9.32 s\n",
      "Wall time: 9.33 s\n",
      "PureSVD training time: 0.11403649699786911s\n",
      "101 unique trackid's within 116 testset interactions were filtered. Reason: not in the training data.\n",
      "12 unique trackid's within 12 holdout interactions were filtered. Reason: not in the training data.\n",
      "315 pid's were filtered out from testset. Reason: inconsistent with holdout.\n",
      "lce hits Hits(true_positive=257, false_positive=11893, true_negative=None, false_negative=3900)\n"
     ]
    },
    {
     "name": "stderr",
     "output_type": "stream",
     "text": [
      "\r",
      " 20%|██        | 1/5 [00:48<03:13, 48.32s/it]"
     ]
    },
    {
     "name": "stdout",
     "output_type": "stream",
     "text": [
      "svd hits Hits(true_positive=296, false_positive=11854, true_negative=None, false_negative=3861)\n",
      "             ===========rank=10=============\n",
      "(4243,) (4243,)\n",
      "(6824,) (6824,)\n",
      "=========================Fold 1=============================\n",
      "Preparing data...\n",
      "Done.\n",
      "Construct closeness matrix...\n",
      "Done.\n"
     ]
    },
    {
     "name": "stderr",
     "output_type": "stream",
     "text": [
      "/usr/local/lib/python3.5/dist-packages/scipy/sparse/compressed.py:538: SparseEfficiencyWarning: Taking maximum (minimum) with > 0 (< 0) number results to a dense matrix.\n",
      "  SparseEfficiencyWarning)\n"
     ]
    },
    {
     "name": "stdout",
     "output_type": "stream",
     "text": [
      "CPU times: user 21.8 s, sys: 400 ms, total: 22.2 s\n",
      "Wall time: 22.2 s\n",
      "PureSVD training time: 0.13628845399944112s\n",
      "107 unique trackid's within 120 testset interactions were filtered. Reason: not in the training data.\n",
      "15 unique trackid's within 15 holdout interactions were filtered. Reason: not in the training data.\n",
      "312 pid's were filtered out from testset. Reason: inconsistent with holdout.\n",
      "lce hits Hits(true_positive=342, false_positive=11838, true_negative=None, false_negative=3884)\n",
      "svd hits Hits(true_positive=420, false_positive=11760, true_negative=None, false_negative=3806)\n",
      "=========================Fold 2=============================\n",
      "Preparing data...\n",
      "Done.\n",
      "Construct closeness matrix...\n",
      "Done.\n"
     ]
    },
    {
     "name": "stderr",
     "output_type": "stream",
     "text": [
      "/usr/local/lib/python3.5/dist-packages/scipy/sparse/compressed.py:538: SparseEfficiencyWarning: Taking maximum (minimum) with > 0 (< 0) number results to a dense matrix.\n",
      "  SparseEfficiencyWarning)\n"
     ]
    },
    {
     "name": "stdout",
     "output_type": "stream",
     "text": [
      "CPU times: user 24.3 s, sys: 480 ms, total: 24.8 s\n",
      "Wall time: 24.8 s\n",
      "PureSVD training time: 0.11095396699965931s\n",
      "91 unique trackid's within 102 testset interactions were filtered. Reason: not in the training data.\n",
      "15 unique trackid's within 15 holdout interactions were filtered. Reason: not in the training data.\n",
      "326 pid's were filtered out from testset. Reason: inconsistent with holdout.\n",
      "lce hits Hits(true_positive=328, false_positive=11712, true_negative=None, false_negative=3752)\n",
      "svd hits Hits(true_positive=409, false_positive=11631, true_negative=None, false_negative=3671)\n",
      "=========================Fold 3=============================\n",
      "Preparing data...\n",
      "Done.\n",
      "Construct closeness matrix...\n",
      "Done.\n"
     ]
    },
    {
     "name": "stderr",
     "output_type": "stream",
     "text": [
      "/usr/local/lib/python3.5/dist-packages/scipy/sparse/compressed.py:538: SparseEfficiencyWarning: Taking maximum (minimum) with > 0 (< 0) number results to a dense matrix.\n",
      "  SparseEfficiencyWarning)\n"
     ]
    },
    {
     "name": "stdout",
     "output_type": "stream",
     "text": [
      "CPU times: user 4.78 s, sys: 416 ms, total: 5.2 s\n",
      "Wall time: 5.19 s\n",
      "PureSVD training time: 0.09140758399735205s\n",
      "98 unique trackid's within 109 testset interactions were filtered. Reason: not in the training data.\n",
      "9 unique trackid's within 9 holdout interactions were filtered. Reason: not in the training data.\n",
      "304 pid's were filtered out from testset. Reason: inconsistent with holdout.\n",
      "lce hits Hits(true_positive=352, false_positive=11908, true_negative=None, false_negative=3835)\n",
      "svd hits Hits(true_positive=420, false_positive=11840, true_negative=None, false_negative=3767)\n",
      "=========================Fold 4=============================\n",
      "Preparing data...\n",
      "Done.\n",
      "Construct closeness matrix...\n",
      "Done.\n"
     ]
    },
    {
     "name": "stderr",
     "output_type": "stream",
     "text": [
      "/usr/local/lib/python3.5/dist-packages/scipy/sparse/compressed.py:538: SparseEfficiencyWarning: Taking maximum (minimum) with > 0 (< 0) number results to a dense matrix.\n",
      "  SparseEfficiencyWarning)\n"
     ]
    },
    {
     "name": "stdout",
     "output_type": "stream",
     "text": [
      "CPU times: user 22.8 s, sys: 436 ms, total: 23.2 s\n",
      "Wall time: 23.2 s\n",
      "PureSVD training time: 0.0860151130000304s\n",
      "93 unique trackid's within 102 testset interactions were filtered. Reason: not in the training data.\n",
      "15 unique trackid's within 15 holdout interactions were filtered. Reason: not in the training data.\n",
      "1 pid's were filtered out from holdout. Reason: inconsistent with testset.\n",
      "330 pid's were filtered out from testset. Reason: inconsistent with holdout.\n",
      "lce hits Hits(true_positive=293, false_positive=11677, true_negative=None, false_negative=3775)\n",
      "svd hits Hits(true_positive=382, false_positive=11588, true_negative=None, false_negative=3686)\n",
      "=========================Fold 5=============================\n",
      "Preparing data...\n",
      "Done.\n",
      "Construct closeness matrix...\n",
      "Done.\n"
     ]
    },
    {
     "name": "stderr",
     "output_type": "stream",
     "text": [
      "/usr/local/lib/python3.5/dist-packages/scipy/sparse/compressed.py:538: SparseEfficiencyWarning: Taking maximum (minimum) with > 0 (< 0) number results to a dense matrix.\n",
      "  SparseEfficiencyWarning)\n"
     ]
    },
    {
     "name": "stdout",
     "output_type": "stream",
     "text": [
      "CPU times: user 19.6 s, sys: 380 ms, total: 20 s\n",
      "Wall time: 20 s\n",
      "PureSVD training time: 0.09130643000025884s\n",
      "101 unique trackid's within 116 testset interactions were filtered. Reason: not in the training data.\n",
      "12 unique trackid's within 12 holdout interactions were filtered. Reason: not in the training data.\n",
      "315 pid's were filtered out from testset. Reason: inconsistent with holdout.\n",
      "lce hits Hits(true_positive=382, false_positive=11768, true_negative=None, false_negative=3775)\n"
     ]
    },
    {
     "name": "stderr",
     "output_type": "stream",
     "text": [
      "\r",
      " 40%|████      | 2/5 [02:30<03:46, 75.45s/it]"
     ]
    },
    {
     "name": "stdout",
     "output_type": "stream",
     "text": [
      "svd hits Hits(true_positive=421, false_positive=11729, true_negative=None, false_negative=3736)\n",
      "             ===========rank=15=============\n",
      "(4243,) (4243,)\n",
      "(6824,) (6824,)\n",
      "=========================Fold 1=============================\n",
      "Preparing data...\n",
      "Done.\n",
      "Construct closeness matrix...\n",
      "Done.\n"
     ]
    },
    {
     "name": "stderr",
     "output_type": "stream",
     "text": [
      "/usr/local/lib/python3.5/dist-packages/scipy/sparse/compressed.py:538: SparseEfficiencyWarning: Taking maximum (minimum) with > 0 (< 0) number results to a dense matrix.\n",
      "  SparseEfficiencyWarning)\n"
     ]
    },
    {
     "name": "stdout",
     "output_type": "stream",
     "text": [
      "CPU times: user 34.7 s, sys: 368 ms, total: 35.1 s\n",
      "Wall time: 35 s\n",
      "PureSVD training time: 0.11065379200226744s\n",
      "107 unique trackid's within 120 testset interactions were filtered. Reason: not in the training data.\n",
      "15 unique trackid's within 15 holdout interactions were filtered. Reason: not in the training data.\n",
      "312 pid's were filtered out from testset. Reason: inconsistent with holdout.\n",
      "lce hits Hits(true_positive=395, false_positive=11785, true_negative=None, false_negative=3831)\n",
      "svd hits Hits(true_positive=516, false_positive=11664, true_negative=None, false_negative=3710)\n",
      "=========================Fold 2=============================\n",
      "Preparing data...\n",
      "Done.\n",
      "Construct closeness matrix...\n",
      "Done.\n"
     ]
    },
    {
     "name": "stderr",
     "output_type": "stream",
     "text": [
      "/usr/local/lib/python3.5/dist-packages/scipy/sparse/compressed.py:538: SparseEfficiencyWarning: Taking maximum (minimum) with > 0 (< 0) number results to a dense matrix.\n",
      "  SparseEfficiencyWarning)\n"
     ]
    },
    {
     "name": "stdout",
     "output_type": "stream",
     "text": [
      "CPU times: user 19.6 s, sys: 424 ms, total: 20 s\n",
      "Wall time: 20 s\n",
      "PureSVD training time: 0.11894948899862356s\n",
      "91 unique trackid's within 102 testset interactions were filtered. Reason: not in the training data.\n",
      "15 unique trackid's within 15 holdout interactions were filtered. Reason: not in the training data.\n",
      "326 pid's were filtered out from testset. Reason: inconsistent with holdout.\n",
      "lce hits Hits(true_positive=398, false_positive=11642, true_negative=None, false_negative=3682)\n",
      "svd hits Hits(true_positive=480, false_positive=11560, true_negative=None, false_negative=3600)\n",
      "=========================Fold 3=============================\n",
      "Preparing data...\n",
      "Done.\n",
      "Construct closeness matrix...\n",
      "Done.\n"
     ]
    },
    {
     "name": "stderr",
     "output_type": "stream",
     "text": [
      "/usr/local/lib/python3.5/dist-packages/scipy/sparse/compressed.py:538: SparseEfficiencyWarning: Taking maximum (minimum) with > 0 (< 0) number results to a dense matrix.\n",
      "  SparseEfficiencyWarning)\n"
     ]
    },
    {
     "name": "stdout",
     "output_type": "stream",
     "text": [
      "CPU times: user 25 s, sys: 420 ms, total: 25.4 s\n",
      "Wall time: 25.4 s\n",
      "PureSVD training time: 0.1189893619994109s\n",
      "98 unique trackid's within 109 testset interactions were filtered. Reason: not in the training data.\n",
      "9 unique trackid's within 9 holdout interactions were filtered. Reason: not in the training data.\n",
      "304 pid's were filtered out from testset. Reason: inconsistent with holdout.\n",
      "lce hits Hits(true_positive=392, false_positive=11868, true_negative=None, false_negative=3795)\n",
      "svd hits Hits(true_positive=497, false_positive=11763, true_negative=None, false_negative=3690)\n",
      "=========================Fold 4=============================\n",
      "Preparing data...\n",
      "Done.\n",
      "Construct closeness matrix...\n",
      "Done.\n"
     ]
    },
    {
     "name": "stderr",
     "output_type": "stream",
     "text": [
      "/usr/local/lib/python3.5/dist-packages/scipy/sparse/compressed.py:538: SparseEfficiencyWarning: Taking maximum (minimum) with > 0 (< 0) number results to a dense matrix.\n",
      "  SparseEfficiencyWarning)\n"
     ]
    },
    {
     "name": "stdout",
     "output_type": "stream",
     "text": [
      "CPU times: user 24 s, sys: 376 ms, total: 24.4 s\n",
      "Wall time: 24.4 s\n",
      "PureSVD training time: 0.11407776900159661s\n",
      "93 unique trackid's within 102 testset interactions were filtered. Reason: not in the training data.\n",
      "15 unique trackid's within 15 holdout interactions were filtered. Reason: not in the training data.\n",
      "1 pid's were filtered out from holdout. Reason: inconsistent with testset.\n",
      "330 pid's were filtered out from testset. Reason: inconsistent with holdout.\n",
      "lce hits Hits(true_positive=360, false_positive=11610, true_negative=None, false_negative=3708)\n",
      "svd hits Hits(true_positive=454, false_positive=11516, true_negative=None, false_negative=3614)\n",
      "=========================Fold 5=============================\n",
      "Preparing data...\n",
      "Done.\n",
      "Construct closeness matrix...\n",
      "Done.\n"
     ]
    },
    {
     "name": "stderr",
     "output_type": "stream",
     "text": [
      "/usr/local/lib/python3.5/dist-packages/scipy/sparse/compressed.py:538: SparseEfficiencyWarning: Taking maximum (minimum) with > 0 (< 0) number results to a dense matrix.\n",
      "  SparseEfficiencyWarning)\n"
     ]
    },
    {
     "name": "stdout",
     "output_type": "stream",
     "text": [
      "CPU times: user 22.9 s, sys: 412 ms, total: 23.3 s\n",
      "Wall time: 23.3 s\n",
      "PureSVD training time: 0.1338884169999801s\n",
      "101 unique trackid's within 116 testset interactions were filtered. Reason: not in the training data.\n",
      "12 unique trackid's within 12 holdout interactions were filtered. Reason: not in the training data.\n",
      "315 pid's were filtered out from testset. Reason: inconsistent with holdout.\n",
      "lce hits Hits(true_positive=411, false_positive=11739, true_negative=None, false_negative=3746)\n"
     ]
    },
    {
     "name": "stderr",
     "output_type": "stream",
     "text": [
      "\r",
      " 60%|██████    | 3/5 [04:46<03:10, 95.45s/it]"
     ]
    },
    {
     "name": "stdout",
     "output_type": "stream",
     "text": [
      "svd hits Hits(true_positive=524, false_positive=11626, true_negative=None, false_negative=3633)\n",
      "             ===========rank=25=============\n",
      "(4243,) (4243,)\n",
      "(6824,) (6824,)\n",
      "=========================Fold 1=============================\n",
      "Preparing data...\n",
      "Done.\n",
      "Construct closeness matrix...\n",
      "Done.\n"
     ]
    },
    {
     "name": "stderr",
     "output_type": "stream",
     "text": [
      "/usr/local/lib/python3.5/dist-packages/scipy/sparse/compressed.py:538: SparseEfficiencyWarning: Taking maximum (minimum) with > 0 (< 0) number results to a dense matrix.\n",
      "  SparseEfficiencyWarning)\n"
     ]
    },
    {
     "name": "stdout",
     "output_type": "stream",
     "text": [
      "CPU times: user 32.7 s, sys: 392 ms, total: 33.1 s\n",
      "Wall time: 33.1 s\n",
      "PureSVD training time: 0.2102266830006556s\n",
      "107 unique trackid's within 120 testset interactions were filtered. Reason: not in the training data.\n",
      "15 unique trackid's within 15 holdout interactions were filtered. Reason: not in the training data.\n",
      "312 pid's were filtered out from testset. Reason: inconsistent with holdout.\n",
      "lce hits Hits(true_positive=468, false_positive=11712, true_negative=None, false_negative=3758)\n",
      "svd hits Hits(true_positive=639, false_positive=11541, true_negative=None, false_negative=3587)\n",
      "=========================Fold 2=============================\n",
      "Preparing data...\n",
      "Done.\n",
      "Construct closeness matrix...\n",
      "Done.\n"
     ]
    },
    {
     "name": "stderr",
     "output_type": "stream",
     "text": [
      "/usr/local/lib/python3.5/dist-packages/scipy/sparse/compressed.py:538: SparseEfficiencyWarning: Taking maximum (minimum) with > 0 (< 0) number results to a dense matrix.\n",
      "  SparseEfficiencyWarning)\n"
     ]
    },
    {
     "name": "stdout",
     "output_type": "stream",
     "text": [
      "CPU times: user 31.5 s, sys: 551 ms, total: 32 s\n",
      "Wall time: 32.1 s\n",
      "PureSVD training time: 0.21909363099985057s\n",
      "91 unique trackid's within 102 testset interactions were filtered. Reason: not in the training data.\n",
      "15 unique trackid's within 15 holdout interactions were filtered. Reason: not in the training data.\n",
      "326 pid's were filtered out from testset. Reason: inconsistent with holdout.\n",
      "lce hits Hits(true_positive=430, false_positive=11610, true_negative=None, false_negative=3650)\n",
      "svd hits Hits(true_positive=594, false_positive=11446, true_negative=None, false_negative=3486)\n",
      "=========================Fold 3=============================\n",
      "Preparing data...\n",
      "Done.\n",
      "Construct closeness matrix...\n",
      "Done.\n"
     ]
    },
    {
     "name": "stderr",
     "output_type": "stream",
     "text": [
      "/usr/local/lib/python3.5/dist-packages/scipy/sparse/compressed.py:538: SparseEfficiencyWarning: Taking maximum (minimum) with > 0 (< 0) number results to a dense matrix.\n",
      "  SparseEfficiencyWarning)\n"
     ]
    },
    {
     "name": "stdout",
     "output_type": "stream",
     "text": [
      "CPU times: user 37.9 s, sys: 476 ms, total: 38.4 s\n",
      "Wall time: 38.4 s\n",
      "PureSVD training time: 0.2578803059986967s\n",
      "98 unique trackid's within 109 testset interactions were filtered. Reason: not in the training data.\n",
      "9 unique trackid's within 9 holdout interactions were filtered. Reason: not in the training data.\n",
      "304 pid's were filtered out from testset. Reason: inconsistent with holdout.\n",
      "lce hits Hits(true_positive=435, false_positive=11825, true_negative=None, false_negative=3752)\n",
      "svd hits Hits(true_positive=599, false_positive=11661, true_negative=None, false_negative=3588)\n",
      "=========================Fold 4=============================\n",
      "Preparing data...\n",
      "Done.\n",
      "Construct closeness matrix...\n",
      "Done.\n"
     ]
    },
    {
     "name": "stderr",
     "output_type": "stream",
     "text": [
      "/usr/local/lib/python3.5/dist-packages/scipy/sparse/compressed.py:538: SparseEfficiencyWarning: Taking maximum (minimum) with > 0 (< 0) number results to a dense matrix.\n",
      "  SparseEfficiencyWarning)\n"
     ]
    },
    {
     "name": "stdout",
     "output_type": "stream",
     "text": [
      "CPU times: user 35.2 s, sys: 448 ms, total: 35.7 s\n",
      "Wall time: 35.7 s\n",
      "PureSVD training time: 0.25624100099958014s\n",
      "93 unique trackid's within 102 testset interactions were filtered. Reason: not in the training data.\n",
      "15 unique trackid's within 15 holdout interactions were filtered. Reason: not in the training data.\n",
      "1 pid's were filtered out from holdout. Reason: inconsistent with testset.\n",
      "330 pid's were filtered out from testset. Reason: inconsistent with holdout.\n",
      "lce hits Hits(true_positive=400, false_positive=11570, true_negative=None, false_negative=3668)\n",
      "svd hits Hits(true_positive=557, false_positive=11413, true_negative=None, false_negative=3511)\n",
      "=========================Fold 5=============================\n",
      "Preparing data...\n",
      "Done.\n",
      "Construct closeness matrix...\n",
      "Done.\n"
     ]
    },
    {
     "name": "stderr",
     "output_type": "stream",
     "text": [
      "/usr/local/lib/python3.5/dist-packages/scipy/sparse/compressed.py:538: SparseEfficiencyWarning: Taking maximum (minimum) with > 0 (< 0) number results to a dense matrix.\n",
      "  SparseEfficiencyWarning)\n"
     ]
    },
    {
     "name": "stdout",
     "output_type": "stream",
     "text": [
      "CPU times: user 34 s, sys: 368 ms, total: 34.3 s\n",
      "Wall time: 34.3 s\n",
      "PureSVD training time: 0.2123699769981613s\n",
      "101 unique trackid's within 116 testset interactions were filtered. Reason: not in the training data.\n",
      "12 unique trackid's within 12 holdout interactions were filtered. Reason: not in the training data.\n",
      "315 pid's were filtered out from testset. Reason: inconsistent with holdout.\n",
      "lce hits Hits(true_positive=474, false_positive=11676, true_negative=None, false_negative=3683)\n"
     ]
    },
    {
     "name": "stderr",
     "output_type": "stream",
     "text": [
      "\r",
      " 80%|████████  | 4/5 [07:49<01:57, 117.30s/it]"
     ]
    },
    {
     "name": "stdout",
     "output_type": "stream",
     "text": [
      "svd hits Hits(true_positive=605, false_positive=11545, true_negative=None, false_negative=3552)\n",
      "             ===========rank=50=============\n",
      "(4243,) (4243,)\n",
      "(6824,) (6824,)\n",
      "=========================Fold 1=============================\n",
      "Preparing data...\n",
      "Done.\n",
      "Construct closeness matrix...\n",
      "Done.\n"
     ]
    },
    {
     "name": "stderr",
     "output_type": "stream",
     "text": [
      "/usr/local/lib/python3.5/dist-packages/scipy/sparse/compressed.py:538: SparseEfficiencyWarning: Taking maximum (minimum) with > 0 (< 0) number results to a dense matrix.\n",
      "  SparseEfficiencyWarning)\n"
     ]
    },
    {
     "name": "stdout",
     "output_type": "stream",
     "text": [
      "CPU times: user 1min 31s, sys: 455 ms, total: 1min 31s\n",
      "Wall time: 1min 31s\n",
      "PureSVD training time: 0.5807160489966918s\n",
      "107 unique trackid's within 120 testset interactions were filtered. Reason: not in the training data.\n",
      "15 unique trackid's within 15 holdout interactions were filtered. Reason: not in the training data.\n",
      "312 pid's were filtered out from testset. Reason: inconsistent with holdout.\n",
      "lce hits Hits(true_positive=445, false_positive=11735, true_negative=None, false_negative=3781)\n",
      "svd hits Hits(true_positive=755, false_positive=11425, true_negative=None, false_negative=3471)\n",
      "=========================Fold 2=============================\n",
      "Preparing data...\n",
      "Done.\n",
      "Construct closeness matrix...\n",
      "Done.\n"
     ]
    },
    {
     "name": "stderr",
     "output_type": "stream",
     "text": [
      "/usr/local/lib/python3.5/dist-packages/scipy/sparse/compressed.py:538: SparseEfficiencyWarning: Taking maximum (minimum) with > 0 (< 0) number results to a dense matrix.\n",
      "  SparseEfficiencyWarning)\n"
     ]
    },
    {
     "name": "stdout",
     "output_type": "stream",
     "text": [
      "CPU times: user 1min 30s, sys: 465 ms, total: 1min 31s\n",
      "Wall time: 1min 31s\n",
      "PureSVD training time: 1.2013301529987075s\n",
      "91 unique trackid's within 102 testset interactions were filtered. Reason: not in the training data.\n",
      "15 unique trackid's within 15 holdout interactions were filtered. Reason: not in the training data.\n",
      "326 pid's were filtered out from testset. Reason: inconsistent with holdout.\n",
      "lce hits Hits(true_positive=459, false_positive=11581, true_negative=None, false_negative=3621)\n",
      "svd hits Hits(true_positive=715, false_positive=11325, true_negative=None, false_negative=3365)\n",
      "=========================Fold 3=============================\n",
      "Preparing data...\n",
      "Done.\n",
      "Construct closeness matrix...\n",
      "Done.\n"
     ]
    },
    {
     "name": "stderr",
     "output_type": "stream",
     "text": [
      "/usr/local/lib/python3.5/dist-packages/scipy/sparse/compressed.py:538: SparseEfficiencyWarning: Taking maximum (minimum) with > 0 (< 0) number results to a dense matrix.\n",
      "  SparseEfficiencyWarning)\n"
     ]
    },
    {
     "name": "stdout",
     "output_type": "stream",
     "text": [
      "CPU times: user 1min 16s, sys: 588 ms, total: 1min 17s\n",
      "Wall time: 1min 17s\n",
      "PureSVD training time: 0.6994274819990096s\n",
      "98 unique trackid's within 109 testset interactions were filtered. Reason: not in the training data.\n",
      "9 unique trackid's within 9 holdout interactions were filtered. Reason: not in the training data.\n",
      "304 pid's were filtered out from testset. Reason: inconsistent with holdout.\n",
      "lce hits Hits(true_positive=432, false_positive=11828, true_negative=None, false_negative=3755)\n",
      "svd hits Hits(true_positive=761, false_positive=11499, true_negative=None, false_negative=3426)\n",
      "=========================Fold 4=============================\n",
      "Preparing data...\n",
      "Done.\n",
      "Construct closeness matrix...\n",
      "Done.\n"
     ]
    },
    {
     "name": "stderr",
     "output_type": "stream",
     "text": [
      "/usr/local/lib/python3.5/dist-packages/scipy/sparse/compressed.py:538: SparseEfficiencyWarning: Taking maximum (minimum) with > 0 (< 0) number results to a dense matrix.\n",
      "  SparseEfficiencyWarning)\n"
     ]
    },
    {
     "name": "stdout",
     "output_type": "stream",
     "text": [
      "CPU times: user 1min 47s, sys: 483 ms, total: 1min 48s\n",
      "Wall time: 1min 48s\n",
      "PureSVD training time: 0.6676263290028146s\n",
      "93 unique trackid's within 102 testset interactions were filtered. Reason: not in the training data.\n",
      "15 unique trackid's within 15 holdout interactions were filtered. Reason: not in the training data.\n",
      "1 pid's were filtered out from holdout. Reason: inconsistent with testset.\n",
      "330 pid's were filtered out from testset. Reason: inconsistent with holdout.\n",
      "lce hits Hits(true_positive=475, false_positive=11495, true_negative=None, false_negative=3593)\n",
      "svd hits Hits(true_positive=675, false_positive=11295, true_negative=None, false_negative=3393)\n",
      "=========================Fold 5=============================\n",
      "Preparing data...\n",
      "Done.\n",
      "Construct closeness matrix...\n",
      "Done.\n"
     ]
    },
    {
     "name": "stderr",
     "output_type": "stream",
     "text": [
      "/usr/local/lib/python3.5/dist-packages/scipy/sparse/compressed.py:538: SparseEfficiencyWarning: Taking maximum (minimum) with > 0 (< 0) number results to a dense matrix.\n",
      "  SparseEfficiencyWarning)\n"
     ]
    },
    {
     "name": "stdout",
     "output_type": "stream",
     "text": [
      "CPU times: user 1min 38s, sys: 800 ms, total: 1min 39s\n",
      "Wall time: 1min 39s\n",
      "PureSVD training time: 1.3449933289994078s\n",
      "101 unique trackid's within 116 testset interactions were filtered. Reason: not in the training data.\n",
      "12 unique trackid's within 12 holdout interactions were filtered. Reason: not in the training data.\n",
      "315 pid's were filtered out from testset. Reason: inconsistent with holdout.\n",
      "lce hits Hits(true_positive=443, false_positive=11707, true_negative=None, false_negative=3714)\n"
     ]
    },
    {
     "name": "stderr",
     "output_type": "stream",
     "text": [
      "\r",
      "100%|██████████| 5/5 [15:49<00:00, 189.82s/it]"
     ]
    },
    {
     "name": "stdout",
     "output_type": "stream",
     "text": [
      "svd hits Hits(true_positive=722, false_positive=11428, true_negative=None, false_negative=3435)\n"
     ]
    },
    {
     "name": "stderr",
     "output_type": "stream",
     "text": [
      "\n"
     ]
    }
   ],
   "source": [
    "ranks = [5, 10, 15, 25, 50]\n",
    "recall_lce, recall_svd = [], []\n",
    "nDCG_lce, nDCG_svd = [], []\n",
    "precision_lce, precision_svd  = [], []\n",
    "miss_rate_lce, miss_rate_svd= [], []\n",
    "for rank in tqdm.tqdm(ranks):\n",
    "    print('             ===========rank={}============='.format(rank))\n",
    "    result_lce, result_svd = cross_validation_lce(full_dataset,n_splits=5, topk=10, test_size=0.1, \n",
    "                                                  rank=rank, alpha=0.9, epsilon=1e-12, \n",
    "                                                  lamb=1, beta=0.05)\n",
    "    recall_lce.append(result_lce.recall.mean())\n",
    "    nDCG_lce.append(result_lce.nDCG.mean())\n",
    "    precision_lce.append(result_lce.precision.mean())\n",
    "    miss_rate_lce.append(result_lce.miss_rate.mean())\n",
    "    recall_svd.append(result_svd.recall.mean())\n",
    "    nDCG_svd.append(result_svd.nDCG.mean())\n",
    "    precision_svd.append(result_svd.precision.mean())\n",
    "    miss_rate_svd.append(result_svd.miss_rate.mean())"
   ]
  },
  {
   "cell_type": "code",
   "execution_count": 53,
   "metadata": {},
   "outputs": [],
   "source": [
    "import matplotlib.pyplot as plt"
   ]
  },
  {
   "cell_type": "code",
   "execution_count": 54,
   "metadata": {},
   "outputs": [
    {
     "data": {
      "image/png": "[encoded data removed]",
      "text/plain": [
       "<Figure size 864x576 with 1 Axes>"
      ]
     },
     "metadata": {},
     "output_type": "display_data"
    }
   ],
   "source": [
    "plt.style.use('seaborn')\n",
    "plt.figure(figsize=(12,8))\n",
    "plt.plot(ranks, recall_lce, 'orange', label='recall_lce')\n",
    "plt.plot(ranks, recall_svd, label='recall_svd')\n",
    "plt.ylabel('evalution')\n",
    "plt.xlabel('rank')\n",
    "plt.legend()\n",
    "plt.show()"
   ]
  },
  {
   "cell_type": "code",
   "execution_count": 55,
   "metadata": {},
   "outputs": [
    {
     "data": {
      "image/png": "[encoded data removed]",
      "text/plain": [
       "<Figure size 864x576 with 1 Axes>"
      ]
     },
     "metadata": {},
     "output_type": "display_data"
    }
   ],
   "source": [
    "plt.style.use('seaborn')\n",
    "plt.figure(figsize=(12,8))\n",
    "plt.plot(ranks, nDCG_lce,label='nDCG_lce')\n",
    "plt.plot(ranks, nDCG_svd, label='nDCG_svd')\n",
    "plt.ylabel('evalution')\n",
    "plt.xlabel('rank')\n",
    "plt.legend()\n",
    "plt.show()"
   ]
  }
 ],
 "metadata": {
  "kernelspec": {
   "display_name": "Python 3",
   "language": "python",
   "name": "python3"
  },
  "language_info": {
   "codemirror_mode": {
    "name": "ipython",
    "version": 3
   },
   "file_extension": ".py",
   "mimetype": "text/x-python",
   "name": "python",
   "nbconvert_exporter": "python",
   "pygments_lexer": "ipython3",
   "version": "3.5.2"
  }
 },
 "nbformat": 4,
 "nbformat_minor": 2
}
