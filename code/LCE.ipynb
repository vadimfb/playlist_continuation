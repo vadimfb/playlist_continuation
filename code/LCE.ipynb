{
 "cells": [
  {
   "cell_type": "code",
   "execution_count": 207,
   "metadata": {},
   "outputs": [],
   "source": [
    "import numpy as np\n",
    "from sklearn.neighbors import NearestNeighbors\n",
    "from scipy import sparse\n",
    "\n",
    "eps = 7. / 3 - 4. / 3 - 1\n",
    "\n",
    "\n",
    "def L2_norm_row(X):\n",
    "    return sparse.spdiags(1. / (np.sqrt(sum(X * X, 2)) + eps), 0, len(X), len(X)) * X\n",
    "\n",
    "\n",
    "def tr(A, B):\n",
    "    x = np.multiply(A, B)\n",
    "    return (x.sum(axis=0)).sum(axis=0)\n",
    "\n",
    "\n",
    "def construct_A(X, k, binary=False):\n",
    "\n",
    "    nbrs = NearestNeighbors(n_neighbors=1 + k).fit(X)\n",
    "    if binary:\n",
    "        return nbrs.kneighbors_graph(X)\n",
    "    else:\n",
    "        return nbrs.kneighbors_graph(X, mode='distance')\n",
    "\n",
    "\n",
    "def LCE(R, Xu, A, k=15, alpha=0.1, beta=0.05, lamb=0.001, epsilon=0.01, maxiter=150, verbose=True):\n",
    "\n",
    "    n = R.shape[0]\n",
    "    v1 = R.shape[1]\n",
    "    v2 = Xu.shape[1]\n",
    "\n",
    "    W = np.abs(np.random.rand(n, k))\n",
    "    Hi = np.abs(np.random.rand(k, v1))\n",
    "    Hu = np.abs(np.random.rand(k, v2))\n",
    "\n",
    "    D = sparse.dia_matrix((A.sum(axis=0), 0), A.shape)\n",
    "\n",
    "    gamma = 1. - alpha\n",
    "    trRtR = tr(R, R)\n",
    "    trXutXu = tr(Xu, Xu)\n",
    "\n",
    "    WtW = W.T.dot(W)\n",
    "    WtR = W.T.dot(R)\n",
    "    WtXu = W.T.dot(Xu)\n",
    "    WtWHi = WtW.dot(Hi)\n",
    "    WtWHu = WtW.dot(Hu)\n",
    "    DW = D.dot(W)\n",
    "    AW = A.dot(W)\n",
    "\n",
    "    itNum = 1\n",
    "    delta = 2.0 * epsilon\n",
    "\n",
    "    ObjHist = []\n",
    "\n",
    "    while True:\n",
    "\n",
    "        # update H\n",
    "        Hi_1 = np.divide(\n",
    "            (alpha * WtR), np.maximum(alpha * WtWHi + lamb * Hi, 1e-10))\n",
    "        Hi = np.multiply(Hi, Hi_1)\n",
    "\n",
    "        Hu_1 = np.divide(\n",
    "            (gamma * WtXu), np.maximum(gamma * WtWHu + lamb * Hu, 1e-10))\n",
    "        Hu = np.multiply(Hu, Hu_1)\n",
    "\n",
    "        # update W\n",
    "        W_t1 = alpha * R.dot(Hi.T) + gamma * Xu.dot(Hu.T) + beta * AW\n",
    "        W_t2 = alpha * W.dot(Hi.dot(Hi.T)) + gamma * \\\n",
    "            W.dot(Hu.dot(Hu.T)) + beta * DW + lamb * W\n",
    "        W_t3 = np.divide(W_t1, np.maximum(W_t2, 1e-10))\n",
    "        W = np.multiply(W, W_t3)\n",
    "\n",
    "        # calculate objective function\n",
    "        WtW = W.T.dot(W)\n",
    "        WtR = W.T.dot(R)\n",
    "        WtXu = W.T.dot(Xu)\n",
    "        WtWHi = WtW.dot(Hi)\n",
    "        WtWHu = WtW.dot(Hu)\n",
    "        DW = D.dot(W)\n",
    "        AW = A.dot(W)\n",
    "\n",
    "        tr1 = alpha * (trRtR - 2. * tr(Hi, WtR) + tr(Hi, WtWHi))\n",
    "        tr2 = gamma * (trXutXu - 2. * tr(Hu, WtXu) + tr(Hu, WtWHu))\n",
    "        tr3 = beta * (tr(W, DW) - tr(W, AW))\n",
    "        tr4 = lamb * (np.trace(WtW) + tr(Hi, Hi) + tr(Hu, Hu))\n",
    "\n",
    "        Obj = tr1 + tr2 + tr3 + tr4\n",
    "        ObjHist.append(Obj)\n",
    "\n",
    "        if itNum > 1:\n",
    "            delta = abs(ObjHist[-1] - ObjHist[-2])\n",
    "            if verbose:\n",
    "                print (\"Iteration: \", itNum, \"Objective: \", Obj, \"Delta: \", delta)\n",
    "            if itNum > maxiter or delta < epsilon:\n",
    "                break\n",
    "\n",
    "        itNum += 1\n",
    "\n",
    "    return W, Hu, Hi\n",
    "\n",
    "def get_recommendations(x_u, Hu, Hi, topk=10):\n",
    "    w = np.linalg.lstsq(Hu.T, x_u, rcond=-1)[0]\n",
    "    r = (Hi.T.dot(w)).T\n",
    "    return np.flip(np.argsort(r)[-topk:], axis=0)"
   ]
  },
  {
   "cell_type": "code",
   "execution_count": 9,
   "metadata": {},
   "outputs": [],
   "source": [
    "import pandas as pd"
   ]
  },
  {
   "cell_type": "code",
   "execution_count": 101,
   "metadata": {},
   "outputs": [],
   "source": [
    "data_dir = '/home/vadim/playlist_generation/data/random_data'"
   ]
  },
  {
   "cell_type": "code",
   "execution_count": 151,
   "metadata": {},
   "outputs": [],
   "source": [
    "tracks = pd.read_csv('{}/tracks.csv'.format(data_dir), index_col=0)\n",
    "artists = pd.read_csv('{}/artists.csv'.format(data_dir), index_col=0)\n",
    "albums = pd.read_csv('{}/albums.csv'.format(data_dir), index_col=0)\n",
    "transactions = pd.read_csv('{}/transactions.csv'.format(data_dir), index_col=0)\n",
    "playlists = pd.read_csv('{}/playlists.csv'.format(data_dir), index_col=0)"
   ]
  },
  {
   "cell_type": "code",
   "execution_count": 152,
   "metadata": {},
   "outputs": [
    {
     "data": {
      "text/plain": [
       "(2089, 2)"
      ]
     },
     "execution_count": 152,
     "metadata": {},
     "output_type": "execute_result"
    }
   ],
   "source": [
    "albums.shape"
   ]
  },
  {
   "cell_type": "code",
   "execution_count": 153,
   "metadata": {},
   "outputs": [
    {
     "data": {
      "text/plain": [
       "(2200, 4)"
      ]
     },
     "execution_count": 153,
     "metadata": {},
     "output_type": "execute_result"
    }
   ],
   "source": [
    "tracks.shape"
   ]
  },
  {
   "cell_type": "code",
   "execution_count": 154,
   "metadata": {},
   "outputs": [
    {
     "data": {
      "text/plain": [
       "(1817, 2)"
      ]
     },
     "execution_count": 154,
     "metadata": {},
     "output_type": "execute_result"
    }
   ],
   "source": [
    "artists.shape"
   ]
  },
  {
   "cell_type": "code",
   "execution_count": 155,
   "metadata": {},
   "outputs": [
    {
     "data": {
      "text/plain": [
       "(854,)"
      ]
     },
     "execution_count": 155,
     "metadata": {},
     "output_type": "execute_result"
    }
   ],
   "source": [
    "playlists.name.unique().shape"
   ]
  },
  {
   "cell_type": "code",
   "execution_count": 156,
   "metadata": {},
   "outputs": [
    {
     "data": {
      "text/plain": [
       "(5706, 2)"
      ]
     },
     "execution_count": 156,
     "metadata": {},
     "output_type": "execute_result"
    }
   ],
   "source": [
    "transactions.shape"
   ]
  },
  {
   "cell_type": "code",
   "execution_count": 157,
   "metadata": {},
   "outputs": [],
   "source": [
    "def get_new_items(items):\n",
    "    items_new_old = pd.DataFrame({'new': np.arange(items.shape[0]), 'old': items.iloc[:, 0].values})\n",
    "    ids = np.arange(items.shape[0]).reshape(-1, 1)\n",
    "    data = items.iloc[:, 1:].values\n",
    "    new_items = pd.DataFrame(np.hstack((ids, data)), columns=items.columns)\n",
    "    return new_items, items_new_old"
   ]
  },
  {
   "cell_type": "code",
   "execution_count": 158,
   "metadata": {},
   "outputs": [],
   "source": [
    "def get_new_tracks(tracks, albums_old_new, artists_old_new):\n",
    "    ar_ids = []\n",
    "    al_ids = []\n",
    "    for el in tracks.itertuples():\n",
    "        ar_ids.append(artists_old_new[artists_old_new.old == el.artistid].new.values[0])\n",
    "        al_ids.append(albums_old_new[albums_old_new.old == el.albumid].new.values[0])\n",
    "    new_tracks = tracks.copy()\n",
    "    new_tracks.artistid = ar_ids\n",
    "    new_tracks.albumid = al_ids\n",
    "    return get_new_items(new_tracks)"
   ]
  },
  {
   "cell_type": "code",
   "execution_count": 159,
   "metadata": {},
   "outputs": [],
   "source": [
    "def get_new_transactions(transactions, tracks_old_new, playlists_old_new):\n",
    "    p_ids = []\n",
    "    t_ids = []\n",
    "    for el in transactions.itertuples():\n",
    "        p_ids.append(playlists_old_new[playlists_old_new.old == el.userid].new.values[0])\n",
    "        t_ids.append(tracks_old_new[tracks_old_new.old == el.trackid].new.values[0])\n",
    "    return pd.DataFrame({'pid': p_ids, 'trackid': t_ids})"
   ]
  },
  {
   "cell_type": "code",
   "execution_count": 175,
   "metadata": {},
   "outputs": [],
   "source": [
    "def get_R_and_Xu(tracks, albums, artists, playlists, transactions):\n",
    "    R = np.zeros((playlists.shape[0], tracks.shape[0]))\n",
    "    for el in transactions.itertuples():\n",
    "        R[el.pid, el.trackid] = 1\n",
    "    Xu = np.zeros((playlists.shape[0], artists.shape[0]))\n",
    "    for pid in playlists['pid']:\n",
    "        for track in tracks.itertuples():\n",
    "            if R[pid, track.trackid] == 1:\n",
    "                Xu[pid, track.artistid] = 1\n",
    "    return R, Xu"
   ]
  },
  {
   "cell_type": "code",
   "execution_count": 161,
   "metadata": {},
   "outputs": [],
   "source": [
    "new_albums, albums_old_new = get_new_items(albums)"
   ]
  },
  {
   "cell_type": "code",
   "execution_count": 162,
   "metadata": {},
   "outputs": [
    {
     "data": {
      "text/html": [
       "<div>\n",
       "<style scoped>\n",
       "    .dataframe tbody tr th:only-of-type {\n",
       "        vertical-align: middle;\n",
       "    }\n",
       "\n",
       "    .dataframe tbody tr th {\n",
       "        vertical-align: top;\n",
       "    }\n",
       "\n",
       "    .dataframe thead th {\n",
       "        text-align: right;\n",
       "    }\n",
       "</style>\n",
       "<table border=\"1\" class=\"dataframe\">\n",
       "  <thead>\n",
       "    <tr style=\"text-align: right;\">\n",
       "      <th></th>\n",
       "      <th>albumid</th>\n",
       "      <th>popular</th>\n",
       "    </tr>\n",
       "  </thead>\n",
       "  <tbody>\n",
       "    <tr>\n",
       "      <th>0</th>\n",
       "      <td>0</td>\n",
       "      <td>19</td>\n",
       "    </tr>\n",
       "    <tr>\n",
       "      <th>1</th>\n",
       "      <td>1</td>\n",
       "      <td>960</td>\n",
       "    </tr>\n",
       "    <tr>\n",
       "      <th>2</th>\n",
       "      <td>2</td>\n",
       "      <td>242</td>\n",
       "    </tr>\n",
       "    <tr>\n",
       "      <th>3</th>\n",
       "      <td>3</td>\n",
       "      <td>22750</td>\n",
       "    </tr>\n",
       "    <tr>\n",
       "      <th>4</th>\n",
       "      <td>4</td>\n",
       "      <td>2</td>\n",
       "    </tr>\n",
       "  </tbody>\n",
       "</table>\n",
       "</div>"
      ],
      "text/plain": [
       "   albumid  popular\n",
       "0        0       19\n",
       "1        1      960\n",
       "2        2      242\n",
       "3        3    22750\n",
       "4        4        2"
      ]
     },
     "execution_count": 162,
     "metadata": {},
     "output_type": "execute_result"
    }
   ],
   "source": [
    "new_albums.head()"
   ]
  },
  {
   "cell_type": "code",
   "execution_count": 163,
   "metadata": {},
   "outputs": [
    {
     "data": {
      "text/html": [
       "<div>\n",
       "<style scoped>\n",
       "    .dataframe tbody tr th:only-of-type {\n",
       "        vertical-align: middle;\n",
       "    }\n",
       "\n",
       "    .dataframe tbody tr th {\n",
       "        vertical-align: top;\n",
       "    }\n",
       "\n",
       "    .dataframe thead th {\n",
       "        text-align: right;\n",
       "    }\n",
       "</style>\n",
       "<table border=\"1\" class=\"dataframe\">\n",
       "  <thead>\n",
       "    <tr style=\"text-align: right;\">\n",
       "      <th></th>\n",
       "      <th>new</th>\n",
       "      <th>old</th>\n",
       "    </tr>\n",
       "  </thead>\n",
       "  <tbody>\n",
       "    <tr>\n",
       "      <th>0</th>\n",
       "      <td>0</td>\n",
       "      <td>65575</td>\n",
       "    </tr>\n",
       "    <tr>\n",
       "      <th>1</th>\n",
       "      <td>1</td>\n",
       "      <td>7353</td>\n",
       "    </tr>\n",
       "    <tr>\n",
       "      <th>2</th>\n",
       "      <td>2</td>\n",
       "      <td>13527</td>\n",
       "    </tr>\n",
       "    <tr>\n",
       "      <th>3</th>\n",
       "      <td>3</td>\n",
       "      <td>357</td>\n",
       "    </tr>\n",
       "    <tr>\n",
       "      <th>4</th>\n",
       "      <td>4</td>\n",
       "      <td>148399</td>\n",
       "    </tr>\n",
       "  </tbody>\n",
       "</table>\n",
       "</div>"
      ],
      "text/plain": [
       "   new     old\n",
       "0    0   65575\n",
       "1    1    7353\n",
       "2    2   13527\n",
       "3    3     357\n",
       "4    4  148399"
      ]
     },
     "execution_count": 163,
     "metadata": {},
     "output_type": "execute_result"
    }
   ],
   "source": [
    "albums_old_new.head()"
   ]
  },
  {
   "cell_type": "code",
   "execution_count": 164,
   "metadata": {},
   "outputs": [],
   "source": [
    "new_artists, artists_old_new = get_new_items(artists)"
   ]
  },
  {
   "cell_type": "code",
   "execution_count": 165,
   "metadata": {},
   "outputs": [],
   "source": [
    "new_playlists, playlists_old_new = get_new_items(playlists)"
   ]
  },
  {
   "cell_type": "code",
   "execution_count": 166,
   "metadata": {},
   "outputs": [
    {
     "data": {
      "text/html": [
       "<div>\n",
       "<style scoped>\n",
       "    .dataframe tbody tr th:only-of-type {\n",
       "        vertical-align: middle;\n",
       "    }\n",
       "\n",
       "    .dataframe tbody tr th {\n",
       "        vertical-align: top;\n",
       "    }\n",
       "\n",
       "    .dataframe thead th {\n",
       "        text-align: right;\n",
       "    }\n",
       "</style>\n",
       "<table border=\"1\" class=\"dataframe\">\n",
       "  <thead>\n",
       "    <tr style=\"text-align: right;\">\n",
       "      <th></th>\n",
       "      <th>pid</th>\n",
       "      <th>name</th>\n",
       "      <th>num_followers</th>\n",
       "    </tr>\n",
       "  </thead>\n",
       "  <tbody>\n",
       "    <tr>\n",
       "      <th>0</th>\n",
       "      <td>0</td>\n",
       "      <td>going out</td>\n",
       "      <td>1</td>\n",
       "    </tr>\n",
       "    <tr>\n",
       "      <th>1</th>\n",
       "      <td>1</td>\n",
       "      <td>FALL '16</td>\n",
       "      <td>5</td>\n",
       "    </tr>\n",
       "    <tr>\n",
       "      <th>2</th>\n",
       "      <td>2</td>\n",
       "      <td>content</td>\n",
       "      <td>1</td>\n",
       "    </tr>\n",
       "    <tr>\n",
       "      <th>3</th>\n",
       "      <td>3</td>\n",
       "      <td>Rap</td>\n",
       "      <td>1</td>\n",
       "    </tr>\n",
       "    <tr>\n",
       "      <th>4</th>\n",
       "      <td>4</td>\n",
       "      <td>Woods</td>\n",
       "      <td>1</td>\n",
       "    </tr>\n",
       "  </tbody>\n",
       "</table>\n",
       "</div>"
      ],
      "text/plain": [
       "  pid       name num_followers\n",
       "0   0  going out             1\n",
       "1   1   FALL '16             5\n",
       "2   2    content             1\n",
       "3   3        Rap             1\n",
       "4   4      Woods             1"
      ]
     },
     "execution_count": 166,
     "metadata": {},
     "output_type": "execute_result"
    }
   ],
   "source": [
    "new_playlists.head()"
   ]
  },
  {
   "cell_type": "code",
   "execution_count": 167,
   "metadata": {},
   "outputs": [
    {
     "data": {
      "text/html": [
       "<div>\n",
       "<style scoped>\n",
       "    .dataframe tbody tr th:only-of-type {\n",
       "        vertical-align: middle;\n",
       "    }\n",
       "\n",
       "    .dataframe tbody tr th {\n",
       "        vertical-align: top;\n",
       "    }\n",
       "\n",
       "    .dataframe thead th {\n",
       "        text-align: right;\n",
       "    }\n",
       "</style>\n",
       "<table border=\"1\" class=\"dataframe\">\n",
       "  <thead>\n",
       "    <tr style=\"text-align: right;\">\n",
       "      <th></th>\n",
       "      <th>new</th>\n",
       "      <th>old</th>\n",
       "    </tr>\n",
       "  </thead>\n",
       "  <tbody>\n",
       "    <tr>\n",
       "      <th>0</th>\n",
       "      <td>0</td>\n",
       "      <td>822314</td>\n",
       "    </tr>\n",
       "    <tr>\n",
       "      <th>1</th>\n",
       "      <td>1</td>\n",
       "      <td>822595</td>\n",
       "    </tr>\n",
       "    <tr>\n",
       "      <th>2</th>\n",
       "      <td>2</td>\n",
       "      <td>822608</td>\n",
       "    </tr>\n",
       "    <tr>\n",
       "      <th>3</th>\n",
       "      <td>3</td>\n",
       "      <td>732129</td>\n",
       "    </tr>\n",
       "    <tr>\n",
       "      <th>4</th>\n",
       "      <td>4</td>\n",
       "      <td>732405</td>\n",
       "    </tr>\n",
       "  </tbody>\n",
       "</table>\n",
       "</div>"
      ],
      "text/plain": [
       "   new     old\n",
       "0    0  822314\n",
       "1    1  822595\n",
       "2    2  822608\n",
       "3    3  732129\n",
       "4    4  732405"
      ]
     },
     "execution_count": 167,
     "metadata": {},
     "output_type": "execute_result"
    }
   ],
   "source": [
    "playlists_old_new.head()"
   ]
  },
  {
   "cell_type": "code",
   "execution_count": 170,
   "metadata": {},
   "outputs": [],
   "source": [
    "new_tracks, tracks_old_new = get_new_tracks(tracks, albums_old_new, artists_old_new)"
   ]
  },
  {
   "cell_type": "code",
   "execution_count": 171,
   "metadata": {},
   "outputs": [
    {
     "data": {
      "text/html": [
       "<div>\n",
       "<style scoped>\n",
       "    .dataframe tbody tr th:only-of-type {\n",
       "        vertical-align: middle;\n",
       "    }\n",
       "\n",
       "    .dataframe tbody tr th {\n",
       "        vertical-align: top;\n",
       "    }\n",
       "\n",
       "    .dataframe thead th {\n",
       "        text-align: right;\n",
       "    }\n",
       "</style>\n",
       "<table border=\"1\" class=\"dataframe\">\n",
       "  <thead>\n",
       "    <tr style=\"text-align: right;\">\n",
       "      <th></th>\n",
       "      <th>trackid</th>\n",
       "      <th>popular</th>\n",
       "      <th>artistid</th>\n",
       "      <th>albumid</th>\n",
       "    </tr>\n",
       "  </thead>\n",
       "  <tbody>\n",
       "    <tr>\n",
       "      <th>0</th>\n",
       "      <td>0</td>\n",
       "      <td>4862</td>\n",
       "      <td>385</td>\n",
       "      <td>1279</td>\n",
       "    </tr>\n",
       "    <tr>\n",
       "      <th>1</th>\n",
       "      <td>1</td>\n",
       "      <td>7706</td>\n",
       "      <td>1643</td>\n",
       "      <td>1710</td>\n",
       "    </tr>\n",
       "    <tr>\n",
       "      <th>2</th>\n",
       "      <td>2</td>\n",
       "      <td>473</td>\n",
       "      <td>1295</td>\n",
       "      <td>1086</td>\n",
       "    </tr>\n",
       "    <tr>\n",
       "      <th>3</th>\n",
       "      <td>3</td>\n",
       "      <td>174</td>\n",
       "      <td>1313</td>\n",
       "      <td>484</td>\n",
       "    </tr>\n",
       "    <tr>\n",
       "      <th>4</th>\n",
       "      <td>4</td>\n",
       "      <td>6656</td>\n",
       "      <td>66</td>\n",
       "      <td>833</td>\n",
       "    </tr>\n",
       "  </tbody>\n",
       "</table>\n",
       "</div>"
      ],
      "text/plain": [
       "   trackid  popular  artistid  albumid\n",
       "0        0     4862       385     1279\n",
       "1        1     7706      1643     1710\n",
       "2        2      473      1295     1086\n",
       "3        3      174      1313      484\n",
       "4        4     6656        66      833"
      ]
     },
     "execution_count": 171,
     "metadata": {},
     "output_type": "execute_result"
    }
   ],
   "source": [
    "new_tracks.head()"
   ]
  },
  {
   "cell_type": "code",
   "execution_count": 172,
   "metadata": {},
   "outputs": [],
   "source": [
    "new_transactions = get_new_transactions(transactions, tracks_old_new, playlists_old_new)"
   ]
  },
  {
   "cell_type": "code",
   "execution_count": 173,
   "metadata": {},
   "outputs": [
    {
     "data": {
      "text/html": [
       "<div>\n",
       "<style scoped>\n",
       "    .dataframe tbody tr th:only-of-type {\n",
       "        vertical-align: middle;\n",
       "    }\n",
       "\n",
       "    .dataframe tbody tr th {\n",
       "        vertical-align: top;\n",
       "    }\n",
       "\n",
       "    .dataframe thead th {\n",
       "        text-align: right;\n",
       "    }\n",
       "</style>\n",
       "<table border=\"1\" class=\"dataframe\">\n",
       "  <thead>\n",
       "    <tr style=\"text-align: right;\">\n",
       "      <th></th>\n",
       "      <th>pid</th>\n",
       "      <th>trackid</th>\n",
       "    </tr>\n",
       "  </thead>\n",
       "  <tbody>\n",
       "    <tr>\n",
       "      <th>0</th>\n",
       "      <td>0</td>\n",
       "      <td>243</td>\n",
       "    </tr>\n",
       "    <tr>\n",
       "      <th>1</th>\n",
       "      <td>0</td>\n",
       "      <td>389</td>\n",
       "    </tr>\n",
       "    <tr>\n",
       "      <th>2</th>\n",
       "      <td>0</td>\n",
       "      <td>2084</td>\n",
       "    </tr>\n",
       "    <tr>\n",
       "      <th>3</th>\n",
       "      <td>1</td>\n",
       "      <td>178</td>\n",
       "    </tr>\n",
       "    <tr>\n",
       "      <th>4</th>\n",
       "      <td>2</td>\n",
       "      <td>869</td>\n",
       "    </tr>\n",
       "  </tbody>\n",
       "</table>\n",
       "</div>"
      ],
      "text/plain": [
       "   pid  trackid\n",
       "0    0      243\n",
       "1    0      389\n",
       "2    0     2084\n",
       "3    1      178\n",
       "4    2      869"
      ]
     },
     "execution_count": 173,
     "metadata": {},
     "output_type": "execute_result"
    }
   ],
   "source": [
    "new_transactions.head()"
   ]
  },
  {
   "cell_type": "code",
   "execution_count": 176,
   "metadata": {},
   "outputs": [],
   "source": [
    "R, Xu = get_R_and_Xu(new_tracks, new_albums, new_artists, new_playlists, new_transactions)"
   ]
  },
  {
   "cell_type": "code",
   "execution_count": 177,
   "metadata": {},
   "outputs": [
    {
     "data": {
      "text/plain": [
       "(1000, 2200)"
      ]
     },
     "execution_count": 177,
     "metadata": {},
     "output_type": "execute_result"
    }
   ],
   "source": [
    "R.shape"
   ]
  },
  {
   "cell_type": "code",
   "execution_count": 178,
   "metadata": {},
   "outputs": [
    {
     "data": {
      "text/plain": [
       "(1000, 1817)"
      ]
     },
     "execution_count": 178,
     "metadata": {},
     "output_type": "execute_result"
    }
   ],
   "source": [
    "Xu.shape"
   ]
  },
  {
   "cell_type": "code",
   "execution_count": 179,
   "metadata": {},
   "outputs": [],
   "source": [
    "A = construct_A(Xu, 10, binary=True)"
   ]
  },
  {
   "cell_type": "code",
   "execution_count": 182,
   "metadata": {},
   "outputs": [
    {
     "name": "stdout",
     "output_type": "stream",
     "text": [
      "Iteration:  2 Objective:  955.5861173056187 Delta:  2386.6267236437625\n",
      "Iteration:  3 Objective:  -392.00176742361793 Delta:  1347.5878847292365\n",
      "Iteration:  4 Objective:  -439.4319381218032 Delta:  47.43017069818529\n",
      "Iteration:  5 Objective:  128.69620109775713 Delta:  568.1281392195604\n",
      "Iteration:  6 Objective:  928.6899217561408 Delta:  799.9937206583837\n",
      "Iteration:  7 Objective:  1699.5117826112364 Delta:  770.8218608550956\n",
      "Iteration:  8 Objective:  2343.3830283454517 Delta:  643.8712457342153\n",
      "Iteration:  9 Objective:  2859.5645931555346 Delta:  516.1815648100828\n",
      "Iteration:  10 Objective:  3278.7073536108546 Delta:  419.14276045532006\n",
      "Iteration:  11 Objective:  3630.394854737739 Delta:  351.6875011268844\n",
      "Iteration:  12 Objective:  3934.1572927571947 Delta:  303.76243801945566\n",
      "Iteration:  13 Objective:  4200.539636110372 Delta:  266.3823433531775\n",
      "Iteration:  14 Objective:  4434.553436545745 Delta:  234.013800435373\n",
      "Iteration:  15 Objective:  4638.586912757755 Delta:  204.0334762120101\n",
      "Iteration:  16 Objective:  4814.179636214368 Delta:  175.59272345661248\n",
      "Iteration:  17 Objective:  4962.8777926343 Delta:  148.69815641993227\n",
      "Iteration:  18 Objective:  5086.5245063362845 Delta:  123.64671370198448\n",
      "Iteration:  19 Objective:  5187.2639431057805 Delta:  100.73943676949602\n",
      "Iteration:  20 Objective:  5267.431929527735 Delta:  80.16798642195408\n",
      "Iteration:  21 Objective:  5329.424467977433 Delta:  61.99253844969826\n",
      "Iteration:  22 Objective:  5375.584796287601 Delta:  46.16032831016855\n",
      "Iteration:  23 Objective:  5408.121972716967 Delta:  32.5371764293659\n",
      "Iteration:  24 Objective:  5429.060743618459 Delta:  20.938770901491807\n",
      "Iteration:  25 Objective:  5440.217241008009 Delta:  11.156497389550168\n",
      "Iteration:  26 Objective:  5443.193728297115 Delta:  2.9764872891055347\n",
      "Iteration:  27 Objective:  5439.385965360091 Delta:  3.8077629370236536\n",
      "Iteration:  28 Objective:  5429.998083104581 Delta:  9.387882255509794\n",
      "Iteration:  29 Objective:  5416.061492528417 Delta:  13.936590576164235\n",
      "Iteration:  30 Objective:  5398.455472519498 Delta:  17.606020008919586\n",
      "Iteration:  31 Objective:  5377.92771745158 Delta:  20.527755067917496\n",
      "Iteration:  32 Objective:  5355.11364521254 Delta:  22.814072239039888\n",
      "Iteration:  33 Objective:  5330.553731742657 Delta:  24.559913469883213\n",
      "Iteration:  34 Objective:  5304.708507924003 Delta:  25.84522381865372\n",
      "Iteration:  35 Objective:  5277.97112559929 Delta:  26.737382324713508\n",
      "Iteration:  36 Objective:  5250.677590217408 Delta:  27.293535381882066\n",
      "Iteration:  37 Objective:  5223.114890818759 Delta:  27.562699398648874\n",
      "Iteration:  38 Objective:  5195.527341407806 Delta:  27.587549410953216\n",
      "Iteration:  39 Objective:  5168.121489069377 Delta:  27.405852338428303\n",
      "Iteration:  40 Objective:  5141.069952674421 Delta:  27.0515363949562\n",
      "Iteration:  41 Objective:  5114.514533101017 Delta:  26.555419573403924\n",
      "Iteration:  42 Objective:  5088.56888802622 Delta:  25.94564507479754\n",
      "Iteration:  43 Objective:  5063.32100273278 Delta:  25.24788529344005\n",
      "Iteration:  44 Objective:  5038.835627397637 Delta:  24.485375335142635\n",
      "Iteration:  45 Objective:  5015.156795052667 Delta:  23.678832344970033\n",
      "Iteration:  46 Objective:  4992.310481021732 Delta:  22.84631403093499\n",
      "Iteration:  47 Objective:  4970.307403997562 Delta:  22.003077024170125\n",
      "Iteration:  48 Objective:  4949.145907833314 Delta:  21.161496164248092\n",
      "Iteration:  49 Objective:  4928.814825048675 Delta:  20.331082784638966\n",
      "Iteration:  50 Objective:  4909.296202226335 Delta:  19.51862282234015\n",
      "Iteration:  51 Objective:  4890.567772575997 Delta:  18.728429650337603\n",
      "Iteration:  52 Objective:  4872.605103699144 Delta:  17.96266887685306\n",
      "Iteration:  53 Objective:  4855.38337636 Delta:  17.22172733914431\n",
      "Iteration:  54 Objective:  4838.878733287073 Delta:  16.50464307292623\n",
      "Iteration:  55 Objective:  4823.069079205522 Delta:  15.809654081551344\n",
      "Iteration:  56 Objective:  4807.934223271302 Delta:  15.134855934220468\n",
      "Iteration:  57 Objective:  4793.455431593555 Delta:  14.478791677746813\n",
      "Iteration:  58 Objective:  4779.614681097604 Delta:  13.840750495950488\n",
      "Iteration:  59 Objective:  4766.393933514892 Delta:  13.220747582712647\n",
      "Iteration:  60 Objective:  4753.774598713064 Delta:  12.61933480182779\n",
      "Iteration:  61 Objective:  4741.737220579444 Delta:  12.037378133620223\n",
      "Iteration:  62 Objective:  4730.261314326154 Delta:  11.475906253289395\n",
      "Iteration:  63 Objective:  4719.325215511844 Delta:  10.936098814309844\n",
      "Iteration:  64 Objective:  4708.905725914325 Delta:  10.419489597519714\n",
      "Iteration:  65 Objective:  4698.9773807599395 Delta:  9.92834515438517\n",
      "Iteration:  66 Objective:  4689.511610360457 Delta:  9.465770399482608\n",
      "Iteration:  67 Objective:  4680.47607798354 Delta:  9.035532376917217\n",
      "Iteration:  68 Objective:  4671.834492929684 Delta:  8.641585053856033\n",
      "Iteration:  69 Objective:  4663.5470094869725 Delta:  8.287483442711164\n",
      "Iteration:  70 Objective:  4655.571207380663 Delta:  7.975802106309857\n",
      "Iteration:  71 Objective:  4647.863641587412 Delta:  7.7075657932509785\n",
      "Iteration:  72 Objective:  4640.381762330762 Delta:  7.481879256649336\n",
      "Iteration:  73 Objective:  4633.08584333643 Delta:  7.295918994332169\n",
      "Iteration:  74 Objective:  4625.941382275019 Delta:  7.144461061410766\n",
      "Iteration:  75 Objective:  4618.921621493013 Delta:  7.019760782006415\n",
      "Iteration:  76 Objective:  4612.009550748375 Delta:  6.912070744638186\n",
      "Iteration:  77 Objective:  4605.198896977499 Delta:  6.810653770875433\n",
      "Iteration:  78 Objective:  4598.4940126261945 Delta:  6.704884351304827\n",
      "Iteration:  79 Objective:  4591.908909004692 Delta:  6.58510362150264\n",
      "Iteration:  80 Objective:  4585.465799157869 Delta:  6.443109846823063\n",
      "Iteration:  81 Objective:  4579.194470586308 Delta:  6.271328571560844\n",
      "Iteration:  82 Objective:  4573.128385770993 Delta:  6.066084815314753\n",
      "Iteration:  83 Objective:  4567.300583228173 Delta:  5.827802542819882\n",
      "Iteration:  84 Objective:  4561.741459083509 Delta:  5.559124144664565\n",
      "Iteration:  85 Objective:  4556.476867591458 Delta:  5.264591492050386\n",
      "Iteration:  86 Objective:  4551.527413506546 Delta:  4.949454084912759\n",
      "Iteration:  87 Objective:  4546.909165989694 Delta:  4.618247516851625\n",
      "Iteration:  88 Objective:  4542.635159247517 Delta:  4.274006742177335\n",
      "Iteration:  89 Objective:  4538.716274898883 Delta:  3.9188843486335827\n",
      "Iteration:  90 Objective:  4535.160639896954 Delta:  3.5556350019287493\n",
      "Iteration:  91 Objective:  4531.972164574707 Delta:  3.188475322247541\n",
      "Iteration:  92 Objective:  4529.149361447922 Delta:  2.8228031267844926\n",
      "Iteration:  93 Objective:  4526.684908038241 Delta:  2.4644534096814823\n",
      "Iteration:  94 Objective:  4524.565933399829 Delta:  2.1189746384116006\n",
      "Iteration:  95 Objective:  4522.774625100403 Delta:  1.7913082994264187\n",
      "Iteration:  96 Objective:  4521.28917913884 Delta:  1.4854459615626183\n",
      "Iteration:  97 Objective:  4520.084769360148 Delta:  1.2044097786920247\n",
      "Iteration:  98 Objective:  4519.134406488198 Delta:  0.9503628719503467\n",
      "Iteration:  99 Objective:  4518.409634750754 Delta:  0.7247717374439162\n",
      "Iteration:  100 Objective:  4517.881212070708 Delta:  0.5284226800458782\n",
      "Iteration:  101 Objective:  4517.519774739486 Delta:  0.3614373312220778\n",
      "Iteration:  102 Objective:  4517.296487421111 Delta:  0.223287318374787\n",
      "Iteration:  103 Objective:  4517.183718159846 Delta:  0.11276926126538456\n",
      "Iteration:  104 Objective:  4517.15582498613 Delta:  0.027893173715710873\n",
      "Iteration:  105 Objective:  4517.189850765615 Delta:  0.034025779485091334\n",
      "Iteration:  106 Objective:  4517.265981653919 Delta:  0.07613088830385095\n",
      "Iteration:  107 Objective:  4517.367440297292 Delta:  0.10145864337300736\n",
      "Iteration:  108 Objective:  4517.479790896987 Delta:  0.11235059969476424\n",
      "Iteration:  109 Objective:  4517.590463223466 Delta:  0.11067232647928904\n",
      "Iteration:  110 Objective:  4517.688998645217 Delta:  0.09853542175096663\n",
      "Iteration:  111 Objective:  4517.767262254089 Delta:  0.07826360887156625\n",
      "Iteration:  112 Objective:  4517.818760967251 Delta:  0.051498713162800414\n",
      "Iteration:  113 Objective:  4517.8377167754015 Delta:  0.018955808150167286\n",
      "Iteration:  114 Objective:  4517.818807189238 Delta:  0.018909586163317726\n",
      "Iteration:  115 Objective:  4517.756008836198 Delta:  0.06279835304030712\n",
      "Iteration:  116 Objective:  4517.642101868815 Delta:  0.113906967382718\n",
      "Iteration:  117 Objective:  4517.468985829322 Delta:  0.17311603949292476\n",
      "Iteration:  118 Objective:  4517.228062002598 Delta:  0.240923826724611\n"
     ]
    },
    {
     "name": "stdout",
     "output_type": "stream",
     "text": [
      "Iteration:  119 Objective:  4516.909367505341 Delta:  0.31869449725672894\n",
      "Iteration:  120 Objective:  4516.499742073666 Delta:  0.40962543167461263\n",
      "Iteration:  121 Objective:  4515.988275523314 Delta:  0.511466550352452\n",
      "Iteration:  122 Objective:  4515.364576398482 Delta:  0.6236991248315462\n",
      "Iteration:  123 Objective:  4514.614339549944 Delta:  0.7502368485384068\n",
      "Iteration:  124 Objective:  4513.7138302123885 Delta:  0.900509337555377\n",
      "Iteration:  125 Objective:  4512.634892520332 Delta:  1.07893769205657\n",
      "Iteration:  126 Objective:  4511.329212679315 Delta:  1.3056798410170813\n",
      "Iteration:  127 Objective:  4509.728917935614 Delta:  1.6002947437009425\n",
      "Iteration:  128 Objective:  4507.798918100378 Delta:  1.9299998352362309\n",
      "Iteration:  129 Objective:  4505.624734439524 Delta:  2.174183660853487\n",
      "Iteration:  130 Objective:  4503.356816461068 Delta:  2.267917978456353\n",
      "Iteration:  131 Objective:  4501.112494661745 Delta:  2.2443217993231883\n",
      "Iteration:  132 Objective:  4498.9756884993385 Delta:  2.136806162406174\n",
      "Iteration:  133 Objective:  4497.0060385174675 Delta:  1.9696499818710436\n",
      "Iteration:  134 Objective:  4495.2342310984195 Delta:  1.7718074190479456\n",
      "Iteration:  135 Objective:  4493.64563614598 Delta:  1.588594952439962\n",
      "Iteration:  136 Objective:  4492.161385356165 Delta:  1.4842507898147232\n",
      "Iteration:  137 Objective:  4490.754077016014 Delta:  1.4073083401508484\n",
      "Iteration:  138 Objective:  4489.628662943903 Delta:  1.125414072111198\n",
      "Iteration:  139 Objective:  4488.879486349856 Delta:  0.7491765940467303\n",
      "Iteration:  140 Objective:  4488.430314565427 Delta:  0.44917178442938166\n",
      "Iteration:  141 Objective:  4488.2205356775285 Delta:  0.2097788878982101\n",
      "Iteration:  142 Objective:  4488.219146661359 Delta:  0.0013890161690142122\n"
     ]
    }
   ],
   "source": [
    "W, Hu, Hi = LCE(R, Xu, A)"
   ]
  },
  {
   "cell_type": "code",
   "execution_count": 227,
   "metadata": {},
   "outputs": [
    {
     "data": {
      "text/plain": [
       "array([2140,  402, 1286,  988,  875,    8, 1415, 1762,  367, 1963])"
      ]
     },
     "execution_count": 227,
     "metadata": {},
     "output_type": "execute_result"
    }
   ],
   "source": [
    "get_recommendations(Xu[5], Hu, Hi, topk=10)"
   ]
  },
  {
   "cell_type": "code",
   "execution_count": 228,
   "metadata": {},
   "outputs": [
    {
     "data": {
      "text/html": [
       "<div>\n",
       "<style scoped>\n",
       "    .dataframe tbody tr th:only-of-type {\n",
       "        vertical-align: middle;\n",
       "    }\n",
       "\n",
       "    .dataframe tbody tr th {\n",
       "        vertical-align: top;\n",
       "    }\n",
       "\n",
       "    .dataframe thead th {\n",
       "        text-align: right;\n",
       "    }\n",
       "</style>\n",
       "<table border=\"1\" class=\"dataframe\">\n",
       "  <thead>\n",
       "    <tr style=\"text-align: right;\">\n",
       "      <th></th>\n",
       "      <th>pid</th>\n",
       "      <th>trackid</th>\n",
       "    </tr>\n",
       "  </thead>\n",
       "  <tbody>\n",
       "    <tr>\n",
       "      <th>15</th>\n",
       "      <td>5</td>\n",
       "      <td>420</td>\n",
       "    </tr>\n",
       "    <tr>\n",
       "      <th>16</th>\n",
       "      <td>5</td>\n",
       "      <td>2026</td>\n",
       "    </tr>\n",
       "    <tr>\n",
       "      <th>17</th>\n",
       "      <td>5</td>\n",
       "      <td>629</td>\n",
       "    </tr>\n",
       "  </tbody>\n",
       "</table>\n",
       "</div>"
      ],
      "text/plain": [
       "    pid  trackid\n",
       "15    5      420\n",
       "16    5     2026\n",
       "17    5      629"
      ]
     },
     "execution_count": 228,
     "metadata": {},
     "output_type": "execute_result"
    }
   ],
   "source": [
    "new_transactions[new_transactions.pid == 5]"
   ]
  },
  {
   "cell_type": "code",
   "execution_count": 206,
   "metadata": {},
   "outputs": [
    {
     "data": {
      "text/plain": [
       "(array([1., 1., 1.]),\n",
       " array([], dtype=float64),\n",
       " 2,\n",
       " array([1.68481034e+01, 1.06836951e+00, 4.41842475e-16]))"
      ]
     },
     "execution_count": 206,
     "metadata": {},
     "output_type": "execute_result"
    }
   ],
   "source": [
    "np.linalg.lstsq([[1,2,3], [4,5,6], [7,8,9]], [6,15,24], rcond=-1)"
   ]
  },
  {
   "cell_type": "code",
   "execution_count": null,
   "metadata": {},
   "outputs": [],
   "source": []
  }
 ],
 "metadata": {
  "kernelspec": {
   "display_name": "Python 3",
   "language": "python",
   "name": "python3"
  },
  "language_info": {
   "codemirror_mode": {
    "name": "ipython",
    "version": 3
   },
   "file_extension": ".py",
   "mimetype": "text/x-python",
   "name": "python",
   "nbconvert_exporter": "python",
   "pygments_lexer": "ipython3",
   "version": "3.5.2"
  }
 },
 "nbformat": 4,
 "nbformat_minor": 2
}
