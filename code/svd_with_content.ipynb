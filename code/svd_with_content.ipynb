{
 "cells": [
  {
   "cell_type": "code",
   "execution_count": 11,
   "metadata": {},
   "outputs": [],
   "source": [
    "import pandas as pd"
   ]
  },
  {
   "cell_type": "code",
   "execution_count": 12,
   "metadata": {},
   "outputs": [],
   "source": [
    "data_dir = '../data/random_data'\n",
    "tracks = pd.read_csv('{}/tracks.csv'.format(data_dir), index_col=0)\n",
    "artists = pd.read_csv('{}/artists.csv'.format(data_dir), index_col=0)\n",
    "albums = pd.read_csv('{}/albums.csv'.format(data_dir), index_col=0)\n",
    "transactions = pd.read_csv('{}/transactions.csv'.format(data_dir), index_col=0)\n",
    "playlists = pd.read_csv('{}/playlists.csv'.format(data_dir), index_col=0)"
   ]
  },
  {
   "cell_type": "code",
   "execution_count": 13,
   "metadata": {},
   "outputs": [],
   "source": [
    "def get_full_dataset(transactions, tracks, playlists):\n",
    "    full_dataset = pd.merge(transactions, tracks, how='left', on='trackid')\n",
    "    full_dataset = pd.merge(full_dataset, playlists, how='left', on='pid')\n",
    "    return full_dataset"
   ]
  },
  {
   "cell_type": "code",
   "execution_count": 14,
   "metadata": {},
   "outputs": [
    {
     "data": {
      "text/html": [
       "<div>\n",
       "<style scoped>\n",
       "    .dataframe tbody tr th:only-of-type {\n",
       "        vertical-align: middle;\n",
       "    }\n",
       "\n",
       "    .dataframe tbody tr th {\n",
       "        vertical-align: top;\n",
       "    }\n",
       "\n",
       "    .dataframe thead th {\n",
       "        text-align: right;\n",
       "    }\n",
       "</style>\n",
       "<table border=\"1\" class=\"dataframe\">\n",
       "  <thead>\n",
       "    <tr style=\"text-align: right;\">\n",
       "      <th></th>\n",
       "      <th>pid</th>\n",
       "      <th>trackid</th>\n",
       "      <th>popular</th>\n",
       "      <th>artistid</th>\n",
       "      <th>albumid</th>\n",
       "      <th>name</th>\n",
       "      <th>num_followers</th>\n",
       "      <th>rating</th>\n",
       "    </tr>\n",
       "  </thead>\n",
       "  <tbody>\n",
       "    <tr>\n",
       "      <th>0</th>\n",
       "      <td>822032</td>\n",
       "      <td>2283</td>\n",
       "      <td>3384</td>\n",
       "      <td>1151</td>\n",
       "      <td>1618</td>\n",
       "      <td>party time</td>\n",
       "      <td>1</td>\n",
       "      <td>1</td>\n",
       "    </tr>\n",
       "    <tr>\n",
       "      <th>1</th>\n",
       "      <td>822032</td>\n",
       "      <td>2288</td>\n",
       "      <td>4339</td>\n",
       "      <td>1152</td>\n",
       "      <td>1622</td>\n",
       "      <td>party time</td>\n",
       "      <td>1</td>\n",
       "      <td>1</td>\n",
       "    </tr>\n",
       "    <tr>\n",
       "      <th>2</th>\n",
       "      <td>822032</td>\n",
       "      <td>907</td>\n",
       "      <td>4992</td>\n",
       "      <td>500</td>\n",
       "      <td>687</td>\n",
       "      <td>party time</td>\n",
       "      <td>1</td>\n",
       "      <td>1</td>\n",
       "    </tr>\n",
       "    <tr>\n",
       "      <th>3</th>\n",
       "      <td>822032</td>\n",
       "      <td>2289</td>\n",
       "      <td>1822</td>\n",
       "      <td>503</td>\n",
       "      <td>690</td>\n",
       "      <td>party time</td>\n",
       "      <td>1</td>\n",
       "      <td>1</td>\n",
       "    </tr>\n",
       "    <tr>\n",
       "      <th>4</th>\n",
       "      <td>822032</td>\n",
       "      <td>910</td>\n",
       "      <td>2160</td>\n",
       "      <td>503</td>\n",
       "      <td>690</td>\n",
       "      <td>party time</td>\n",
       "      <td>1</td>\n",
       "      <td>1</td>\n",
       "    </tr>\n",
       "  </tbody>\n",
       "</table>\n",
       "</div>"
      ],
      "text/plain": [
       "      pid  trackid  popular  artistid  albumid        name  num_followers  \\\n",
       "0  822032     2283     3384      1151     1618  party time              1   \n",
       "1  822032     2288     4339      1152     1622  party time              1   \n",
       "2  822032      907     4992       500      687  party time              1   \n",
       "3  822032     2289     1822       503      690  party time              1   \n",
       "4  822032      910     2160       503      690  party time              1   \n",
       "\n",
       "   rating  \n",
       "0       1  \n",
       "1       1  \n",
       "2       1  \n",
       "3       1  \n",
       "4       1  "
      ]
     },
     "execution_count": 14,
     "metadata": {},
     "output_type": "execute_result"
    }
   ],
   "source": [
    "full_dataset = get_full_dataset(transactions, tracks, playlists)\n",
    "full_dataset['rating'] = 1\n",
    "full_dataset.head()"
   ]
  },
  {
   "cell_type": "markdown",
   "metadata": {},
   "source": [
    "$R$ - матрица плейлист-трек\n",
    "$X$ - матрица плейлист-признак\n",
    "$C$ - матрица популярность-трек\n",
    "$U, V$ - матрицы профилей \n",
    "$$R = XUVC$$\n",
    "$$(X^TX)^{-1}X^TRC^T = UV$$\n",
    "$$\\hat{r}_{ui} = \\mathbf{x}_u^TUV\\mathbf{c}_i$$"
   ]
  },
  {
   "cell_type": "code",
   "execution_count": null,
   "metadata": {},
   "outputs": [],
   "source": [
    "    def get_training_content_matrix(self):\n",
    "        self.get_content_shape()\n",
    "        idx_userid = self.data.training[self.data.fields[0]].values\n",
    "        val = np.ones(self.data.training.shape[0])\n",
    "        \n",
    "        i = 0\n",
    "        features = []\n",
    "        \n",
    "        for col in self.train_content.columns:\n",
    "            idx_feature = self.train_content[col].values\n",
    "            shp = (idx_userid.max() + 1, \n",
    "                   self.content_shape[col])\n",
    "        \n",
    "            features_new = sparse.csr_matrix((val, (idx_userid, idx_feature)), \n",
    "                                             shape=shp)\n",
    "            \n",
    "            if i == 0:\n",
    "                features = features_new\n",
    "            else:\n",
    "                features = sparse.hstack((features, features_new))\n",
    "            \n",
    "            i += 1\n",
    "        \n",
    "        return features"
   ]
  },
  {
   "cell_type": "code",
   "execution_count": 15,
   "metadata": {},
   "outputs": [
    {
     "ename": "SyntaxError",
     "evalue": "invalid syntax (<ipython-input-15-f3f8e1980480>, line 1)",
     "output_type": "error",
     "traceback": [
      "\u001b[0;36m  File \u001b[0;32m\"<ipython-input-15-f3f8e1980480>\"\u001b[0;36m, line \u001b[0;32m1\u001b[0m\n\u001b[0;31m    def get_playlist_artist_album_matrix(play)\u001b[0m\n\u001b[0m                                              ^\u001b[0m\n\u001b[0;31mSyntaxError\u001b[0m\u001b[0;31m:\u001b[0m invalid syntax\n"
     ]
    }
   ],
   "source": [
    "def get_playlist_artist_album_matrix(data, content_columns, user_col):\n",
    "    idx_userid = data[user_col].values\n",
    "    val = np.ones(data[user_col].shape[0])\n",
    "    \n",
    "    i = 0\n",
    "    features = []\n",
    "    \n",
    "    for col in content_columns:\n",
    "        idx_feature = data[col].values\n",
    "        shp = (idx_userid.max() + 1,\n",
    "               idx_feature.max() + 1)\n",
    "        \n",
    "        features_new = sparse.csr_matrix((val, (idx_userid, idx_feature)), \n",
    "                                         shape=shp)\n",
    "        \n",
    "        if i == 0:\n",
    "            features = features_new\n",
    "        else:\n",
    "            features = sparse.hstack((features, features_new))\n",
    "            \n",
    "        i+=1\n",
    "    \n",
    "    return features\n",
    "\n",
    "def get_playlist_name_matrix(playlists):\n",
    "    playlists['name'] = [str(playlists['name'].values[i]).lower() \n",
    "                         for i in range(playlists.shape[0])]\n",
    "    names = playlists['name'].values\n",
    "    for i in range(names.shape[0]):\n",
    "        names[i] = re.compile('[^a-zA-Z0-9 ]').sub('', names[i])\n",
    "    playlists['name'] = names\n",
    "    words_in_names = []\n",
    "    for i in range(names.shape[0]):\n",
    "        words_in_names += names[i].split(' ')\n",
    "    stop_words = stopwords.words('english') + ['music', 'song', 'songs', 'playlist', '', 'good']\n",
    "    words_in_names = np.array([word for word in words_in_names if word not in stop_words])\n",
    "    bag_of_words = CountVectorizer()\n",
    "    bag_of_words.vocabulary_ = words_in_names\n",
    "    print(words_in_names)\n",
    "    X = bag_of_words.fit_transform(playlists.name.values)\n",
    "    return X\n",
    "\n",
    "def get_popularity_track_matrix(data):\n",
    "    enc = OneHotEncoder()\n",
    "    enc.fit(data[['', 'name']])"
   ]
  },
  {
   "cell_type": "code",
   "execution_count": 16,
   "metadata": {},
   "outputs": [
    {
     "data": {
      "text/plain": [
       "(7657, 8)"
      ]
     },
     "execution_count": 16,
     "metadata": {},
     "output_type": "execute_result"
    }
   ],
   "source": []
  },
  {
   "cell_type": "code",
   "execution_count": 17,
   "metadata": {},
   "outputs": [
    {
     "data": {
      "text/plain": [
       "(7657, 3)"
      ]
     },
     "execution_count": 17,
     "metadata": {},
     "output_type": "execute_result"
    }
   ],
   "source": [
    "playlists.shape"
   ]
  },
  {
   "cell_type": "code",
   "execution_count": null,
   "metadata": {},
   "outputs": [],
   "source": []
  }
 ],
 "metadata": {
  "kernelspec": {
   "display_name": "Python 3",
   "language": "python",
   "name": "python3"
  },
  "language_info": {
   "codemirror_mode": {
    "name": "ipython",
    "version": 3
   },
   "file_extension": ".py",
   "mimetype": "text/x-python",
   "name": "python",
   "nbconvert_exporter": "python",
   "pygments_lexer": "ipython3",
   "version": "3.5.2"
  }
 },
 "nbformat": 4,
 "nbformat_minor": 2
}
