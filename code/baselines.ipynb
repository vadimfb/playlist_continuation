{
 "cells": [
  {
   "cell_type": "code",
   "execution_count": 1,
   "metadata": {},
   "outputs": [],
   "source": [
    "import numpy as np\n",
    "import pandas as pd\n",
    "import tqdm"
   ]
  },
  {
   "cell_type": "code",
   "execution_count": 2,
   "metadata": {},
   "outputs": [],
   "source": [
    "data_dir = '/home/vadim/playlist_generation/data/random_data'"
   ]
  },
  {
   "cell_type": "markdown",
   "metadata": {},
   "source": [
    "### Загружаем mpd_data(Million playlist dataset)"
   ]
  },
  {
   "cell_type": "code",
   "execution_count": 3,
   "metadata": {},
   "outputs": [
    {
     "data": {
      "text/html": [
       "<div>\n",
       "<style scoped>\n",
       "    .dataframe tbody tr th:only-of-type {\n",
       "        vertical-align: middle;\n",
       "    }\n",
       "\n",
       "    .dataframe tbody tr th {\n",
       "        vertical-align: top;\n",
       "    }\n",
       "\n",
       "    .dataframe thead th {\n",
       "        text-align: right;\n",
       "    }\n",
       "</style>\n",
       "<table border=\"1\" class=\"dataframe\">\n",
       "  <thead>\n",
       "    <tr style=\"text-align: right;\">\n",
       "      <th></th>\n",
       "      <th>pid</th>\n",
       "      <th>trackid</th>\n",
       "    </tr>\n",
       "  </thead>\n",
       "  <tbody>\n",
       "    <tr>\n",
       "      <th>1160</th>\n",
       "      <td>822014</td>\n",
       "      <td>617</td>\n",
       "    </tr>\n",
       "    <tr>\n",
       "      <th>1161</th>\n",
       "      <td>822014</td>\n",
       "      <td>620</td>\n",
       "    </tr>\n",
       "    <tr>\n",
       "      <th>1162</th>\n",
       "      <td>822014</td>\n",
       "      <td>1106</td>\n",
       "    </tr>\n",
       "    <tr>\n",
       "      <th>1166</th>\n",
       "      <td>822014</td>\n",
       "      <td>1110</td>\n",
       "    </tr>\n",
       "    <tr>\n",
       "      <th>1168</th>\n",
       "      <td>822014</td>\n",
       "      <td>1112</td>\n",
       "    </tr>\n",
       "  </tbody>\n",
       "</table>\n",
       "</div>"
      ],
      "text/plain": [
       "         pid  trackid\n",
       "1160  822014      617\n",
       "1161  822014      620\n",
       "1162  822014     1106\n",
       "1166  822014     1110\n",
       "1168  822014     1112"
      ]
     },
     "execution_count": 3,
     "metadata": {},
     "output_type": "execute_result"
    }
   ],
   "source": [
    "mpd_data = pd.read_csv('{}/transactions.csv'.format(data_dir), index_col=0)\n",
    "mpd_data.head()"
   ]
  },
  {
   "cell_type": "markdown",
   "metadata": {},
   "source": [
    "### Определяем рейтинг единичкой"
   ]
  },
  {
   "cell_type": "code",
   "execution_count": 4,
   "metadata": {},
   "outputs": [
    {
     "data": {
      "text/html": [
       "<div>\n",
       "<style scoped>\n",
       "    .dataframe tbody tr th:only-of-type {\n",
       "        vertical-align: middle;\n",
       "    }\n",
       "\n",
       "    .dataframe tbody tr th {\n",
       "        vertical-align: top;\n",
       "    }\n",
       "\n",
       "    .dataframe thead th {\n",
       "        text-align: right;\n",
       "    }\n",
       "</style>\n",
       "<table border=\"1\" class=\"dataframe\">\n",
       "  <thead>\n",
       "    <tr style=\"text-align: right;\">\n",
       "      <th></th>\n",
       "      <th>pid</th>\n",
       "      <th>trackid</th>\n",
       "      <th>rating</th>\n",
       "    </tr>\n",
       "  </thead>\n",
       "  <tbody>\n",
       "    <tr>\n",
       "      <th>1160</th>\n",
       "      <td>822014</td>\n",
       "      <td>617</td>\n",
       "      <td>1</td>\n",
       "    </tr>\n",
       "    <tr>\n",
       "      <th>1161</th>\n",
       "      <td>822014</td>\n",
       "      <td>620</td>\n",
       "      <td>1</td>\n",
       "    </tr>\n",
       "    <tr>\n",
       "      <th>1162</th>\n",
       "      <td>822014</td>\n",
       "      <td>1106</td>\n",
       "      <td>1</td>\n",
       "    </tr>\n",
       "    <tr>\n",
       "      <th>1166</th>\n",
       "      <td>822014</td>\n",
       "      <td>1110</td>\n",
       "      <td>1</td>\n",
       "    </tr>\n",
       "    <tr>\n",
       "      <th>1168</th>\n",
       "      <td>822014</td>\n",
       "      <td>1112</td>\n",
       "      <td>1</td>\n",
       "    </tr>\n",
       "  </tbody>\n",
       "</table>\n",
       "</div>"
      ],
      "text/plain": [
       "         pid  trackid  rating\n",
       "1160  822014      617       1\n",
       "1161  822014      620       1\n",
       "1162  822014     1106       1\n",
       "1166  822014     1110       1\n",
       "1168  822014     1112       1"
      ]
     },
     "execution_count": 4,
     "metadata": {},
     "output_type": "execute_result"
    }
   ],
   "source": [
    "mpd_data['rating'] = 1\n",
    "mpd_data.head()"
   ]
  },
  {
   "cell_type": "markdown",
   "metadata": {},
   "source": [
    "### Обрежем mpd_data по пользователям для быстроты"
   ]
  },
  {
   "cell_type": "code",
   "execution_count": 5,
   "metadata": {},
   "outputs": [],
   "source": [
    "data = mpd_data"
   ]
  },
  {
   "cell_type": "code",
   "execution_count": 6,
   "metadata": {},
   "outputs": [
    {
     "data": {
      "text/plain": [
       "(576412, 3)"
      ]
     },
     "execution_count": 6,
     "metadata": {},
     "output_type": "execute_result"
    }
   ],
   "source": [
    "data.shape"
   ]
  },
  {
   "cell_type": "code",
   "execution_count": 7,
   "metadata": {},
   "outputs": [],
   "source": [
    "from polara.recommender.data import RecommenderData\n",
    "from polara.recommender.models import SVDModel\n",
    "from sklearn.model_selection import KFold"
   ]
  },
  {
   "cell_type": "code",
   "execution_count": 8,
   "metadata": {},
   "outputs": [],
   "source": [
    "def cross_validation_svd(data, n_splits=5, seed=1, test_size=0.05, topk=500, rank=10):\n",
    "    kf = KFold(n_splits=n_splits, random_state=seed)\n",
    "    i = 1\n",
    "    scores = {'precision': [], 'recall': [], 'miss_rate': [], 'nDCG': []}\n",
    "    for users_ids, unseen_users_ids in kf.split(data['pid'].drop_duplicates()):\n",
    "        print('=========================Fold {}============================='.format(i))\n",
    "        i += 1\n",
    "        users = data['pid'].drop_duplicates().values[users_ids]\n",
    "        unseen_users = data['pid'].drop_duplicates().values[unseen_users_ids]\n",
    "        train = data.query('pid in @users')\n",
    "        test = data.query('pid in @unseen_users')\n",
    "        test_sampled = test.sample(frac=1-test_size, random_state=seed).sort_values('pid')\n",
    "        test_holdout = test[~test.index.isin(test_sampled.index)]\n",
    "        \n",
    "        data_model = RecommenderData(train,'pid', 'trackid', 'rating', seed=seed)\n",
    "        data_model.prepare_training_only()\n",
    "        svd = SVDModel(data_model)\n",
    "        svd.rank = rank\n",
    "        svd.build()\n",
    "        \n",
    "        data_model.set_test_data(testset=test_sampled, holdout=test_holdout, warm_start=True)\n",
    "        svd.switch_positive = 1\n",
    "        svd.topk = topk\n",
    "        relevance = svd.evaluate('relevance')\n",
    "        ranking = svd.evaluate('ranking')\n",
    "        \n",
    "        scores['precision'].append(relevance.precision)\n",
    "        scores['recall'].append(relevance.recall)\n",
    "        scores['miss_rate'].append(relevance.miss_rate)\n",
    "        scores['nDCG'].append(ranking.nDCG)\n",
    "        \n",
    "    result = pd.DataFrame(scores)\n",
    "    return result"
   ]
  },
  {
   "cell_type": "code",
   "execution_count": 9,
   "metadata": {},
   "outputs": [
    {
     "name": "stderr",
     "output_type": "stream",
     "text": [
      "\r",
      "  0%|          | 0/6 [00:00<?, ?it/s]"
     ]
    },
    {
     "name": "stdout",
     "output_type": "stream",
     "text": [
      "             ===========rank=3=============\n",
      "(576412, 3)\n",
      "=========================Fold 1=============================\n",
      "Preparing data...\n",
      "Done.\n",
      "PureSVD training time: 0.1943316889999096s\n",
      "1426 unique trackid's within 1573 testset interactions were filtered. Reason: not in the training data.\n",
      "188 unique trackid's within 188 holdout interactions were filtered. Reason: not in the training data.\n",
      "1 pid's were filtered out from holdout. Reason: inconsistent with testset.\n",
      "612 pid's were filtered out from testset. Reason: inconsistent with holdout.\n",
      "=========================Fold 2=============================\n",
      "Preparing data...\n",
      "Done.\n",
      "PureSVD training time: 0.15474513000003753s\n",
      "1372 unique trackid's within 1533 testset interactions were filtered. Reason: not in the training data.\n",
      "183 unique trackid's within 188 holdout interactions were filtered. Reason: not in the training data.\n",
      "588 pid's were filtered out from testset. Reason: inconsistent with holdout.\n",
      "=========================Fold 3=============================\n",
      "Preparing data...\n",
      "Done.\n",
      "PureSVD training time: 0.15501849400016s\n",
      "1303 unique trackid's within 1431 testset interactions were filtered. Reason: not in the training data.\n",
      "154 unique trackid's within 157 holdout interactions were filtered. Reason: not in the training data.\n",
      "594 pid's were filtered out from testset. Reason: inconsistent with holdout.\n",
      "=========================Fold 4=============================\n",
      "Preparing data...\n",
      "Done.\n",
      "PureSVD training time: 0.21523148699998274s\n",
      "1428 unique trackid's within 1586 testset interactions were filtered. Reason: not in the training data.\n",
      "171 unique trackid's within 173 holdout interactions were filtered. Reason: not in the training data.\n",
      "610 pid's were filtered out from testset. Reason: inconsistent with holdout.\n",
      "=========================Fold 5=============================\n",
      "Preparing data...\n",
      "Done.\n",
      "PureSVD training time: 0.1550115680001909s\n",
      "1392 unique trackid's within 1524 testset interactions were filtered. Reason: not in the training data.\n",
      "158 unique trackid's within 160 holdout interactions were filtered. Reason: not in the training data.\n",
      "593 pid's were filtered out from testset. Reason: inconsistent with holdout.\n"
     ]
    },
    {
     "name": "stderr",
     "output_type": "stream",
     "text": [
      "\r",
      " 17%|█▋        | 1/6 [00:10<00:52, 10.52s/it]"
     ]
    },
    {
     "name": "stdout",
     "output_type": "stream",
     "text": [
      "             ===========rank=4=============\n",
      "(576412, 3)\n",
      "=========================Fold 1=============================\n",
      "Preparing data...\n",
      "Done.\n",
      "PureSVD training time: 0.15238986700001078s\n",
      "1426 unique trackid's within 1573 testset interactions were filtered. Reason: not in the training data.\n",
      "188 unique trackid's within 188 holdout interactions were filtered. Reason: not in the training data.\n",
      "1 pid's were filtered out from holdout. Reason: inconsistent with testset.\n",
      "612 pid's were filtered out from testset. Reason: inconsistent with holdout.\n",
      "=========================Fold 2=============================\n",
      "Preparing data...\n",
      "Done.\n",
      "PureSVD training time: 0.1300877759999821s\n",
      "1372 unique trackid's within 1533 testset interactions were filtered. Reason: not in the training data.\n",
      "183 unique trackid's within 188 holdout interactions were filtered. Reason: not in the training data.\n",
      "588 pid's were filtered out from testset. Reason: inconsistent with holdout.\n",
      "=========================Fold 3=============================\n",
      "Preparing data...\n",
      "Done.\n",
      "PureSVD training time: 0.1291957230000662s\n",
      "1303 unique trackid's within 1431 testset interactions were filtered. Reason: not in the training data.\n",
      "154 unique trackid's within 157 holdout interactions were filtered. Reason: not in the training data.\n",
      "594 pid's were filtered out from testset. Reason: inconsistent with holdout.\n",
      "=========================Fold 4=============================\n",
      "Preparing data...\n",
      "Done.\n",
      "PureSVD training time: 0.17782748300010098s\n",
      "1428 unique trackid's within 1586 testset interactions were filtered. Reason: not in the training data.\n",
      "171 unique trackid's within 173 holdout interactions were filtered. Reason: not in the training data.\n",
      "610 pid's were filtered out from testset. Reason: inconsistent with holdout.\n",
      "=========================Fold 5=============================\n",
      "Preparing data...\n",
      "Done.\n",
      "PureSVD training time: 0.15629115900014767s\n",
      "1392 unique trackid's within 1524 testset interactions were filtered. Reason: not in the training data.\n",
      "158 unique trackid's within 160 holdout interactions were filtered. Reason: not in the training data.\n",
      "593 pid's were filtered out from testset. Reason: inconsistent with holdout.\n"
     ]
    },
    {
     "name": "stderr",
     "output_type": "stream",
     "text": [
      "\r",
      " 33%|███▎      | 2/6 [00:21<00:42, 10.71s/it]"
     ]
    },
    {
     "name": "stdout",
     "output_type": "stream",
     "text": [
      "             ===========rank=5=============\n",
      "(576412, 3)\n",
      "=========================Fold 1=============================\n",
      "Preparing data...\n",
      "Done.\n",
      "PureSVD training time: 0.1680975369999942s\n",
      "1426 unique trackid's within 1573 testset interactions were filtered. Reason: not in the training data.\n",
      "188 unique trackid's within 188 holdout interactions were filtered. Reason: not in the training data.\n",
      "1 pid's were filtered out from holdout. Reason: inconsistent with testset.\n",
      "612 pid's were filtered out from testset. Reason: inconsistent with holdout.\n",
      "=========================Fold 2=============================\n",
      "Preparing data...\n",
      "Done.\n",
      "PureSVD training time: 0.3098288829999092s\n",
      "1372 unique trackid's within 1533 testset interactions were filtered. Reason: not in the training data.\n",
      "183 unique trackid's within 188 holdout interactions were filtered. Reason: not in the training data.\n",
      "588 pid's were filtered out from testset. Reason: inconsistent with holdout.\n",
      "=========================Fold 3=============================\n",
      "Preparing data...\n",
      "Done.\n",
      "PureSVD training time: 0.24030240000001868s\n",
      "1303 unique trackid's within 1431 testset interactions were filtered. Reason: not in the training data.\n",
      "154 unique trackid's within 157 holdout interactions were filtered. Reason: not in the training data.\n",
      "594 pid's were filtered out from testset. Reason: inconsistent with holdout.\n",
      "=========================Fold 4=============================\n",
      "Preparing data...\n",
      "Done.\n",
      "PureSVD training time: 0.15574614100000872s\n",
      "1428 unique trackid's within 1586 testset interactions were filtered. Reason: not in the training data.\n",
      "171 unique trackid's within 173 holdout interactions were filtered. Reason: not in the training data.\n",
      "610 pid's were filtered out from testset. Reason: inconsistent with holdout.\n",
      "=========================Fold 5=============================\n",
      "Preparing data...\n",
      "Done.\n",
      "PureSVD training time: 0.352507082999864s\n",
      "1392 unique trackid's within 1524 testset interactions were filtered. Reason: not in the training data.\n",
      "158 unique trackid's within 160 holdout interactions were filtered. Reason: not in the training data.\n",
      "593 pid's were filtered out from testset. Reason: inconsistent with holdout.\n"
     ]
    },
    {
     "name": "stderr",
     "output_type": "stream",
     "text": [
      "\r",
      " 50%|█████     | 3/6 [00:32<00:32, 10.99s/it]"
     ]
    },
    {
     "name": "stdout",
     "output_type": "stream",
     "text": [
      "             ===========rank=10=============\n",
      "(576412, 3)\n",
      "=========================Fold 1=============================\n",
      "Preparing data...\n",
      "Done.\n",
      "PureSVD training time: 0.2746968559999914s\n",
      "1426 unique trackid's within 1573 testset interactions were filtered. Reason: not in the training data.\n",
      "188 unique trackid's within 188 holdout interactions were filtered. Reason: not in the training data.\n",
      "1 pid's were filtered out from holdout. Reason: inconsistent with testset.\n",
      "612 pid's were filtered out from testset. Reason: inconsistent with holdout.\n",
      "=========================Fold 2=============================\n",
      "Preparing data...\n",
      "Done.\n",
      "PureSVD training time: 0.25925373599989143s\n",
      "1372 unique trackid's within 1533 testset interactions were filtered. Reason: not in the training data.\n",
      "183 unique trackid's within 188 holdout interactions were filtered. Reason: not in the training data.\n",
      "588 pid's were filtered out from testset. Reason: inconsistent with holdout.\n",
      "=========================Fold 3=============================\n",
      "Preparing data...\n",
      "Done.\n",
      "PureSVD training time: 0.27020131099993705s\n",
      "1303 unique trackid's within 1431 testset interactions were filtered. Reason: not in the training data.\n",
      "154 unique trackid's within 157 holdout interactions were filtered. Reason: not in the training data.\n",
      "594 pid's were filtered out from testset. Reason: inconsistent with holdout.\n",
      "=========================Fold 4=============================\n",
      "Preparing data...\n",
      "Done.\n",
      "PureSVD training time: 0.2457501990002129s\n",
      "1428 unique trackid's within 1586 testset interactions were filtered. Reason: not in the training data.\n",
      "171 unique trackid's within 173 holdout interactions were filtered. Reason: not in the training data.\n",
      "610 pid's were filtered out from testset. Reason: inconsistent with holdout.\n",
      "=========================Fold 5=============================\n",
      "Preparing data...\n",
      "Done.\n",
      "PureSVD training time: 0.3082486409998637s\n",
      "1392 unique trackid's within 1524 testset interactions were filtered. Reason: not in the training data.\n",
      "158 unique trackid's within 160 holdout interactions were filtered. Reason: not in the training data.\n",
      "593 pid's were filtered out from testset. Reason: inconsistent with holdout.\n"
     ]
    },
    {
     "name": "stderr",
     "output_type": "stream",
     "text": [
      "\r",
      " 67%|██████▋   | 4/6 [00:44<00:22, 11.05s/it]"
     ]
    },
    {
     "name": "stdout",
     "output_type": "stream",
     "text": [
      "             ===========rank=25=============\n",
      "(576412, 3)\n",
      "=========================Fold 1=============================\n",
      "Preparing data...\n",
      "Done.\n",
      "PureSVD training time: 0.7781507289998899s\n",
      "1426 unique trackid's within 1573 testset interactions were filtered. Reason: not in the training data.\n",
      "188 unique trackid's within 188 holdout interactions were filtered. Reason: not in the training data.\n",
      "1 pid's were filtered out from holdout. Reason: inconsistent with testset.\n",
      "612 pid's were filtered out from testset. Reason: inconsistent with holdout.\n",
      "=========================Fold 2=============================\n",
      "Preparing data...\n",
      "Done.\n",
      "PureSVD training time: 0.8986372819999815s\n",
      "1372 unique trackid's within 1533 testset interactions were filtered. Reason: not in the training data.\n",
      "183 unique trackid's within 188 holdout interactions were filtered. Reason: not in the training data.\n",
      "588 pid's were filtered out from testset. Reason: inconsistent with holdout.\n",
      "=========================Fold 3=============================\n",
      "Preparing data...\n",
      "Done.\n",
      "PureSVD training time: 0.6559088460001021s\n",
      "1303 unique trackid's within 1431 testset interactions were filtered. Reason: not in the training data.\n",
      "154 unique trackid's within 157 holdout interactions were filtered. Reason: not in the training data.\n",
      "594 pid's were filtered out from testset. Reason: inconsistent with holdout.\n",
      "=========================Fold 4=============================\n",
      "Preparing data...\n",
      "Done.\n",
      "PureSVD training time: 0.6961381809999239s\n",
      "1428 unique trackid's within 1586 testset interactions were filtered. Reason: not in the training data.\n",
      "171 unique trackid's within 173 holdout interactions were filtered. Reason: not in the training data.\n",
      "610 pid's were filtered out from testset. Reason: inconsistent with holdout.\n",
      "=========================Fold 5=============================\n",
      "Preparing data...\n",
      "Done.\n",
      "PureSVD training time: 0.9610235130001001s\n",
      "1392 unique trackid's within 1524 testset interactions were filtered. Reason: not in the training data.\n",
      "158 unique trackid's within 160 holdout interactions were filtered. Reason: not in the training data.\n",
      "593 pid's were filtered out from testset. Reason: inconsistent with holdout.\n"
     ]
    },
    {
     "name": "stderr",
     "output_type": "stream",
     "text": [
      "\r",
      " 83%|████████▎ | 5/6 [00:58<00:11, 11.66s/it]"
     ]
    },
    {
     "name": "stdout",
     "output_type": "stream",
     "text": [
      "             ===========rank=50=============\n",
      "(576412, 3)\n",
      "=========================Fold 1=============================\n",
      "Preparing data...\n",
      "Done.\n",
      "PureSVD training time: 1.696872115999895s\n",
      "1426 unique trackid's within 1573 testset interactions were filtered. Reason: not in the training data.\n",
      "188 unique trackid's within 188 holdout interactions were filtered. Reason: not in the training data.\n",
      "1 pid's were filtered out from holdout. Reason: inconsistent with testset.\n",
      "612 pid's were filtered out from testset. Reason: inconsistent with holdout.\n",
      "=========================Fold 2=============================\n",
      "Preparing data...\n",
      "Done.\n",
      "PureSVD training time: 2.0721680350000042s\n",
      "1372 unique trackid's within 1533 testset interactions were filtered. Reason: not in the training data.\n",
      "183 unique trackid's within 188 holdout interactions were filtered. Reason: not in the training data.\n",
      "588 pid's were filtered out from testset. Reason: inconsistent with holdout.\n",
      "=========================Fold 3=============================\n",
      "Preparing data...\n",
      "Done.\n",
      "PureSVD training time: 1.9012195420000353s\n",
      "1303 unique trackid's within 1431 testset interactions were filtered. Reason: not in the training data.\n",
      "154 unique trackid's within 157 holdout interactions were filtered. Reason: not in the training data.\n",
      "594 pid's were filtered out from testset. Reason: inconsistent with holdout.\n",
      "=========================Fold 4=============================\n",
      "Preparing data...\n",
      "Done.\n",
      "PureSVD training time: 2.008348427000101s\n",
      "1428 unique trackid's within 1586 testset interactions were filtered. Reason: not in the training data.\n",
      "171 unique trackid's within 173 holdout interactions were filtered. Reason: not in the training data.\n",
      "610 pid's were filtered out from testset. Reason: inconsistent with holdout.\n",
      "=========================Fold 5=============================\n",
      "Preparing data...\n",
      "Done.\n",
      "PureSVD training time: 1.8176588349999747s\n",
      "1392 unique trackid's within 1524 testset interactions were filtered. Reason: not in the training data.\n",
      "158 unique trackid's within 160 holdout interactions were filtered. Reason: not in the training data.\n",
      "593 pid's were filtered out from testset. Reason: inconsistent with holdout.\n"
     ]
    },
    {
     "name": "stderr",
     "output_type": "stream",
     "text": [
      "100%|██████████| 6/6 [01:18<00:00, 13.15s/it]\n"
     ]
    }
   ],
   "source": [
    "topks = [500]\n",
    "ranks = [3,4,5,10, 25, 50]\n",
    "recall = []\n",
    "nDCG = []\n",
    "precision = []\n",
    "miss_rate = []\n",
    "for rank in tqdm.tqdm(ranks):\n",
    "    print('             ===========rank={}============='.format(rank))\n",
    "    print(data.shape)\n",
    "    result = cross_validation_svd(data, topk=500, test_size=0.1, rank=rank)\n",
    "    recall.append(result.recall.mean())\n",
    "    nDCG.append(result.nDCG.mean())\n",
    "    precision.append(result.precision.mean())\n",
    "    miss_rate.append(result.miss_rate.mean())"
   ]
  },
  {
   "cell_type": "code",
   "execution_count": 10,
   "metadata": {},
   "outputs": [],
   "source": [
    "import matplotlib.pyplot as plt"
   ]
  },
  {
   "cell_type": "code",
   "execution_count": 11,
   "metadata": {},
   "outputs": [
    {
     "data": {
      "image/png": "[encoded data removed]",
      "text/plain": [
       "<Figure size 864x576 with 1 Axes>"
      ]
     },
     "metadata": {},
     "output_type": "display_data"
    }
   ],
   "source": [
    "plt.style.use('seaborn')\n",
    "plt.figure(figsize=(12,8))\n",
    "plt.plot(ranks, recall, 'orange', label='recall')\n",
    "plt.plot(ranks, nDCG,label='nDCG')\n",
    "plt.plot(ranks, precision, label='precision')\n",
    "plt.plot(ranks, miss_rate, label='miss_rate')\n",
    "plt.ylabel('evalution')\n",
    "plt.xlabel('topk')\n",
    "plt.legend()\n",
    "plt.show()"
   ]
  },
  {
   "cell_type": "code",
   "execution_count": null,
   "metadata": {},
   "outputs": [],
   "source": []
  }
 ],
 "metadata": {
  "kernelspec": {
   "display_name": "Python 3",
   "language": "python",
   "name": "python3"
  },
  "language_info": {
   "codemirror_mode": {
    "name": "ipython",
    "version": 3
   },
   "file_extension": ".py",
   "mimetype": "text/x-python",
   "name": "python",
   "nbconvert_exporter": "python",
   "pygments_lexer": "ipython3",
   "version": "3.5.2"
  }
 },
 "nbformat": 4,
 "nbformat_minor": 2
}
