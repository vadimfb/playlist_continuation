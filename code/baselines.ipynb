{
 "cells": [
  {
   "cell_type": "code",
   "execution_count": 2,
   "metadata": {},
   "outputs": [],
   "source": [
    "import numpy as np\n",
    "import pandas as pd\n",
    "import tqdm"
   ]
  },
  {
   "cell_type": "code",
   "execution_count": 3,
   "metadata": {},
   "outputs": [],
   "source": [
    "data_dir = '/home/vadim/playlist_generation/data/random_data'"
   ]
  },
  {
   "cell_type": "markdown",
   "metadata": {},
   "source": [
    "### Загружаем mpd_data(Million playlist dataset)"
   ]
  },
  {
   "cell_type": "code",
   "execution_count": 4,
   "metadata": {},
   "outputs": [
    {
     "data": {
      "text/html": [
       "<div>\n",
       "<style scoped>\n",
       "    .dataframe tbody tr th:only-of-type {\n",
       "        vertical-align: middle;\n",
       "    }\n",
       "\n",
       "    .dataframe tbody tr th {\n",
       "        vertical-align: top;\n",
       "    }\n",
       "\n",
       "    .dataframe thead th {\n",
       "        text-align: right;\n",
       "    }\n",
       "</style>\n",
       "<table border=\"1\" class=\"dataframe\">\n",
       "  <thead>\n",
       "    <tr style=\"text-align: right;\">\n",
       "      <th></th>\n",
       "      <th>pid</th>\n",
       "      <th>trackid</th>\n",
       "    </tr>\n",
       "  </thead>\n",
       "  <tbody>\n",
       "    <tr>\n",
       "      <th>2429</th>\n",
       "      <td>822032</td>\n",
       "      <td>2283</td>\n",
       "    </tr>\n",
       "    <tr>\n",
       "      <th>2434</th>\n",
       "      <td>822032</td>\n",
       "      <td>2288</td>\n",
       "    </tr>\n",
       "    <tr>\n",
       "      <th>2435</th>\n",
       "      <td>822032</td>\n",
       "      <td>907</td>\n",
       "    </tr>\n",
       "    <tr>\n",
       "      <th>2436</th>\n",
       "      <td>822032</td>\n",
       "      <td>2289</td>\n",
       "    </tr>\n",
       "    <tr>\n",
       "      <th>2437</th>\n",
       "      <td>822032</td>\n",
       "      <td>910</td>\n",
       "    </tr>\n",
       "  </tbody>\n",
       "</table>\n",
       "</div>"
      ],
      "text/plain": [
       "         pid  trackid\n",
       "2429  822032     2283\n",
       "2434  822032     2288\n",
       "2435  822032      907\n",
       "2436  822032     2289\n",
       "2437  822032      910"
      ]
     },
     "execution_count": 4,
     "metadata": {},
     "output_type": "execute_result"
    }
   ],
   "source": [
    "mpd_data = pd.read_csv('{}/transactions.csv'.format(data_dir), index_col=0)\n",
    "mpd_data.head()"
   ]
  },
  {
   "cell_type": "markdown",
   "metadata": {},
   "source": [
    "### Определяем рейтинг единичкой"
   ]
  },
  {
   "cell_type": "code",
   "execution_count": 5,
   "metadata": {},
   "outputs": [
    {
     "data": {
      "text/html": [
       "<div>\n",
       "<style scoped>\n",
       "    .dataframe tbody tr th:only-of-type {\n",
       "        vertical-align: middle;\n",
       "    }\n",
       "\n",
       "    .dataframe tbody tr th {\n",
       "        vertical-align: top;\n",
       "    }\n",
       "\n",
       "    .dataframe thead th {\n",
       "        text-align: right;\n",
       "    }\n",
       "</style>\n",
       "<table border=\"1\" class=\"dataframe\">\n",
       "  <thead>\n",
       "    <tr style=\"text-align: right;\">\n",
       "      <th></th>\n",
       "      <th>pid</th>\n",
       "      <th>trackid</th>\n",
       "      <th>rating</th>\n",
       "    </tr>\n",
       "  </thead>\n",
       "  <tbody>\n",
       "    <tr>\n",
       "      <th>2429</th>\n",
       "      <td>822032</td>\n",
       "      <td>2283</td>\n",
       "      <td>1</td>\n",
       "    </tr>\n",
       "    <tr>\n",
       "      <th>2434</th>\n",
       "      <td>822032</td>\n",
       "      <td>2288</td>\n",
       "      <td>1</td>\n",
       "    </tr>\n",
       "    <tr>\n",
       "      <th>2435</th>\n",
       "      <td>822032</td>\n",
       "      <td>907</td>\n",
       "      <td>1</td>\n",
       "    </tr>\n",
       "    <tr>\n",
       "      <th>2436</th>\n",
       "      <td>822032</td>\n",
       "      <td>2289</td>\n",
       "      <td>1</td>\n",
       "    </tr>\n",
       "    <tr>\n",
       "      <th>2437</th>\n",
       "      <td>822032</td>\n",
       "      <td>910</td>\n",
       "      <td>1</td>\n",
       "    </tr>\n",
       "  </tbody>\n",
       "</table>\n",
       "</div>"
      ],
      "text/plain": [
       "         pid  trackid  rating\n",
       "2429  822032     2283       1\n",
       "2434  822032     2288       1\n",
       "2435  822032      907       1\n",
       "2436  822032     2289       1\n",
       "2437  822032      910       1"
      ]
     },
     "execution_count": 5,
     "metadata": {},
     "output_type": "execute_result"
    }
   ],
   "source": [
    "mpd_data['rating'] = 1\n",
    "mpd_data.head()"
   ]
  },
  {
   "cell_type": "markdown",
   "metadata": {},
   "source": [
    "### Обрежем mpd_data по пользователям для быстроты"
   ]
  },
  {
   "cell_type": "code",
   "execution_count": 6,
   "metadata": {},
   "outputs": [],
   "source": [
    "data = mpd_data"
   ]
  },
  {
   "cell_type": "code",
   "execution_count": 7,
   "metadata": {},
   "outputs": [
    {
     "data": {
      "text/plain": [
       "(210950, 3)"
      ]
     },
     "execution_count": 7,
     "metadata": {},
     "output_type": "execute_result"
    }
   ],
   "source": [
    "data.shape"
   ]
  },
  {
   "cell_type": "code",
   "execution_count": 8,
   "metadata": {},
   "outputs": [],
   "source": [
    "from polara.recommender.data import RecommenderData\n",
    "from polara.recommender.models import SVDModel\n",
    "from sklearn.model_selection import KFold"
   ]
  },
  {
   "cell_type": "code",
   "execution_count": 9,
   "metadata": {},
   "outputs": [],
   "source": [
    "def cross_validation_svd(data, n_splits=5, seed=1, test_size=0.05, topk=500, rank=10):\n",
    "    kf = KFold(n_splits=n_splits, random_state=seed)\n",
    "    i = 1\n",
    "    scores = {'precision': [], 'recall': [], 'miss_rate': [], 'nDCG': []}\n",
    "    for users_ids, unseen_users_ids in kf.split(data['pid'].drop_duplicates()):\n",
    "        print('=========================Fold {}============================='.format(i))\n",
    "        i += 1\n",
    "        users = data['pid'].drop_duplicates().values[users_ids]\n",
    "        unseen_users = data['pid'].drop_duplicates().values[unseen_users_ids]\n",
    "        train = data.query('pid in @users')\n",
    "        test = data.query('pid in @unseen_users')\n",
    "        test_sampled = test.sample(frac=1-test_size, random_state=seed).sort_values('pid')\n",
    "        test_holdout = test[~test.index.isin(test_sampled.index)]\n",
    "        \n",
    "        data_model = RecommenderData(train,'pid', 'trackid', 'rating', seed=seed)\n",
    "        data_model.prepare_training_only()\n",
    "        svd = SVDModel(data_model)\n",
    "        svd.rank = rank\n",
    "        svd.build()\n",
    "        \n",
    "        data_model.set_test_data(testset=test_sampled, holdout=test_holdout, warm_start=True)\n",
    "        svd.switch_positive = 1\n",
    "        svd.topk = topk\n",
    "        hits = svd.evaluate()\n",
    "        relevance = svd.evaluate('relevance')\n",
    "        ranking = svd.evaluate('ranking')\n",
    "        \n",
    "        print(hits)\n",
    "        \n",
    "        scores['precision'].append(relevance.precision)\n",
    "        scores['recall'].append(relevance.recall)\n",
    "        scores['miss_rate'].append(relevance.miss_rate)\n",
    "        scores['nDCG'].append(ranking.nDCG)\n",
    "        \n",
    "    result = pd.DataFrame(scores)\n",
    "    return result"
   ]
  },
  {
   "cell_type": "code",
   "execution_count": 13,
   "metadata": {},
   "outputs": [
    {
     "name": "stderr",
     "output_type": "stream",
     "text": [
      "\r",
      "  0%|          | 0/8 [00:00<?, ?it/s]"
     ]
    },
    {
     "name": "stdout",
     "output_type": "stream",
     "text": [
      "             ===========rank=3=============\n",
      "(210950, 3)\n",
      "=========================Fold 1=============================\n",
      "Preparing data...\n",
      "Done.\n",
      "PureSVD training time: 0.19359295200410997s\n",
      "612 unique trackid's within 669 testset interactions were filtered. Reason: not in the training data.\n",
      "79 unique trackid's within 79 holdout interactions were filtered. Reason: not in the training data.\n",
      "316 pid's were filtered out from testset. Reason: inconsistent with holdout.\n",
      "Hits(true_positive=209, false_positive=0, true_negative=0, false_negative=4014)\n",
      "=========================Fold 2=============================\n",
      "Preparing data...\n",
      "Done.\n",
      "PureSVD training time: 0.05802439599938225s\n",
      "608 unique trackid's within 658 testset interactions were filtered. Reason: not in the training data.\n",
      "70 unique trackid's within 70 holdout interactions were filtered. Reason: not in the training data.\n",
      "329 pid's were filtered out from testset. Reason: inconsistent with holdout.\n",
      "Hits(true_positive=222, false_positive=0, true_negative=0, false_negative=3864)\n",
      "=========================Fold 3=============================\n",
      "Preparing data...\n",
      "Done.\n",
      "PureSVD training time: 0.04904323400114663s\n",
      "589 unique trackid's within 644 testset interactions were filtered. Reason: not in the training data.\n",
      "65 unique trackid's within 66 holdout interactions were filtered. Reason: not in the training data.\n",
      "323 pid's were filtered out from testset. Reason: inconsistent with holdout.\n",
      "Hits(true_positive=225, false_positive=0, true_negative=0, false_negative=3964)\n",
      "=========================Fold 4=============================\n",
      "Preparing data...\n",
      "Done.\n",
      "PureSVD training time: 0.04935563400067622s\n",
      "651 unique trackid's within 708 testset interactions were filtered. Reason: not in the training data.\n",
      "89 unique trackid's within 89 holdout interactions were filtered. Reason: not in the training data.\n",
      "357 pid's were filtered out from testset. Reason: inconsistent with holdout.\n",
      "Hits(true_positive=192, false_positive=0, true_negative=0, false_negative=3871)\n",
      "=========================Fold 5=============================\n",
      "Preparing data...\n",
      "Done.\n",
      "PureSVD training time: 0.04914496700075688s\n",
      "605 unique trackid's within 669 testset interactions were filtered. Reason: not in the training data.\n",
      "62 unique trackid's within 63 holdout interactions were filtered. Reason: not in the training data.\n",
      "326 pid's were filtered out from testset. Reason: inconsistent with holdout.\n"
     ]
    },
    {
     "name": "stderr",
     "output_type": "stream",
     "text": [
      "\r",
      " 12%|█▎        | 1/8 [00:03<00:21,  3.06s/it]"
     ]
    },
    {
     "name": "stdout",
     "output_type": "stream",
     "text": [
      "Hits(true_positive=184, false_positive=0, true_negative=0, false_negative=3983)\n",
      "             ===========rank=4=============\n",
      "(210950, 3)\n",
      "=========================Fold 1=============================\n",
      "Preparing data...\n",
      "Done.\n",
      "PureSVD training time: 0.09778603100130567s\n",
      "612 unique trackid's within 669 testset interactions were filtered. Reason: not in the training data.\n",
      "79 unique trackid's within 79 holdout interactions were filtered. Reason: not in the training data.\n",
      "316 pid's were filtered out from testset. Reason: inconsistent with holdout.\n",
      "Hits(true_positive=256, false_positive=0, true_negative=0, false_negative=3967)\n",
      "=========================Fold 2=============================\n",
      "Preparing data...\n",
      "Done.\n",
      "PureSVD training time: 0.1588171039984445s\n",
      "608 unique trackid's within 658 testset interactions were filtered. Reason: not in the training data.\n",
      "70 unique trackid's within 70 holdout interactions were filtered. Reason: not in the training data.\n",
      "329 pid's were filtered out from testset. Reason: inconsistent with holdout.\n",
      "Hits(true_positive=243, false_positive=0, true_negative=0, false_negative=3843)\n",
      "=========================Fold 3=============================\n",
      "Preparing data...\n",
      "Done.\n",
      "PureSVD training time: 0.048260529001709074s\n",
      "589 unique trackid's within 644 testset interactions were filtered. Reason: not in the training data.\n",
      "65 unique trackid's within 66 holdout interactions were filtered. Reason: not in the training data.\n",
      "323 pid's were filtered out from testset. Reason: inconsistent with holdout.\n",
      "Hits(true_positive=269, false_positive=0, true_negative=0, false_negative=3920)\n",
      "=========================Fold 4=============================\n",
      "Preparing data...\n",
      "Done.\n",
      "PureSVD training time: 0.05154117699566996s\n",
      "651 unique trackid's within 708 testset interactions were filtered. Reason: not in the training data.\n",
      "89 unique trackid's within 89 holdout interactions were filtered. Reason: not in the training data.\n",
      "357 pid's were filtered out from testset. Reason: inconsistent with holdout.\n",
      "Hits(true_positive=223, false_positive=0, true_negative=0, false_negative=3840)\n",
      "=========================Fold 5=============================\n",
      "Preparing data...\n",
      "Done.\n",
      "PureSVD training time: 0.13348693599982653s\n",
      "605 unique trackid's within 669 testset interactions were filtered. Reason: not in the training data.\n",
      "62 unique trackid's within 63 holdout interactions were filtered. Reason: not in the training data.\n",
      "326 pid's were filtered out from testset. Reason: inconsistent with holdout.\n"
     ]
    },
    {
     "name": "stderr",
     "output_type": "stream",
     "text": [
      "\r",
      " 25%|██▌       | 2/8 [00:06<00:18,  3.14s/it]"
     ]
    },
    {
     "name": "stdout",
     "output_type": "stream",
     "text": [
      "Hits(true_positive=215, false_positive=0, true_negative=0, false_negative=3952)\n",
      "             ===========rank=5=============\n",
      "(210950, 3)\n",
      "=========================Fold 1=============================\n",
      "Preparing data...\n",
      "Done.\n",
      "PureSVD training time: 0.062495351005054545s\n",
      "612 unique trackid's within 669 testset interactions were filtered. Reason: not in the training data.\n",
      "79 unique trackid's within 79 holdout interactions were filtered. Reason: not in the training data.\n",
      "316 pid's were filtered out from testset. Reason: inconsistent with holdout.\n",
      "Hits(true_positive=288, false_positive=0, true_negative=0, false_negative=3935)\n",
      "=========================Fold 2=============================\n",
      "Preparing data...\n",
      "Done.\n",
      "PureSVD training time: 0.146227571000054s\n",
      "608 unique trackid's within 658 testset interactions were filtered. Reason: not in the training data.\n",
      "70 unique trackid's within 70 holdout interactions were filtered. Reason: not in the training data.\n",
      "329 pid's were filtered out from testset. Reason: inconsistent with holdout.\n",
      "Hits(true_positive=292, false_positive=0, true_negative=0, false_negative=3794)\n",
      "=========================Fold 3=============================\n",
      "Preparing data...\n",
      "Done.\n",
      "PureSVD training time: 0.06253978599852417s\n",
      "589 unique trackid's within 644 testset interactions were filtered. Reason: not in the training data.\n",
      "65 unique trackid's within 66 holdout interactions were filtered. Reason: not in the training data.\n",
      "323 pid's were filtered out from testset. Reason: inconsistent with holdout.\n",
      "Hits(true_positive=314, false_positive=0, true_negative=0, false_negative=3875)\n",
      "=========================Fold 4=============================\n",
      "Preparing data...\n",
      "Done.\n",
      "PureSVD training time: 0.16080408500420162s\n",
      "651 unique trackid's within 708 testset interactions were filtered. Reason: not in the training data.\n",
      "89 unique trackid's within 89 holdout interactions were filtered. Reason: not in the training data.\n",
      "357 pid's were filtered out from testset. Reason: inconsistent with holdout.\n",
      "Hits(true_positive=274, false_positive=0, true_negative=0, false_negative=3789)\n",
      "=========================Fold 5=============================\n",
      "Preparing data...\n",
      "Done.\n",
      "PureSVD training time: 0.11864748199877795s\n",
      "605 unique trackid's within 669 testset interactions were filtered. Reason: not in the training data.\n",
      "62 unique trackid's within 63 holdout interactions were filtered. Reason: not in the training data.\n",
      "326 pid's were filtered out from testset. Reason: inconsistent with holdout.\n"
     ]
    },
    {
     "name": "stderr",
     "output_type": "stream",
     "text": [
      "\r",
      " 38%|███▊      | 3/8 [00:09<00:16,  3.24s/it]"
     ]
    },
    {
     "name": "stdout",
     "output_type": "stream",
     "text": [
      "Hits(true_positive=286, false_positive=0, true_negative=0, false_negative=3881)\n",
      "             ===========rank=10=============\n",
      "(210950, 3)\n",
      "=========================Fold 1=============================\n",
      "Preparing data...\n",
      "Done.\n",
      "PureSVD training time: 0.09842562199628446s\n",
      "612 unique trackid's within 669 testset interactions were filtered. Reason: not in the training data.\n",
      "79 unique trackid's within 79 holdout interactions were filtered. Reason: not in the training data.\n",
      "316 pid's were filtered out from testset. Reason: inconsistent with holdout.\n",
      "Hits(true_positive=408, false_positive=0, true_negative=0, false_negative=3815)\n",
      "=========================Fold 2=============================\n",
      "Preparing data...\n",
      "Done.\n",
      "PureSVD training time: 0.1134040510005434s\n",
      "608 unique trackid's within 658 testset interactions were filtered. Reason: not in the training data.\n",
      "70 unique trackid's within 70 holdout interactions were filtered. Reason: not in the training data.\n",
      "329 pid's were filtered out from testset. Reason: inconsistent with holdout.\n",
      "Hits(true_positive=421, false_positive=0, true_negative=0, false_negative=3665)\n",
      "=========================Fold 3=============================\n",
      "Preparing data...\n",
      "Done.\n",
      "PureSVD training time: 0.09274837400153046s\n",
      "589 unique trackid's within 644 testset interactions were filtered. Reason: not in the training data.\n",
      "65 unique trackid's within 66 holdout interactions were filtered. Reason: not in the training data.\n",
      "323 pid's were filtered out from testset. Reason: inconsistent with holdout.\n",
      "Hits(true_positive=431, false_positive=0, true_negative=0, false_negative=3758)\n",
      "=========================Fold 4=============================\n",
      "Preparing data...\n",
      "Done.\n",
      "PureSVD training time: 0.1544326919974992s\n",
      "651 unique trackid's within 708 testset interactions were filtered. Reason: not in the training data.\n",
      "89 unique trackid's within 89 holdout interactions were filtered. Reason: not in the training data.\n",
      "357 pid's were filtered out from testset. Reason: inconsistent with holdout.\n",
      "Hits(true_positive=413, false_positive=0, true_negative=0, false_negative=3650)\n",
      "=========================Fold 5=============================\n",
      "Preparing data...\n",
      "Done.\n",
      "PureSVD training time: 0.08842464000190375s\n",
      "605 unique trackid's within 669 testset interactions were filtered. Reason: not in the training data.\n",
      "62 unique trackid's within 63 holdout interactions were filtered. Reason: not in the training data.\n",
      "326 pid's were filtered out from testset. Reason: inconsistent with holdout.\n"
     ]
    },
    {
     "name": "stderr",
     "output_type": "stream",
     "text": [
      "\r",
      " 50%|█████     | 4/8 [00:12<00:12,  3.25s/it]"
     ]
    },
    {
     "name": "stdout",
     "output_type": "stream",
     "text": [
      "Hits(true_positive=405, false_positive=0, true_negative=0, false_negative=3762)\n",
      "             ===========rank=25=============\n",
      "(210950, 3)\n",
      "=========================Fold 1=============================\n",
      "Preparing data...\n",
      "Done.\n",
      "PureSVD training time: 0.2226129450064036s\n",
      "612 unique trackid's within 669 testset interactions were filtered. Reason: not in the training data.\n",
      "79 unique trackid's within 79 holdout interactions were filtered. Reason: not in the training data.\n",
      "316 pid's were filtered out from testset. Reason: inconsistent with holdout.\n",
      "Hits(true_positive=634, false_positive=0, true_negative=0, false_negative=3589)\n",
      "=========================Fold 2=============================\n",
      "Preparing data...\n",
      "Done.\n",
      "PureSVD training time: 0.24392230100056622s\n",
      "608 unique trackid's within 658 testset interactions were filtered. Reason: not in the training data.\n",
      "70 unique trackid's within 70 holdout interactions were filtered. Reason: not in the training data.\n",
      "329 pid's were filtered out from testset. Reason: inconsistent with holdout.\n",
      "Hits(true_positive=633, false_positive=0, true_negative=0, false_negative=3453)\n",
      "=========================Fold 3=============================\n",
      "Preparing data...\n",
      "Done.\n",
      "PureSVD training time: 0.23551909399975557s\n",
      "589 unique trackid's within 644 testset interactions were filtered. Reason: not in the training data.\n",
      "65 unique trackid's within 66 holdout interactions were filtered. Reason: not in the training data.\n",
      "323 pid's were filtered out from testset. Reason: inconsistent with holdout.\n",
      "Hits(true_positive=623, false_positive=0, true_negative=0, false_negative=3566)\n",
      "=========================Fold 4=============================\n",
      "Preparing data...\n",
      "Done.\n",
      "PureSVD training time: 0.2441740040012519s\n",
      "651 unique trackid's within 708 testset interactions were filtered. Reason: not in the training data.\n",
      "89 unique trackid's within 89 holdout interactions were filtered. Reason: not in the training data.\n",
      "357 pid's were filtered out from testset. Reason: inconsistent with holdout.\n",
      "Hits(true_positive=601, false_positive=0, true_negative=0, false_negative=3462)\n",
      "=========================Fold 5=============================\n",
      "Preparing data...\n",
      "Done.\n",
      "PureSVD training time: 0.2360157840012107s\n",
      "605 unique trackid's within 669 testset interactions were filtered. Reason: not in the training data.\n",
      "62 unique trackid's within 63 holdout interactions were filtered. Reason: not in the training data.\n",
      "326 pid's were filtered out from testset. Reason: inconsistent with holdout.\n"
     ]
    },
    {
     "name": "stderr",
     "output_type": "stream",
     "text": [
      "\r",
      " 62%|██████▎   | 5/8 [00:16<00:10,  3.36s/it]"
     ]
    },
    {
     "name": "stdout",
     "output_type": "stream",
     "text": [
      "Hits(true_positive=605, false_positive=0, true_negative=0, false_negative=3562)\n",
      "             ===========rank=50=============\n",
      "(210950, 3)\n",
      "=========================Fold 1=============================\n",
      "Preparing data...\n",
      "Done.\n",
      "PureSVD training time: 0.5365809150025598s\n",
      "612 unique trackid's within 669 testset interactions were filtered. Reason: not in the training data.\n",
      "79 unique trackid's within 79 holdout interactions were filtered. Reason: not in the training data.\n",
      "316 pid's were filtered out from testset. Reason: inconsistent with holdout.\n",
      "Hits(true_positive=749, false_positive=0, true_negative=0, false_negative=3474)\n",
      "=========================Fold 2=============================\n",
      "Preparing data...\n",
      "Done.\n",
      "PureSVD training time: 0.6164673879975453s\n",
      "608 unique trackid's within 658 testset interactions were filtered. Reason: not in the training data.\n",
      "70 unique trackid's within 70 holdout interactions were filtered. Reason: not in the training data.\n",
      "329 pid's were filtered out from testset. Reason: inconsistent with holdout.\n",
      "Hits(true_positive=767, false_positive=0, true_negative=0, false_negative=3319)\n",
      "=========================Fold 3=============================\n",
      "Preparing data...\n",
      "Done.\n",
      "PureSVD training time: 0.6075145150025492s\n",
      "589 unique trackid's within 644 testset interactions were filtered. Reason: not in the training data.\n",
      "65 unique trackid's within 66 holdout interactions were filtered. Reason: not in the training data.\n",
      "323 pid's were filtered out from testset. Reason: inconsistent with holdout.\n",
      "Hits(true_positive=754, false_positive=0, true_negative=0, false_negative=3435)\n",
      "=========================Fold 4=============================\n",
      "Preparing data...\n",
      "Done.\n",
      "PureSVD training time: 0.6125061369966716s\n",
      "651 unique trackid's within 708 testset interactions were filtered. Reason: not in the training data.\n",
      "89 unique trackid's within 89 holdout interactions were filtered. Reason: not in the training data.\n",
      "357 pid's were filtered out from testset. Reason: inconsistent with holdout.\n",
      "Hits(true_positive=705, false_positive=0, true_negative=0, false_negative=3358)\n",
      "=========================Fold 5=============================\n",
      "Preparing data...\n",
      "Done.\n",
      "PureSVD training time: 0.682630440001958s\n",
      "605 unique trackid's within 669 testset interactions were filtered. Reason: not in the training data.\n",
      "62 unique trackid's within 63 holdout interactions were filtered. Reason: not in the training data.\n",
      "326 pid's were filtered out from testset. Reason: inconsistent with holdout.\n"
     ]
    },
    {
     "name": "stderr",
     "output_type": "stream",
     "text": [
      "\r",
      " 75%|███████▌  | 6/8 [00:22<00:07,  3.74s/it]"
     ]
    },
    {
     "name": "stdout",
     "output_type": "stream",
     "text": [
      "Hits(true_positive=779, false_positive=0, true_negative=0, false_negative=3388)\n",
      "             ===========rank=100=============\n",
      "(210950, 3)\n",
      "=========================Fold 1=============================\n",
      "Preparing data...\n",
      "Done.\n",
      "PureSVD training time: 2.7950183339999057s\n",
      "612 unique trackid's within 669 testset interactions were filtered. Reason: not in the training data.\n",
      "79 unique trackid's within 79 holdout interactions were filtered. Reason: not in the training data.\n",
      "316 pid's were filtered out from testset. Reason: inconsistent with holdout.\n",
      "Hits(true_positive=820, false_positive=0, true_negative=0, false_negative=3403)\n",
      "=========================Fold 2=============================\n",
      "Preparing data...\n",
      "Done.\n",
      "PureSVD training time: 1.9457405770008336s\n",
      "608 unique trackid's within 658 testset interactions were filtered. Reason: not in the training data.\n",
      "70 unique trackid's within 70 holdout interactions were filtered. Reason: not in the training data.\n",
      "329 pid's were filtered out from testset. Reason: inconsistent with holdout.\n",
      "Hits(true_positive=802, false_positive=0, true_negative=0, false_negative=3284)\n",
      "=========================Fold 3=============================\n",
      "Preparing data...\n",
      "Done.\n",
      "PureSVD training time: 2.8213395540005877s\n",
      "589 unique trackid's within 644 testset interactions were filtered. Reason: not in the training data.\n",
      "65 unique trackid's within 66 holdout interactions were filtered. Reason: not in the training data.\n",
      "323 pid's were filtered out from testset. Reason: inconsistent with holdout.\n",
      "Hits(true_positive=837, false_positive=0, true_negative=0, false_negative=3352)\n",
      "=========================Fold 4=============================\n",
      "Preparing data...\n",
      "Done.\n",
      "PureSVD training time: 2.2997073689984973s\n",
      "651 unique trackid's within 708 testset interactions were filtered. Reason: not in the training data.\n",
      "89 unique trackid's within 89 holdout interactions were filtered. Reason: not in the training data.\n",
      "357 pid's were filtered out from testset. Reason: inconsistent with holdout.\n",
      "Hits(true_positive=768, false_positive=0, true_negative=0, false_negative=3295)\n",
      "=========================Fold 5=============================\n",
      "Preparing data...\n",
      "Done.\n",
      "PureSVD training time: 2.0988765439979034s\n",
      "605 unique trackid's within 669 testset interactions were filtered. Reason: not in the training data.\n",
      "62 unique trackid's within 63 holdout interactions were filtered. Reason: not in the training data.\n",
      "326 pid's were filtered out from testset. Reason: inconsistent with holdout.\n"
     ]
    },
    {
     "name": "stderr",
     "output_type": "stream",
     "text": [
      "\r",
      " 88%|████████▊ | 7/8 [00:37<00:05,  5.34s/it]"
     ]
    },
    {
     "name": "stdout",
     "output_type": "stream",
     "text": [
      "Hits(true_positive=817, false_positive=0, true_negative=0, false_negative=3350)\n",
      "             ===========rank=200=============\n",
      "(210950, 3)\n",
      "=========================Fold 1=============================\n",
      "Preparing data...\n",
      "Done.\n",
      "PureSVD training time: 7.6574203799973475s\n",
      "612 unique trackid's within 669 testset interactions were filtered. Reason: not in the training data.\n",
      "79 unique trackid's within 79 holdout interactions were filtered. Reason: not in the training data.\n",
      "316 pid's were filtered out from testset. Reason: inconsistent with holdout.\n",
      "Hits(true_positive=847, false_positive=0, true_negative=0, false_negative=3376)\n",
      "=========================Fold 2=============================\n",
      "Preparing data...\n",
      "Done.\n",
      "PureSVD training time: 8.771784020995256s\n",
      "608 unique trackid's within 658 testset interactions were filtered. Reason: not in the training data.\n",
      "70 unique trackid's within 70 holdout interactions were filtered. Reason: not in the training data.\n",
      "329 pid's were filtered out from testset. Reason: inconsistent with holdout.\n",
      "Hits(true_positive=868, false_positive=0, true_negative=0, false_negative=3218)\n",
      "=========================Fold 3=============================\n",
      "Preparing data...\n",
      "Done.\n",
      "PureSVD training time: 8.316066280000086s\n",
      "589 unique trackid's within 644 testset interactions were filtered. Reason: not in the training data.\n",
      "65 unique trackid's within 66 holdout interactions were filtered. Reason: not in the training data.\n",
      "323 pid's were filtered out from testset. Reason: inconsistent with holdout.\n",
      "Hits(true_positive=872, false_positive=0, true_negative=0, false_negative=3317)\n",
      "=========================Fold 4=============================\n",
      "Preparing data...\n",
      "Done.\n",
      "PureSVD training time: 7.651700895999966s\n",
      "651 unique trackid's within 708 testset interactions were filtered. Reason: not in the training data.\n",
      "89 unique trackid's within 89 holdout interactions were filtered. Reason: not in the training data.\n",
      "357 pid's were filtered out from testset. Reason: inconsistent with holdout.\n",
      "Hits(true_positive=827, false_positive=0, true_negative=0, false_negative=3236)\n",
      "=========================Fold 5=============================\n",
      "Preparing data...\n",
      "Done.\n",
      "PureSVD training time: 7.310273011004028s\n",
      "605 unique trackid's within 669 testset interactions were filtered. Reason: not in the training data.\n",
      "62 unique trackid's within 63 holdout interactions were filtered. Reason: not in the training data.\n",
      "326 pid's were filtered out from testset. Reason: inconsistent with holdout.\n"
     ]
    },
    {
     "name": "stderr",
     "output_type": "stream",
     "text": [
      "\r",
      "100%|██████████| 8/8 [01:20<00:00, 10.03s/it]"
     ]
    },
    {
     "name": "stdout",
     "output_type": "stream",
     "text": [
      "Hits(true_positive=829, false_positive=0, true_negative=0, false_negative=3338)\n"
     ]
    },
    {
     "name": "stderr",
     "output_type": "stream",
     "text": [
      "\n"
     ]
    }
   ],
   "source": [
    "topks = [500]\n",
    "ranks = [3,4,5,10, 25, 50, 100, 200]\n",
    "recall = []\n",
    "nDCG = []\n",
    "precision = []\n",
    "miss_rate = []\n",
    "for rank in tqdm.tqdm(ranks):\n",
    "    print('             ===========rank={}============='.format(rank))\n",
    "    print(data.shape)\n",
    "    result = cross_validation_svd(data, topk=10, test_size=0.1, rank=rank)\n",
    "    recall.append(result.recall.mean())\n",
    "    nDCG.append(result.nDCG.mean())\n",
    "    precision.append(result.precision.mean())\n",
    "    miss_rate.append(result.miss_rate.mean())"
   ]
  },
  {
   "cell_type": "code",
   "execution_count": 14,
   "metadata": {},
   "outputs": [],
   "source": [
    "import matplotlib.pyplot as plt"
   ]
  },
  {
   "cell_type": "code",
   "execution_count": 16,
   "metadata": {},
   "outputs": [
    {
     "data": {
      "image/png": "[encoded data removed]",
      "text/plain": [
       "<Figure size 864x576 with 1 Axes>"
      ]
     },
     "metadata": {},
     "output_type": "display_data"
    }
   ],
   "source": [
    "plt.style.use('seaborn')\n",
    "plt.figure(figsize=(12,8))\n",
    "plt.plot(ranks, recall, 'orange', label='recall')\n",
    "plt.plot(ranks, nDCG,label='nDCG')\n",
    "plt.plot(ranks, precision, label='precision')\n",
    "plt.plot(ranks, miss_rate, label='miss_rate')\n",
    "plt.ylabel('evalution')\n",
    "plt.xlabel('rank')\n",
    "plt.legend()\n",
    "plt.show()"
   ]
  },
  {
   "cell_type": "code",
   "execution_count": null,
   "metadata": {},
   "outputs": [],
   "source": []
  }
 ],
 "metadata": {
  "kernelspec": {
   "display_name": "Python 3",
   "language": "python",
   "name": "python3"
  },
  "language_info": {
   "codemirror_mode": {
    "name": "ipython",
    "version": 3
   },
   "file_extension": ".py",
   "mimetype": "text/x-python",
   "name": "python",
   "nbconvert_exporter": "python",
   "pygments_lexer": "ipython3",
   "version": "3.5.2"
  }
 },
 "nbformat": 4,
 "nbformat_minor": 2
}
