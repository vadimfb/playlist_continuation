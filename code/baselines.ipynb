{
 "cells": [
  {
   "cell_type": "code",
   "execution_count": 1,
   "metadata": {},
   "outputs": [],
   "source": [
    "import numpy as np\n",
    "import pandas as pd\n",
    "import tqdm"
   ]
  },
  {
   "cell_type": "code",
   "execution_count": 2,
   "metadata": {},
   "outputs": [],
   "source": [
    "data_dir = '/home/vadim/playlist_generation/data/random_data'"
   ]
  },
  {
   "cell_type": "markdown",
   "metadata": {},
   "source": [
    "### Загружаем mpd_data(Million playlist dataset)"
   ]
  },
  {
   "cell_type": "code",
   "execution_count": 3,
   "metadata": {},
   "outputs": [
    {
     "data": {
      "text/html": [
       "<div>\n",
       "<style scoped>\n",
       "    .dataframe tbody tr th:only-of-type {\n",
       "        vertical-align: middle;\n",
       "    }\n",
       "\n",
       "    .dataframe tbody tr th {\n",
       "        vertical-align: top;\n",
       "    }\n",
       "\n",
       "    .dataframe thead th {\n",
       "        text-align: right;\n",
       "    }\n",
       "</style>\n",
       "<table border=\"1\" class=\"dataframe\">\n",
       "  <thead>\n",
       "    <tr style=\"text-align: right;\">\n",
       "      <th></th>\n",
       "      <th>pid</th>\n",
       "      <th>trackid</th>\n",
       "    </tr>\n",
       "  </thead>\n",
       "  <tbody>\n",
       "    <tr>\n",
       "      <th>21114</th>\n",
       "      <td>822314</td>\n",
       "      <td>1149</td>\n",
       "    </tr>\n",
       "    <tr>\n",
       "      <th>21117</th>\n",
       "      <td>822314</td>\n",
       "      <td>230</td>\n",
       "    </tr>\n",
       "    <tr>\n",
       "      <th>21119</th>\n",
       "      <td>822314</td>\n",
       "      <td>4937</td>\n",
       "    </tr>\n",
       "    <tr>\n",
       "      <th>40467</th>\n",
       "      <td>822595</td>\n",
       "      <td>23973</td>\n",
       "    </tr>\n",
       "    <tr>\n",
       "      <th>40473</th>\n",
       "      <td>822595</td>\n",
       "      <td>4171</td>\n",
       "    </tr>\n",
       "  </tbody>\n",
       "</table>\n",
       "</div>"
      ],
      "text/plain": [
       "          pid  trackid\n",
       "21114  822314     1149\n",
       "21117  822314      230\n",
       "21119  822314     4937\n",
       "40467  822595    23973\n",
       "40473  822595     4171"
      ]
     },
     "execution_count": 3,
     "metadata": {},
     "output_type": "execute_result"
    }
   ],
   "source": [
    "mpd_data = pd.read_csv('{}/transactions.csv'.format(data_dir), index_col=0)\n",
    "mpd_data.head()"
   ]
  },
  {
   "cell_type": "markdown",
   "metadata": {},
   "source": [
    "### Определяем рейтинг единичкой"
   ]
  },
  {
   "cell_type": "code",
   "execution_count": 4,
   "metadata": {},
   "outputs": [
    {
     "data": {
      "text/html": [
       "<div>\n",
       "<style scoped>\n",
       "    .dataframe tbody tr th:only-of-type {\n",
       "        vertical-align: middle;\n",
       "    }\n",
       "\n",
       "    .dataframe tbody tr th {\n",
       "        vertical-align: top;\n",
       "    }\n",
       "\n",
       "    .dataframe thead th {\n",
       "        text-align: right;\n",
       "    }\n",
       "</style>\n",
       "<table border=\"1\" class=\"dataframe\">\n",
       "  <thead>\n",
       "    <tr style=\"text-align: right;\">\n",
       "      <th></th>\n",
       "      <th>pid</th>\n",
       "      <th>trackid</th>\n",
       "      <th>rating</th>\n",
       "    </tr>\n",
       "  </thead>\n",
       "  <tbody>\n",
       "    <tr>\n",
       "      <th>21114</th>\n",
       "      <td>822314</td>\n",
       "      <td>1149</td>\n",
       "      <td>1</td>\n",
       "    </tr>\n",
       "    <tr>\n",
       "      <th>21117</th>\n",
       "      <td>822314</td>\n",
       "      <td>230</td>\n",
       "      <td>1</td>\n",
       "    </tr>\n",
       "    <tr>\n",
       "      <th>21119</th>\n",
       "      <td>822314</td>\n",
       "      <td>4937</td>\n",
       "      <td>1</td>\n",
       "    </tr>\n",
       "    <tr>\n",
       "      <th>40467</th>\n",
       "      <td>822595</td>\n",
       "      <td>23973</td>\n",
       "      <td>1</td>\n",
       "    </tr>\n",
       "    <tr>\n",
       "      <th>40473</th>\n",
       "      <td>822595</td>\n",
       "      <td>4171</td>\n",
       "      <td>1</td>\n",
       "    </tr>\n",
       "  </tbody>\n",
       "</table>\n",
       "</div>"
      ],
      "text/plain": [
       "          pid  trackid  rating\n",
       "21114  822314     1149       1\n",
       "21117  822314      230       1\n",
       "21119  822314     4937       1\n",
       "40467  822595    23973       1\n",
       "40473  822595     4171       1"
      ]
     },
     "execution_count": 4,
     "metadata": {},
     "output_type": "execute_result"
    }
   ],
   "source": [
    "mpd_data['rating'] = 1\n",
    "mpd_data.head()"
   ]
  },
  {
   "cell_type": "markdown",
   "metadata": {},
   "source": [
    "### Обрежем mpd_data по пользователям для быстроты"
   ]
  },
  {
   "cell_type": "code",
   "execution_count": 5,
   "metadata": {},
   "outputs": [],
   "source": [
    "data = mpd_data"
   ]
  },
  {
   "cell_type": "code",
   "execution_count": 6,
   "metadata": {},
   "outputs": [
    {
     "data": {
      "text/plain": [
       "(5732, 3)"
      ]
     },
     "execution_count": 6,
     "metadata": {},
     "output_type": "execute_result"
    }
   ],
   "source": [
    "data.shape"
   ]
  },
  {
   "cell_type": "code",
   "execution_count": 7,
   "metadata": {},
   "outputs": [],
   "source": [
    "from polara.recommender.data import RecommenderData\n",
    "from polara.recommender.models import SVDModel\n",
    "from sklearn.model_selection import KFold"
   ]
  },
  {
   "cell_type": "code",
   "execution_count": 8,
   "metadata": {},
   "outputs": [],
   "source": [
    "def cross_validation_svd(data, n_splits=5, seed=1, test_size=0.05, topk=500, rank=10):\n",
    "    kf = KFold(n_splits=n_splits, random_state=seed)\n",
    "    i = 1\n",
    "    scores = {'precision': [], 'recall': [], 'miss_rate': [], 'nDCG': []}\n",
    "    for users_ids, unseen_users_ids in kf.split(data['pid'].drop_duplicates()):\n",
    "        print('=========================Fold {}============================='.format(i))\n",
    "        i += 1\n",
    "        users = data['pid'].drop_duplicates().values[users_ids]\n",
    "        unseen_users = data['pid'].drop_duplicates().values[unseen_users_ids]\n",
    "        train = data.query('pid in @users')\n",
    "        test = data.query('pid in @unseen_users')\n",
    "        test_sampled = test.sample(frac=1-test_size, random_state=seed).sort_values('pid')\n",
    "        test_holdout = test[~test.index.isin(test_sampled.index)]\n",
    "        \n",
    "        data_model = RecommenderData(train,'pid', 'trackid', 'rating', seed=seed)\n",
    "        data_model.prepare_training_only()\n",
    "        svd = SVDModel(data_model)\n",
    "        svd.rank = rank\n",
    "        svd.build()\n",
    "        \n",
    "        data_model.set_test_data(testset=test_sampled, holdout=test_holdout, warm_start=True)\n",
    "        svd.switch_positive = 1\n",
    "        svd.topk = topk\n",
    "        relevance = svd.evaluate('relevance')\n",
    "        ranking = svd.evaluate('ranking')\n",
    "        \n",
    "        scores['precision'].append(relevance.precision)\n",
    "        scores['recall'].append(relevance.recall)\n",
    "        scores['miss_rate'].append(relevance.miss_rate)\n",
    "        scores['nDCG'].append(ranking.nDCG)\n",
    "        \n",
    "    result = pd.DataFrame(scores)\n",
    "    return result"
   ]
  },
  {
   "cell_type": "code",
   "execution_count": 11,
   "metadata": {},
   "outputs": [
    {
     "name": "stderr",
     "output_type": "stream",
     "text": [
      "\r",
      "  0%|          | 0/6 [00:00<?, ?it/s]"
     ]
    },
    {
     "name": "stdout",
     "output_type": "stream",
     "text": [
      "             ===========rank=3=============\n",
      "(5732, 3)\n",
      "=========================Fold 1=============================\n",
      "Preparing data...\n",
      "Done.\n",
      "PureSVD training time: 0.2974977680005395s\n",
      "58 unique trackid's within 60 testset interactions were filtered. Reason: not in the training data.\n",
      "2 unique trackid's within 2 holdout interactions were filtered. Reason: not in the training data.\n",
      "1 pid's were filtered out from holdout. Reason: inconsistent with testset.\n",
      "84 pid's were filtered out from testset. Reason: inconsistent with holdout.\n",
      "=========================Fold 2=============================\n",
      "Preparing data...\n",
      "Done.\n",
      "PureSVD training time: 0.0061247590001585195s\n",
      "66 unique trackid's within 69 testset interactions were filtered. Reason: not in the training data.\n",
      "8 unique trackid's within 8 holdout interactions were filtered. Reason: not in the training data.\n",
      "1 pid's were filtered out from holdout. Reason: inconsistent with testset.\n",
      "81 pid's were filtered out from testset. Reason: inconsistent with holdout.\n",
      "=========================Fold 3=============================\n",
      "Preparing data...\n",
      "Done.\n",
      "PureSVD training time: 0.005995771000016248s\n",
      "61 unique trackid's within 69 testset interactions were filtered. Reason: not in the training data.\n",
      "10 unique trackid's within 10 holdout interactions were filtered. Reason: not in the training data.\n",
      "5 pid's were filtered out from holdout. Reason: inconsistent with testset.\n",
      "74 pid's were filtered out from testset. Reason: inconsistent with holdout.\n",
      "=========================Fold 4=============================\n",
      "Preparing data...\n",
      "Done.\n",
      "PureSVD training time: 0.005966129001535592s\n",
      "59 unique trackid's within 60 testset interactions were filtered. Reason: not in the training data.\n",
      "2 unique trackid's within 2 holdout interactions were filtered. Reason: not in the training data.\n",
      "3 pid's were filtered out from holdout. Reason: inconsistent with testset.\n",
      "84 pid's were filtered out from testset. Reason: inconsistent with holdout.\n"
     ]
    },
    {
     "name": "stderr",
     "output_type": "stream",
     "text": [
      "\r",
      " 17%|█▋        | 1/6 [00:01<00:05,  1.02s/it]"
     ]
    },
    {
     "name": "stdout",
     "output_type": "stream",
     "text": [
      "=========================Fold 5=============================\n",
      "Preparing data...\n",
      "Done.\n",
      "PureSVD training time: 0.006025778000548598s\n",
      "48 unique trackid's within 52 testset interactions were filtered. Reason: not in the training data.\n",
      "2 unique trackid's within 2 holdout interactions were filtered. Reason: not in the training data.\n",
      "6 pid's were filtered out from holdout. Reason: inconsistent with testset.\n",
      "74 pid's were filtered out from testset. Reason: inconsistent with holdout.\n",
      "             ===========rank=4=============\n",
      "(5732, 3)\n",
      "=========================Fold 1=============================\n",
      "Preparing data...\n",
      "Done.\n",
      "PureSVD training time: 0.0088859509996837s\n",
      "58 unique trackid's within 60 testset interactions were filtered. Reason: not in the training data.\n",
      "2 unique trackid's within 2 holdout interactions were filtered. Reason: not in the training data.\n",
      "1 pid's were filtered out from holdout. Reason: inconsistent with testset.\n",
      "84 pid's were filtered out from testset. Reason: inconsistent with holdout.\n",
      "=========================Fold 2=============================\n",
      "Preparing data...\n",
      "Done.\n",
      "PureSVD training time: 0.007880566001404077s\n",
      "66 unique trackid's within 69 testset interactions were filtered. Reason: not in the training data.\n",
      "8 unique trackid's within 8 holdout interactions were filtered. Reason: not in the training data.\n",
      "1 pid's were filtered out from holdout. Reason: inconsistent with testset.\n",
      "81 pid's were filtered out from testset. Reason: inconsistent with holdout.\n",
      "=========================Fold 3=============================\n",
      "Preparing data...\n",
      "Done.\n",
      "PureSVD training time: 0.009361434998936602s\n",
      "61 unique trackid's within 69 testset interactions were filtered. Reason: not in the training data.\n",
      "10 unique trackid's within 10 holdout interactions were filtered. Reason: not in the training data.\n",
      "5 pid's were filtered out from holdout. Reason: inconsistent with testset.\n",
      "74 pid's were filtered out from testset. Reason: inconsistent with holdout.\n",
      "=========================Fold 4=============================\n",
      "Preparing data...\n",
      "Done.\n",
      "PureSVD training time: 0.007910641999842483s\n",
      "59 unique trackid's within 60 testset interactions were filtered. Reason: not in the training data.\n",
      "2 unique trackid's within 2 holdout interactions were filtered. Reason: not in the training data.\n",
      "3 pid's were filtered out from holdout. Reason: inconsistent with testset.\n",
      "84 pid's were filtered out from testset. Reason: inconsistent with holdout.\n"
     ]
    },
    {
     "name": "stderr",
     "output_type": "stream",
     "text": [
      "\r",
      " 33%|███▎      | 2/6 [00:01<00:02,  1.33it/s]"
     ]
    },
    {
     "name": "stdout",
     "output_type": "stream",
     "text": [
      "=========================Fold 5=============================\n",
      "Preparing data...\n",
      "Done.\n",
      "PureSVD training time: 0.00795230900075694s\n",
      "48 unique trackid's within 52 testset interactions were filtered. Reason: not in the training data.\n",
      "2 unique trackid's within 2 holdout interactions were filtered. Reason: not in the training data.\n",
      "6 pid's were filtered out from holdout. Reason: inconsistent with testset.\n",
      "74 pid's were filtered out from testset. Reason: inconsistent with holdout.\n",
      "             ===========rank=5=============\n",
      "(5732, 3)\n",
      "=========================Fold 1=============================\n",
      "Preparing data...\n",
      "Done.\n",
      "PureSVD training time: 0.007715256000665249s\n",
      "58 unique trackid's within 60 testset interactions were filtered. Reason: not in the training data.\n",
      "2 unique trackid's within 2 holdout interactions were filtered. Reason: not in the training data.\n",
      "1 pid's were filtered out from holdout. Reason: inconsistent with testset.\n",
      "84 pid's were filtered out from testset. Reason: inconsistent with holdout.\n",
      "=========================Fold 2=============================\n",
      "Preparing data...\n",
      "Done.\n",
      "PureSVD training time: 0.03876567800034536s\n",
      "66 unique trackid's within 69 testset interactions were filtered. Reason: not in the training data.\n",
      "8 unique trackid's within 8 holdout interactions were filtered. Reason: not in the training data.\n",
      "1 pid's were filtered out from holdout. Reason: inconsistent with testset.\n",
      "81 pid's were filtered out from testset. Reason: inconsistent with holdout.\n",
      "=========================Fold 3=============================\n",
      "Preparing data...\n",
      "Done.\n",
      "PureSVD training time: 0.011197788999197655s\n",
      "61 unique trackid's within 69 testset interactions were filtered. Reason: not in the training data.\n",
      "10 unique trackid's within 10 holdout interactions were filtered. Reason: not in the training data.\n",
      "5 pid's were filtered out from holdout. Reason: inconsistent with testset.\n",
      "74 pid's were filtered out from testset. Reason: inconsistent with holdout.\n",
      "=========================Fold 4=============================\n",
      "Preparing data...\n",
      "Done.\n",
      "PureSVD training time: 0.009579329000189318s\n",
      "59 unique trackid's within 60 testset interactions were filtered. Reason: not in the training data.\n",
      "2 unique trackid's within 2 holdout interactions were filtered. Reason: not in the training data.\n",
      "3 pid's were filtered out from holdout. Reason: inconsistent with testset.\n",
      "84 pid's were filtered out from testset. Reason: inconsistent with holdout.\n"
     ]
    },
    {
     "name": "stderr",
     "output_type": "stream",
     "text": [
      "\r",
      " 50%|█████     | 3/6 [00:02<00:02,  1.47it/s]"
     ]
    },
    {
     "name": "stdout",
     "output_type": "stream",
     "text": [
      "=========================Fold 5=============================\n",
      "Preparing data...\n",
      "Done.\n",
      "PureSVD training time: 0.029588777000753907s\n",
      "48 unique trackid's within 52 testset interactions were filtered. Reason: not in the training data.\n",
      "2 unique trackid's within 2 holdout interactions were filtered. Reason: not in the training data.\n",
      "6 pid's were filtered out from holdout. Reason: inconsistent with testset.\n",
      "74 pid's were filtered out from testset. Reason: inconsistent with holdout.\n",
      "             ===========rank=10=============\n",
      "(5732, 3)\n",
      "=========================Fold 1=============================\n",
      "Preparing data...\n",
      "Done.\n",
      "PureSVD training time: 0.013473652999891783s\n",
      "58 unique trackid's within 60 testset interactions were filtered. Reason: not in the training data.\n",
      "2 unique trackid's within 2 holdout interactions were filtered. Reason: not in the training data.\n",
      "1 pid's were filtered out from holdout. Reason: inconsistent with testset.\n",
      "84 pid's were filtered out from testset. Reason: inconsistent with holdout.\n",
      "=========================Fold 2=============================\n",
      "Preparing data...\n",
      "Done.\n",
      "PureSVD training time: 0.043956371999229304s\n",
      "66 unique trackid's within 69 testset interactions were filtered. Reason: not in the training data.\n",
      "8 unique trackid's within 8 holdout interactions were filtered. Reason: not in the training data.\n",
      "1 pid's were filtered out from holdout. Reason: inconsistent with testset.\n",
      "81 pid's were filtered out from testset. Reason: inconsistent with holdout.\n",
      "=========================Fold 3=============================\n",
      "Preparing data...\n",
      "Done.\n",
      "PureSVD training time: 0.04304235100062215s\n",
      "61 unique trackid's within 69 testset interactions were filtered. Reason: not in the training data.\n",
      "10 unique trackid's within 10 holdout interactions were filtered. Reason: not in the training data.\n",
      "5 pid's were filtered out from holdout. Reason: inconsistent with testset.\n",
      "74 pid's were filtered out from testset. Reason: inconsistent with holdout.\n",
      "=========================Fold 4=============================\n",
      "Preparing data...\n",
      "Done.\n",
      "PureSVD training time: 0.03303101100027561s\n",
      "59 unique trackid's within 60 testset interactions were filtered. Reason: not in the training data.\n",
      "2 unique trackid's within 2 holdout interactions were filtered. Reason: not in the training data.\n",
      "3 pid's were filtered out from holdout. Reason: inconsistent with testset.\n",
      "84 pid's were filtered out from testset. Reason: inconsistent with holdout.\n"
     ]
    },
    {
     "name": "stderr",
     "output_type": "stream",
     "text": [
      "\r",
      " 67%|██████▋   | 4/6 [00:02<00:01,  1.36it/s]"
     ]
    },
    {
     "name": "stdout",
     "output_type": "stream",
     "text": [
      "=========================Fold 5=============================\n",
      "Preparing data...\n",
      "Done.\n",
      "PureSVD training time: 0.02150497300135612s\n",
      "48 unique trackid's within 52 testset interactions were filtered. Reason: not in the training data.\n",
      "2 unique trackid's within 2 holdout interactions were filtered. Reason: not in the training data.\n",
      "6 pid's were filtered out from holdout. Reason: inconsistent with testset.\n",
      "74 pid's were filtered out from testset. Reason: inconsistent with holdout.\n",
      "             ===========rank=25=============\n",
      "(5732, 3)\n",
      "=========================Fold 1=============================\n",
      "Preparing data...\n",
      "Done.\n",
      "PureSVD training time: 0.059446363999086316s\n",
      "58 unique trackid's within 60 testset interactions were filtered. Reason: not in the training data.\n",
      "2 unique trackid's within 2 holdout interactions were filtered. Reason: not in the training data.\n",
      "1 pid's were filtered out from holdout. Reason: inconsistent with testset.\n",
      "84 pid's were filtered out from testset. Reason: inconsistent with holdout.\n",
      "=========================Fold 2=============================\n",
      "Preparing data...\n",
      "Done.\n",
      "PureSVD training time: 0.03120045000105165s\n",
      "66 unique trackid's within 69 testset interactions were filtered. Reason: not in the training data.\n",
      "8 unique trackid's within 8 holdout interactions were filtered. Reason: not in the training data.\n",
      "1 pid's were filtered out from holdout. Reason: inconsistent with testset.\n",
      "81 pid's were filtered out from testset. Reason: inconsistent with holdout.\n",
      "=========================Fold 3=============================\n",
      "Preparing data...\n",
      "Done.\n",
      "PureSVD training time: 0.03550709199953417s\n",
      "61 unique trackid's within 69 testset interactions were filtered. Reason: not in the training data.\n",
      "10 unique trackid's within 10 holdout interactions were filtered. Reason: not in the training data.\n",
      "5 pid's were filtered out from holdout. Reason: inconsistent with testset.\n",
      "74 pid's were filtered out from testset. Reason: inconsistent with holdout.\n",
      "=========================Fold 4=============================\n",
      "Preparing data...\n",
      "Done.\n",
      "PureSVD training time: 0.02752181399955589s\n",
      "59 unique trackid's within 60 testset interactions were filtered. Reason: not in the training data.\n",
      "2 unique trackid's within 2 holdout interactions were filtered. Reason: not in the training data.\n",
      "3 pid's were filtered out from holdout. Reason: inconsistent with testset.\n",
      "84 pid's were filtered out from testset. Reason: inconsistent with holdout.\n"
     ]
    },
    {
     "name": "stderr",
     "output_type": "stream",
     "text": [
      "\r",
      " 83%|████████▎ | 5/6 [00:03<00:00,  1.38it/s]"
     ]
    },
    {
     "name": "stdout",
     "output_type": "stream",
     "text": [
      "=========================Fold 5=============================\n",
      "Preparing data...\n",
      "Done.\n",
      "PureSVD training time: 0.035318272000949946s\n",
      "48 unique trackid's within 52 testset interactions were filtered. Reason: not in the training data.\n",
      "2 unique trackid's within 2 holdout interactions were filtered. Reason: not in the training data.\n",
      "6 pid's were filtered out from holdout. Reason: inconsistent with testset.\n",
      "74 pid's were filtered out from testset. Reason: inconsistent with holdout.\n",
      "             ===========rank=50=============\n",
      "(5732, 3)\n",
      "=========================Fold 1=============================\n",
      "Preparing data...\n",
      "Done.\n",
      "PureSVD training time: 0.10737475300084043s\n",
      "58 unique trackid's within 60 testset interactions were filtered. Reason: not in the training data.\n",
      "2 unique trackid's within 2 holdout interactions were filtered. Reason: not in the training data.\n",
      "1 pid's were filtered out from holdout. Reason: inconsistent with testset.\n",
      "84 pid's were filtered out from testset. Reason: inconsistent with holdout.\n",
      "=========================Fold 2=============================\n",
      "Preparing data...\n",
      "Done.\n",
      "PureSVD training time: 0.07665419099976134s\n",
      "66 unique trackid's within 69 testset interactions were filtered. Reason: not in the training data.\n",
      "8 unique trackid's within 8 holdout interactions were filtered. Reason: not in the training data.\n",
      "1 pid's were filtered out from holdout. Reason: inconsistent with testset.\n",
      "81 pid's were filtered out from testset. Reason: inconsistent with holdout.\n",
      "=========================Fold 3=============================\n",
      "Preparing data...\n",
      "Done.\n",
      "PureSVD training time: 0.07592836799994984s\n",
      "61 unique trackid's within 69 testset interactions were filtered. Reason: not in the training data.\n",
      "10 unique trackid's within 10 holdout interactions were filtered. Reason: not in the training data.\n",
      "5 pid's were filtered out from holdout. Reason: inconsistent with testset.\n",
      "74 pid's were filtered out from testset. Reason: inconsistent with holdout.\n",
      "=========================Fold 4=============================\n",
      "Preparing data...\n",
      "Done.\n",
      "PureSVD training time: 0.09877615500045067s\n",
      "59 unique trackid's within 60 testset interactions were filtered. Reason: not in the training data.\n",
      "2 unique trackid's within 2 holdout interactions were filtered. Reason: not in the training data.\n",
      "3 pid's were filtered out from holdout. Reason: inconsistent with testset.\n",
      "84 pid's were filtered out from testset. Reason: inconsistent with holdout.\n",
      "=========================Fold 5=============================\n",
      "Preparing data...\n",
      "Done.\n"
     ]
    },
    {
     "name": "stderr",
     "output_type": "stream",
     "text": [
      "\r",
      "100%|██████████| 6/6 [00:04<00:00,  1.28it/s]"
     ]
    },
    {
     "name": "stdout",
     "output_type": "stream",
     "text": [
      "PureSVD training time: 0.20468552199963597s\n",
      "48 unique trackid's within 52 testset interactions were filtered. Reason: not in the training data.\n",
      "2 unique trackid's within 2 holdout interactions were filtered. Reason: not in the training data.\n",
      "6 pid's were filtered out from holdout. Reason: inconsistent with testset.\n",
      "74 pid's were filtered out from testset. Reason: inconsistent with holdout.\n"
     ]
    },
    {
     "name": "stderr",
     "output_type": "stream",
     "text": [
      "\n"
     ]
    }
   ],
   "source": [
    "topks = [500]\n",
    "ranks = [3,4,5,10, 25, 50]\n",
    "recall = []\n",
    "nDCG = []\n",
    "precision = []\n",
    "miss_rate = []\n",
    "for rank in tqdm.tqdm(ranks):\n",
    "    print('             ===========rank={}============='.format(rank))\n",
    "    print(data.shape)\n",
    "    result = cross_validation_svd(data, topk=500, test_size=0.1, rank=rank)\n",
    "    recall.append(result.recall.mean())\n",
    "    nDCG.append(result.nDCG.mean())\n",
    "    precision.append(result.precision.mean())\n",
    "    miss_rate.append(result.miss_rate.mean())"
   ]
  },
  {
   "cell_type": "code",
   "execution_count": 9,
   "metadata": {},
   "outputs": [],
   "source": [
    "import matplotlib.pyplot as plt"
   ]
  },
  {
   "cell_type": "code",
   "execution_count": 12,
   "metadata": {},
   "outputs": [
    {
     "data": {
      "image/png": "[encoded data removed]",
      "text/plain": [
       "<Figure size 864x576 with 1 Axes>"
      ]
     },
     "metadata": {},
     "output_type": "display_data"
    }
   ],
   "source": [
    "plt.style.use('seaborn')\n",
    "plt.figure(figsize=(12,8))\n",
    "plt.plot(ranks, recall, 'orange', label='recall')\n",
    "plt.plot(ranks, nDCG,label='nDCG')\n",
    "plt.plot(ranks, precision, label='precision')\n",
    "plt.plot(ranks, miss_rate, label='miss_rate')\n",
    "plt.ylabel('evalution')\n",
    "plt.xlabel('topk')\n",
    "plt.legend()\n",
    "plt.show()"
   ]
  },
  {
   "cell_type": "code",
   "execution_count": null,
   "metadata": {},
   "outputs": [],
   "source": []
  }
 ],
 "metadata": {
  "kernelspec": {
   "display_name": "Python 3",
   "language": "python",
   "name": "python3"
  },
  "language_info": {
   "codemirror_mode": {
    "name": "ipython",
    "version": 3
   },
   "file_extension": ".py",
   "mimetype": "text/x-python",
   "name": "python",
   "nbconvert_exporter": "python",
   "pygments_lexer": "ipython3",
   "version": "3.5.2"
  }
 },
 "nbformat": 4,
 "nbformat_minor": 2
}
