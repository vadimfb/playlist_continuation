{
 "cells": [
  {
   "cell_type": "code",
   "execution_count": 4,
   "metadata": {},
   "outputs": [],
   "source": [
    "import numpy as np\n",
    "import pandas as pd\n",
    "import tqdm"
   ]
  },
  {
   "cell_type": "code",
   "execution_count": 5,
   "metadata": {},
   "outputs": [],
   "source": [
    "data_dir = '/home/vadim/playlist_generation/data/random_data'"
   ]
  },
  {
   "cell_type": "markdown",
   "metadata": {},
   "source": [
    "### Загружаем mpd_data(Million playlist dataset)"
   ]
  },
  {
   "cell_type": "code",
   "execution_count": 23,
   "metadata": {},
   "outputs": [
    {
     "data": {
      "text/html": [
       "<div>\n",
       "<style scoped>\n",
       "    .dataframe tbody tr th:only-of-type {\n",
       "        vertical-align: middle;\n",
       "    }\n",
       "\n",
       "    .dataframe tbody tr th {\n",
       "        vertical-align: top;\n",
       "    }\n",
       "\n",
       "    .dataframe thead th {\n",
       "        text-align: right;\n",
       "    }\n",
       "</style>\n",
       "<table border=\"1\" class=\"dataframe\">\n",
       "  <thead>\n",
       "    <tr style=\"text-align: right;\">\n",
       "      <th></th>\n",
       "      <th>userid</th>\n",
       "      <th>trackid</th>\n",
       "    </tr>\n",
       "  </thead>\n",
       "  <tbody>\n",
       "    <tr>\n",
       "      <th>1161</th>\n",
       "      <td>822014</td>\n",
       "      <td>620</td>\n",
       "    </tr>\n",
       "    <tr>\n",
       "      <th>1166</th>\n",
       "      <td>822014</td>\n",
       "      <td>1110</td>\n",
       "    </tr>\n",
       "    <tr>\n",
       "      <th>1168</th>\n",
       "      <td>822014</td>\n",
       "      <td>1112</td>\n",
       "    </tr>\n",
       "    <tr>\n",
       "      <th>1170</th>\n",
       "      <td>822014</td>\n",
       "      <td>1114</td>\n",
       "    </tr>\n",
       "    <tr>\n",
       "      <th>1172</th>\n",
       "      <td>822014</td>\n",
       "      <td>683</td>\n",
       "    </tr>\n",
       "  </tbody>\n",
       "</table>\n",
       "</div>"
      ],
      "text/plain": [
       "      userid  trackid\n",
       "1161  822014      620\n",
       "1166  822014     1110\n",
       "1168  822014     1112\n",
       "1170  822014     1114\n",
       "1172  822014      683"
      ]
     },
     "execution_count": 23,
     "metadata": {},
     "output_type": "execute_result"
    }
   ],
   "source": [
    "mpd_data = pd.read_csv('{}/transactions.csv'.format(data_dir), index_col=0)\n",
    "mpd_data.head()"
   ]
  },
  {
   "cell_type": "markdown",
   "metadata": {},
   "source": [
    "### Определяем рейтинг единичкой"
   ]
  },
  {
   "cell_type": "code",
   "execution_count": 24,
   "metadata": {},
   "outputs": [
    {
     "data": {
      "text/html": [
       "<div>\n",
       "<style scoped>\n",
       "    .dataframe tbody tr th:only-of-type {\n",
       "        vertical-align: middle;\n",
       "    }\n",
       "\n",
       "    .dataframe tbody tr th {\n",
       "        vertical-align: top;\n",
       "    }\n",
       "\n",
       "    .dataframe thead th {\n",
       "        text-align: right;\n",
       "    }\n",
       "</style>\n",
       "<table border=\"1\" class=\"dataframe\">\n",
       "  <thead>\n",
       "    <tr style=\"text-align: right;\">\n",
       "      <th></th>\n",
       "      <th>userid</th>\n",
       "      <th>trackid</th>\n",
       "      <th>rating</th>\n",
       "    </tr>\n",
       "  </thead>\n",
       "  <tbody>\n",
       "    <tr>\n",
       "      <th>1161</th>\n",
       "      <td>822014</td>\n",
       "      <td>620</td>\n",
       "      <td>1</td>\n",
       "    </tr>\n",
       "    <tr>\n",
       "      <th>1166</th>\n",
       "      <td>822014</td>\n",
       "      <td>1110</td>\n",
       "      <td>1</td>\n",
       "    </tr>\n",
       "    <tr>\n",
       "      <th>1168</th>\n",
       "      <td>822014</td>\n",
       "      <td>1112</td>\n",
       "      <td>1</td>\n",
       "    </tr>\n",
       "    <tr>\n",
       "      <th>1170</th>\n",
       "      <td>822014</td>\n",
       "      <td>1114</td>\n",
       "      <td>1</td>\n",
       "    </tr>\n",
       "    <tr>\n",
       "      <th>1172</th>\n",
       "      <td>822014</td>\n",
       "      <td>683</td>\n",
       "      <td>1</td>\n",
       "    </tr>\n",
       "  </tbody>\n",
       "</table>\n",
       "</div>"
      ],
      "text/plain": [
       "      userid  trackid  rating\n",
       "1161  822014      620       1\n",
       "1166  822014     1110       1\n",
       "1168  822014     1112       1\n",
       "1170  822014     1114       1\n",
       "1172  822014      683       1"
      ]
     },
     "execution_count": 24,
     "metadata": {},
     "output_type": "execute_result"
    }
   ],
   "source": [
    "mpd_data['rating'] = 1\n",
    "mpd_data.head()"
   ]
  },
  {
   "cell_type": "markdown",
   "metadata": {},
   "source": [
    "### Обрежем mpd_data по пользователям для быстроты"
   ]
  },
  {
   "cell_type": "code",
   "execution_count": 25,
   "metadata": {},
   "outputs": [],
   "source": [
    "data = mpd_data"
   ]
  },
  {
   "cell_type": "code",
   "execution_count": 31,
   "metadata": {},
   "outputs": [
    {
     "data": {
      "text/plain": [
       "(373089, 3)"
      ]
     },
     "execution_count": 31,
     "metadata": {},
     "output_type": "execute_result"
    }
   ],
   "source": [
    "data.shape"
   ]
  },
  {
   "cell_type": "code",
   "execution_count": 26,
   "metadata": {},
   "outputs": [],
   "source": [
    "from polara.recommender.data import RecommenderData\n",
    "from polara.recommender.models import SVDModel\n",
    "from sklearn.model_selection import KFold"
   ]
  },
  {
   "cell_type": "code",
   "execution_count": 27,
   "metadata": {},
   "outputs": [],
   "source": [
    "def cross_validation_svd(data, n_splits=5, seed=1, test_size=0.05, topk=500, rank=10):\n",
    "    kf = KFold(n_splits=n_splits, random_state=seed)\n",
    "    i = 1\n",
    "    scores = {'precision': [], 'recall': [], 'miss_rate': [], 'nDCG': []}\n",
    "    for users_ids, unseen_users_ids in kf.split(data['userid'].drop_duplicates()):\n",
    "        print('=========================Fold {}============================='.format(i))\n",
    "        i += 1\n",
    "        users = data['userid'].drop_duplicates().values[users_ids]\n",
    "        unseen_users = data['userid'].drop_duplicates().values[unseen_users_ids]\n",
    "        train = data.query('userid in @users')\n",
    "        test = data.query('userid in @unseen_users')\n",
    "        test_sampled = test.sample(frac=1-test_size, random_state=seed).sort_values('userid')\n",
    "        test_holdout = test[~test.index.isin(test_sampled.index)]\n",
    "        \n",
    "        data_model = RecommenderData(train,'userid', 'trackid', 'rating', seed=seed)\n",
    "        data_model.prepare_training_only()\n",
    "        svd = SVDModel(data_model)\n",
    "        svd.rank = rank\n",
    "        svd.build()\n",
    "        \n",
    "        data_model.set_test_data(testset=test_sampled, holdout=test_holdout, warm_start=True)\n",
    "        svd.switch_positive = 1\n",
    "        svd.topk = topk\n",
    "        relevance = svd.evaluate('relevance')\n",
    "        ranking = svd.evaluate('ranking')\n",
    "        \n",
    "        scores['precision'].append(relevance.precision)\n",
    "        scores['recall'].append(relevance.recall)\n",
    "        scores['miss_rate'].append(relevance.miss_rate)\n",
    "        scores['nDCG'].append(ranking.nDCG)\n",
    "        \n",
    "    result = pd.DataFrame(scores)\n",
    "    return result"
   ]
  },
  {
   "cell_type": "code",
   "execution_count": 28,
   "metadata": {},
   "outputs": [
    {
     "name": "stderr",
     "output_type": "stream",
     "text": [
      "\r",
      "  0%|          | 0/6 [00:00<?, ?it/s]"
     ]
    },
    {
     "name": "stdout",
     "output_type": "stream",
     "text": [
      "             ===========rank=3=============\n",
      "(373089, 3)\n",
      "=========================Fold 1=============================\n",
      "Preparing data...\n",
      "Done.\n",
      "PureSVD training time: 0.12944801500088943s\n",
      "1057 unique trackid's within 1145 testset interactions were filtered. Reason: not in the training data.\n",
      "137 unique trackid's within 140 holdout interactions were filtered. Reason: not in the training data.\n",
      "30 userid's were filtered out from holdout. Reason: inconsistent with testset.\n",
      "1253 userid's were filtered out from testset. Reason: inconsistent with holdout.\n",
      "=========================Fold 2=============================\n",
      "Preparing data...\n",
      "Done.\n",
      "PureSVD training time: 0.1349236229998496s\n",
      "1027 unique trackid's within 1082 testset interactions were filtered. Reason: not in the training data.\n",
      "107 unique trackid's within 107 holdout interactions were filtered. Reason: not in the training data.\n",
      "28 userid's were filtered out from holdout. Reason: inconsistent with testset.\n",
      "1288 userid's were filtered out from testset. Reason: inconsistent with holdout.\n",
      "=========================Fold 3=============================\n",
      "Preparing data...\n",
      "Done.\n",
      "PureSVD training time: 0.11411614899952838s\n",
      "1012 unique trackid's within 1079 testset interactions were filtered. Reason: not in the training data.\n",
      "121 unique trackid's within 122 holdout interactions were filtered. Reason: not in the training data.\n",
      "18 userid's were filtered out from holdout. Reason: inconsistent with testset.\n",
      "1330 userid's were filtered out from testset. Reason: inconsistent with holdout.\n",
      "=========================Fold 4=============================\n",
      "Preparing data...\n",
      "Done.\n",
      "PureSVD training time: 0.13785410899981798s\n",
      "1010 unique trackid's within 1075 testset interactions were filtered. Reason: not in the training data.\n",
      "129 unique trackid's within 129 holdout interactions were filtered. Reason: not in the training data.\n",
      "16 userid's were filtered out from holdout. Reason: inconsistent with testset.\n",
      "1283 userid's were filtered out from testset. Reason: inconsistent with holdout.\n",
      "=========================Fold 5=============================\n",
      "Preparing data...\n",
      "Done.\n",
      "PureSVD training time: 0.13988589600012347s\n",
      "982 unique trackid's within 1048 testset interactions were filtered. Reason: not in the training data.\n",
      "121 unique trackid's within 121 holdout interactions were filtered. Reason: not in the training data.\n",
      "29 userid's were filtered out from holdout. Reason: inconsistent with testset.\n",
      "1293 userid's were filtered out from testset. Reason: inconsistent with holdout.\n"
     ]
    },
    {
     "name": "stderr",
     "output_type": "stream",
     "text": [
      "\r",
      " 17%|█▋        | 1/6 [00:07<00:38,  7.78s/it]"
     ]
    },
    {
     "name": "stdout",
     "output_type": "stream",
     "text": [
      "             ===========rank=4=============\n",
      "(373089, 3)\n",
      "=========================Fold 1=============================\n",
      "Preparing data...\n",
      "Done.\n",
      "PureSVD training time: 0.10276297599921236s\n",
      "1057 unique trackid's within 1145 testset interactions were filtered. Reason: not in the training data.\n",
      "137 unique trackid's within 140 holdout interactions were filtered. Reason: not in the training data.\n",
      "30 userid's were filtered out from holdout. Reason: inconsistent with testset.\n",
      "1253 userid's were filtered out from testset. Reason: inconsistent with holdout.\n",
      "=========================Fold 2=============================\n",
      "Preparing data...\n",
      "Done.\n",
      "PureSVD training time: 0.117921770999601s\n",
      "1027 unique trackid's within 1082 testset interactions were filtered. Reason: not in the training data.\n",
      "107 unique trackid's within 107 holdout interactions were filtered. Reason: not in the training data.\n",
      "28 userid's were filtered out from holdout. Reason: inconsistent with testset.\n",
      "1288 userid's were filtered out from testset. Reason: inconsistent with holdout.\n",
      "=========================Fold 3=============================\n",
      "Preparing data...\n",
      "Done.\n",
      "PureSVD training time: 0.12355060799927742s\n",
      "1012 unique trackid's within 1079 testset interactions were filtered. Reason: not in the training data.\n",
      "121 unique trackid's within 122 holdout interactions were filtered. Reason: not in the training data.\n",
      "18 userid's were filtered out from holdout. Reason: inconsistent with testset.\n",
      "1330 userid's were filtered out from testset. Reason: inconsistent with holdout.\n",
      "=========================Fold 4=============================\n",
      "Preparing data...\n",
      "Done.\n",
      "PureSVD training time: 0.12681737200000498s\n",
      "1010 unique trackid's within 1075 testset interactions were filtered. Reason: not in the training data.\n",
      "129 unique trackid's within 129 holdout interactions were filtered. Reason: not in the training data.\n",
      "16 userid's were filtered out from holdout. Reason: inconsistent with testset.\n",
      "1283 userid's were filtered out from testset. Reason: inconsistent with holdout.\n",
      "=========================Fold 5=============================\n",
      "Preparing data...\n",
      "Done.\n",
      "PureSVD training time: 0.23576160599986906s\n",
      "982 unique trackid's within 1048 testset interactions were filtered. Reason: not in the training data.\n",
      "121 unique trackid's within 121 holdout interactions were filtered. Reason: not in the training data.\n",
      "29 userid's were filtered out from holdout. Reason: inconsistent with testset.\n",
      "1293 userid's were filtered out from testset. Reason: inconsistent with holdout.\n"
     ]
    },
    {
     "name": "stderr",
     "output_type": "stream",
     "text": [
      "\r",
      " 33%|███▎      | 2/6 [00:15<00:31,  7.99s/it]"
     ]
    },
    {
     "name": "stdout",
     "output_type": "stream",
     "text": [
      "             ===========rank=5=============\n",
      "(373089, 3)\n",
      "=========================Fold 1=============================\n",
      "Preparing data...\n",
      "Done.\n",
      "PureSVD training time: 0.13466517199958616s\n",
      "1057 unique trackid's within 1145 testset interactions were filtered. Reason: not in the training data.\n",
      "137 unique trackid's within 140 holdout interactions were filtered. Reason: not in the training data.\n",
      "30 userid's were filtered out from holdout. Reason: inconsistent with testset.\n",
      "1253 userid's were filtered out from testset. Reason: inconsistent with holdout.\n",
      "=========================Fold 2=============================\n",
      "Preparing data...\n",
      "Done.\n",
      "PureSVD training time: 0.1627192269988882s\n",
      "1027 unique trackid's within 1082 testset interactions were filtered. Reason: not in the training data.\n",
      "107 unique trackid's within 107 holdout interactions were filtered. Reason: not in the training data.\n",
      "28 userid's were filtered out from holdout. Reason: inconsistent with testset.\n",
      "1288 userid's were filtered out from testset. Reason: inconsistent with holdout.\n",
      "=========================Fold 3=============================\n",
      "Preparing data...\n",
      "Done.\n",
      "PureSVD training time: 0.15680557300038345s\n",
      "1012 unique trackid's within 1079 testset interactions were filtered. Reason: not in the training data.\n",
      "121 unique trackid's within 122 holdout interactions were filtered. Reason: not in the training data.\n",
      "18 userid's were filtered out from holdout. Reason: inconsistent with testset.\n",
      "1330 userid's were filtered out from testset. Reason: inconsistent with holdout.\n",
      "=========================Fold 4=============================\n",
      "Preparing data...\n",
      "Done.\n",
      "PureSVD training time: 0.13326381200022297s\n",
      "1010 unique trackid's within 1075 testset interactions were filtered. Reason: not in the training data.\n",
      "129 unique trackid's within 129 holdout interactions were filtered. Reason: not in the training data.\n",
      "16 userid's were filtered out from holdout. Reason: inconsistent with testset.\n",
      "1283 userid's were filtered out from testset. Reason: inconsistent with holdout.\n",
      "=========================Fold 5=============================\n",
      "Preparing data...\n",
      "Done.\n",
      "PureSVD training time: 0.14116319400091015s\n",
      "982 unique trackid's within 1048 testset interactions were filtered. Reason: not in the training data.\n",
      "121 unique trackid's within 121 holdout interactions were filtered. Reason: not in the training data.\n",
      "29 userid's were filtered out from holdout. Reason: inconsistent with testset.\n",
      "1293 userid's were filtered out from testset. Reason: inconsistent with holdout.\n"
     ]
    },
    {
     "name": "stderr",
     "output_type": "stream",
     "text": [
      "\r",
      " 50%|█████     | 3/6 [00:25<00:25,  8.40s/it]"
     ]
    },
    {
     "name": "stdout",
     "output_type": "stream",
     "text": [
      "             ===========rank=10=============\n",
      "(373089, 3)\n",
      "=========================Fold 1=============================\n",
      "Preparing data...\n",
      "Done.\n",
      "PureSVD training time: 0.1911688439995487s\n",
      "1057 unique trackid's within 1145 testset interactions were filtered. Reason: not in the training data.\n",
      "137 unique trackid's within 140 holdout interactions were filtered. Reason: not in the training data.\n",
      "30 userid's were filtered out from holdout. Reason: inconsistent with testset.\n",
      "1253 userid's were filtered out from testset. Reason: inconsistent with holdout.\n",
      "=========================Fold 2=============================\n",
      "Preparing data...\n",
      "Done.\n",
      "PureSVD training time: 0.17718095300006098s\n",
      "1027 unique trackid's within 1082 testset interactions were filtered. Reason: not in the training data.\n",
      "107 unique trackid's within 107 holdout interactions were filtered. Reason: not in the training data.\n",
      "28 userid's were filtered out from holdout. Reason: inconsistent with testset.\n",
      "1288 userid's were filtered out from testset. Reason: inconsistent with holdout.\n",
      "=========================Fold 3=============================\n",
      "Preparing data...\n",
      "Done.\n",
      "PureSVD training time: 0.23078140699908545s\n",
      "1012 unique trackid's within 1079 testset interactions were filtered. Reason: not in the training data.\n",
      "121 unique trackid's within 122 holdout interactions were filtered. Reason: not in the training data.\n",
      "18 userid's were filtered out from holdout. Reason: inconsistent with testset.\n",
      "1330 userid's were filtered out from testset. Reason: inconsistent with holdout.\n",
      "=========================Fold 4=============================\n",
      "Preparing data...\n",
      "Done.\n",
      "PureSVD training time: 0.2258818930004054s\n",
      "1010 unique trackid's within 1075 testset interactions were filtered. Reason: not in the training data.\n",
      "129 unique trackid's within 129 holdout interactions were filtered. Reason: not in the training data.\n",
      "16 userid's were filtered out from holdout. Reason: inconsistent with testset.\n",
      "1283 userid's were filtered out from testset. Reason: inconsistent with holdout.\n",
      "=========================Fold 5=============================\n",
      "Preparing data...\n",
      "Done.\n",
      "PureSVD training time: 0.22501758399994287s\n",
      "982 unique trackid's within 1048 testset interactions were filtered. Reason: not in the training data.\n",
      "121 unique trackid's within 121 holdout interactions were filtered. Reason: not in the training data.\n",
      "29 userid's were filtered out from holdout. Reason: inconsistent with testset.\n",
      "1293 userid's were filtered out from testset. Reason: inconsistent with holdout.\n"
     ]
    },
    {
     "name": "stderr",
     "output_type": "stream",
     "text": [
      "\r",
      " 67%|██████▋   | 4/6 [00:34<00:17,  8.58s/it]"
     ]
    },
    {
     "name": "stdout",
     "output_type": "stream",
     "text": [
      "             ===========rank=25=============\n",
      "(373089, 3)\n",
      "=========================Fold 1=============================\n",
      "Preparing data...\n",
      "Done.\n",
      "PureSVD training time: 0.6243701500006864s\n",
      "1057 unique trackid's within 1145 testset interactions were filtered. Reason: not in the training data.\n",
      "137 unique trackid's within 140 holdout interactions were filtered. Reason: not in the training data.\n",
      "30 userid's were filtered out from holdout. Reason: inconsistent with testset.\n",
      "1253 userid's were filtered out from testset. Reason: inconsistent with holdout.\n",
      "=========================Fold 2=============================\n",
      "Preparing data...\n",
      "Done.\n",
      "PureSVD training time: 0.6068505220009683s\n",
      "1027 unique trackid's within 1082 testset interactions were filtered. Reason: not in the training data.\n",
      "107 unique trackid's within 107 holdout interactions were filtered. Reason: not in the training data.\n",
      "28 userid's were filtered out from holdout. Reason: inconsistent with testset.\n",
      "1288 userid's were filtered out from testset. Reason: inconsistent with holdout.\n",
      "=========================Fold 3=============================\n",
      "Preparing data...\n",
      "Done.\n",
      "PureSVD training time: 0.6023731059995043s\n",
      "1012 unique trackid's within 1079 testset interactions were filtered. Reason: not in the training data.\n",
      "121 unique trackid's within 122 holdout interactions were filtered. Reason: not in the training data.\n",
      "18 userid's were filtered out from holdout. Reason: inconsistent with testset.\n",
      "1330 userid's were filtered out from testset. Reason: inconsistent with holdout.\n",
      "=========================Fold 4=============================\n",
      "Preparing data...\n",
      "Done.\n",
      "PureSVD training time: 0.5212660550005239s\n",
      "1010 unique trackid's within 1075 testset interactions were filtered. Reason: not in the training data.\n",
      "129 unique trackid's within 129 holdout interactions were filtered. Reason: not in the training data.\n",
      "16 userid's were filtered out from holdout. Reason: inconsistent with testset.\n",
      "1283 userid's were filtered out from testset. Reason: inconsistent with holdout.\n",
      "=========================Fold 5=============================\n",
      "Preparing data...\n",
      "Done.\n",
      "PureSVD training time: 0.6978454229993076s\n",
      "982 unique trackid's within 1048 testset interactions were filtered. Reason: not in the training data.\n",
      "121 unique trackid's within 121 holdout interactions were filtered. Reason: not in the training data.\n",
      "29 userid's were filtered out from holdout. Reason: inconsistent with testset.\n",
      "1293 userid's were filtered out from testset. Reason: inconsistent with holdout.\n"
     ]
    },
    {
     "name": "stderr",
     "output_type": "stream",
     "text": [
      "\r",
      " 83%|████████▎ | 5/6 [00:45<00:09,  9.01s/it]"
     ]
    },
    {
     "name": "stdout",
     "output_type": "stream",
     "text": [
      "             ===========rank=50=============\n",
      "(373089, 3)\n",
      "=========================Fold 1=============================\n",
      "Preparing data...\n",
      "Done.\n",
      "PureSVD training time: 1.7524676000011823s\n",
      "1057 unique trackid's within 1145 testset interactions were filtered. Reason: not in the training data.\n",
      "137 unique trackid's within 140 holdout interactions were filtered. Reason: not in the training data.\n",
      "30 userid's were filtered out from holdout. Reason: inconsistent with testset.\n",
      "1253 userid's were filtered out from testset. Reason: inconsistent with holdout.\n",
      "=========================Fold 2=============================\n",
      "Preparing data...\n",
      "Done.\n",
      "PureSVD training time: 2.225444380001136s\n",
      "1027 unique trackid's within 1082 testset interactions were filtered. Reason: not in the training data.\n",
      "107 unique trackid's within 107 holdout interactions were filtered. Reason: not in the training data.\n",
      "28 userid's were filtered out from holdout. Reason: inconsistent with testset.\n",
      "1288 userid's were filtered out from testset. Reason: inconsistent with holdout.\n",
      "=========================Fold 3=============================\n",
      "Preparing data...\n",
      "Done.\n",
      "PureSVD training time: 1.856687191999299s\n",
      "1012 unique trackid's within 1079 testset interactions were filtered. Reason: not in the training data.\n",
      "121 unique trackid's within 122 holdout interactions were filtered. Reason: not in the training data.\n",
      "18 userid's were filtered out from holdout. Reason: inconsistent with testset.\n",
      "1330 userid's were filtered out from testset. Reason: inconsistent with holdout.\n",
      "=========================Fold 4=============================\n",
      "Preparing data...\n",
      "Done.\n",
      "PureSVD training time: 1.8656472929997108s\n",
      "1010 unique trackid's within 1075 testset interactions were filtered. Reason: not in the training data.\n",
      "129 unique trackid's within 129 holdout interactions were filtered. Reason: not in the training data.\n",
      "16 userid's were filtered out from holdout. Reason: inconsistent with testset.\n",
      "1283 userid's were filtered out from testset. Reason: inconsistent with holdout.\n",
      "=========================Fold 5=============================\n",
      "Preparing data...\n",
      "Done.\n",
      "PureSVD training time: 1.7195056049986306s\n",
      "982 unique trackid's within 1048 testset interactions were filtered. Reason: not in the training data.\n",
      "121 unique trackid's within 121 holdout interactions were filtered. Reason: not in the training data.\n",
      "29 userid's were filtered out from holdout. Reason: inconsistent with testset.\n",
      "1293 userid's were filtered out from testset. Reason: inconsistent with holdout.\n"
     ]
    },
    {
     "name": "stderr",
     "output_type": "stream",
     "text": [
      "100%|██████████| 6/6 [01:02<00:00, 10.37s/it]\n"
     ]
    }
   ],
   "source": [
    "topks = [500]\n",
    "ranks = [3,4,5,10, 25, 50]\n",
    "recall = []\n",
    "nDCG = []\n",
    "precision = []\n",
    "miss_rate = []\n",
    "for rank in tqdm.tqdm(ranks):\n",
    "    print('             ===========rank={}============='.format(rank))\n",
    "    print(data.shape)\n",
    "    result = cross_validation_svd(data, topk=500, test_size=0.1, rank=rank)\n",
    "    recall.append(result.recall.mean())\n",
    "    nDCG.append(result.nDCG.mean())\n",
    "    precision.append(result.precision.mean())\n",
    "    miss_rate.append(result.miss_rate.mean())"
   ]
  },
  {
   "cell_type": "code",
   "execution_count": 29,
   "metadata": {},
   "outputs": [],
   "source": [
    "import matplotlib.pyplot as plt"
   ]
  },
  {
   "cell_type": "code",
   "execution_count": 30,
   "metadata": {},
   "outputs": [
    {
     "data": {
      "image/png": "[encoded data removed]",
      "text/plain": [
       "<Figure size 864x576 with 1 Axes>"
      ]
     },
     "metadata": {},
     "output_type": "display_data"
    }
   ],
   "source": [
    "plt.style.use('seaborn')\n",
    "plt.figure(figsize=(12,8))\n",
    "plt.plot(ranks, recall, 'orange', label='recall')\n",
    "plt.plot(ranks, nDCG,label='nDCG')\n",
    "plt.plot(ranks, precision, label='precision')\n",
    "plt.plot(ranks, miss_rate, label='miss_rate')\n",
    "plt.ylabel('evalution')\n",
    "plt.xlabel('topk')\n",
    "plt.legend()\n",
    "plt.show()"
   ]
  },
  {
   "cell_type": "code",
   "execution_count": 13,
   "metadata": {},
   "outputs": [
    {
     "data": {
      "image/png": "[encoded data removed]",
      "text/plain": [
       "<Figure size 360x288 with 1 Axes>"
      ]
     },
     "metadata": {},
     "output_type": "display_data"
    }
   ],
   "source": [
    "plt.style.use('seaborn')\n",
    "plt.figure(figsize=(5,4))\n",
    "plt.plot(ranks, recall)\n",
    "plt.ylabel('recall')\n",
    "plt.xlabel('rank')\n",
    "plt.show()"
   ]
  },
  {
   "cell_type": "code",
   "execution_count": 14,
   "metadata": {},
   "outputs": [
    {
     "data": {
      "image/png": "[encoded data removed]",
      "text/plain": [
       "<Figure size 360x288 with 1 Axes>"
      ]
     },
     "metadata": {},
     "output_type": "display_data"
    }
   ],
   "source": [
    "plt.style.use('seaborn')\n",
    "plt.figure(figsize=(5,4))\n",
    "plt.plot(ranks, precision)\n",
    "plt.ylabel('precision')\n",
    "plt.xlabel('rank')\n",
    "plt.show()"
   ]
  },
  {
   "cell_type": "code",
   "execution_count": 23,
   "metadata": {},
   "outputs": [
    {
     "data": {
      "text/plain": [
       "(265464,)"
      ]
     },
     "execution_count": 23,
     "metadata": {},
     "output_type": "execute_result"
    }
   ],
   "source": [
    "data.trackid.unique().shape"
   ]
  },
  {
   "cell_type": "code",
   "execution_count": null,
   "metadata": {},
   "outputs": [],
   "source": []
  }
 ],
 "metadata": {
  "kernelspec": {
   "display_name": "Python 3",
   "language": "python",
   "name": "python3"
  },
  "language_info": {
   "codemirror_mode": {
    "name": "ipython",
    "version": 3
   },
   "file_extension": ".py",
   "mimetype": "text/x-python",
   "name": "python",
   "nbconvert_exporter": "python",
   "pygments_lexer": "ipython3",
   "version": "3.5.2"
  }
 },
 "nbformat": 4,
 "nbformat_minor": 2
}
