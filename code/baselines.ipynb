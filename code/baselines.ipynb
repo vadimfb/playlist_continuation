{
 "cells": [
  {
   "cell_type": "code",
   "execution_count": 1,
   "metadata": {},
   "outputs": [],
   "source": [
    "import numpy as np\n",
    "import pandas as pd\n",
    "import tqdm"
   ]
  },
  {
   "cell_type": "code",
   "execution_count": 2,
   "metadata": {},
   "outputs": [],
   "source": [
    "data_dir = '/home/vadim/playlist_generation/data/random_data'"
   ]
  },
  {
   "cell_type": "markdown",
   "metadata": {},
   "source": [
    "### Загружаем mpd_data(Million playlist dataset)"
   ]
  },
  {
   "cell_type": "code",
   "execution_count": 3,
   "metadata": {},
   "outputs": [
    {
     "data": {
      "text/html": [
       "<div>\n",
       "<style scoped>\n",
       "    .dataframe tbody tr th:only-of-type {\n",
       "        vertical-align: middle;\n",
       "    }\n",
       "\n",
       "    .dataframe tbody tr th {\n",
       "        vertical-align: top;\n",
       "    }\n",
       "\n",
       "    .dataframe thead th {\n",
       "        text-align: right;\n",
       "    }\n",
       "</style>\n",
       "<table border=\"1\" class=\"dataframe\">\n",
       "  <thead>\n",
       "    <tr style=\"text-align: right;\">\n",
       "      <th></th>\n",
       "      <th>pid</th>\n",
       "      <th>trackid</th>\n",
       "    </tr>\n",
       "  </thead>\n",
       "  <tbody>\n",
       "    <tr>\n",
       "      <th>2429</th>\n",
       "      <td>822032</td>\n",
       "      <td>2283</td>\n",
       "    </tr>\n",
       "    <tr>\n",
       "      <th>2434</th>\n",
       "      <td>822032</td>\n",
       "      <td>2288</td>\n",
       "    </tr>\n",
       "    <tr>\n",
       "      <th>2435</th>\n",
       "      <td>822032</td>\n",
       "      <td>907</td>\n",
       "    </tr>\n",
       "    <tr>\n",
       "      <th>2440</th>\n",
       "      <td>822032</td>\n",
       "      <td>896</td>\n",
       "    </tr>\n",
       "    <tr>\n",
       "      <th>2441</th>\n",
       "      <td>822032</td>\n",
       "      <td>901</td>\n",
       "    </tr>\n",
       "  </tbody>\n",
       "</table>\n",
       "</div>"
      ],
      "text/plain": [
       "         pid  trackid\n",
       "2429  822032     2283\n",
       "2434  822032     2288\n",
       "2435  822032      907\n",
       "2440  822032      896\n",
       "2441  822032      901"
      ]
     },
     "execution_count": 3,
     "metadata": {},
     "output_type": "execute_result"
    }
   ],
   "source": [
    "mpd_data = pd.read_csv('{}/transactions.csv'.format(data_dir), index_col=0)\n",
    "mpd_data.head()"
   ]
  },
  {
   "cell_type": "markdown",
   "metadata": {},
   "source": [
    "### Определяем рейтинг единичкой"
   ]
  },
  {
   "cell_type": "code",
   "execution_count": 4,
   "metadata": {},
   "outputs": [
    {
     "data": {
      "text/html": [
       "<div>\n",
       "<style scoped>\n",
       "    .dataframe tbody tr th:only-of-type {\n",
       "        vertical-align: middle;\n",
       "    }\n",
       "\n",
       "    .dataframe tbody tr th {\n",
       "        vertical-align: top;\n",
       "    }\n",
       "\n",
       "    .dataframe thead th {\n",
       "        text-align: right;\n",
       "    }\n",
       "</style>\n",
       "<table border=\"1\" class=\"dataframe\">\n",
       "  <thead>\n",
       "    <tr style=\"text-align: right;\">\n",
       "      <th></th>\n",
       "      <th>pid</th>\n",
       "      <th>trackid</th>\n",
       "      <th>rating</th>\n",
       "    </tr>\n",
       "  </thead>\n",
       "  <tbody>\n",
       "    <tr>\n",
       "      <th>2429</th>\n",
       "      <td>822032</td>\n",
       "      <td>2283</td>\n",
       "      <td>1</td>\n",
       "    </tr>\n",
       "    <tr>\n",
       "      <th>2434</th>\n",
       "      <td>822032</td>\n",
       "      <td>2288</td>\n",
       "      <td>1</td>\n",
       "    </tr>\n",
       "    <tr>\n",
       "      <th>2435</th>\n",
       "      <td>822032</td>\n",
       "      <td>907</td>\n",
       "      <td>1</td>\n",
       "    </tr>\n",
       "    <tr>\n",
       "      <th>2440</th>\n",
       "      <td>822032</td>\n",
       "      <td>896</td>\n",
       "      <td>1</td>\n",
       "    </tr>\n",
       "    <tr>\n",
       "      <th>2441</th>\n",
       "      <td>822032</td>\n",
       "      <td>901</td>\n",
       "      <td>1</td>\n",
       "    </tr>\n",
       "  </tbody>\n",
       "</table>\n",
       "</div>"
      ],
      "text/plain": [
       "         pid  trackid  rating\n",
       "2429  822032     2283       1\n",
       "2434  822032     2288       1\n",
       "2435  822032      907       1\n",
       "2440  822032      896       1\n",
       "2441  822032      901       1"
      ]
     },
     "execution_count": 4,
     "metadata": {},
     "output_type": "execute_result"
    }
   ],
   "source": [
    "mpd_data['rating'] = 1\n",
    "mpd_data.head()"
   ]
  },
  {
   "cell_type": "markdown",
   "metadata": {},
   "source": [
    "### Обрежем mpd_data по пользователям для быстроты"
   ]
  },
  {
   "cell_type": "code",
   "execution_count": 5,
   "metadata": {},
   "outputs": [],
   "source": [
    "data = mpd_data"
   ]
  },
  {
   "cell_type": "code",
   "execution_count": 6,
   "metadata": {},
   "outputs": [
    {
     "data": {
      "text/plain": [
       "(72955, 3)"
      ]
     },
     "execution_count": 6,
     "metadata": {},
     "output_type": "execute_result"
    }
   ],
   "source": [
    "data.shape"
   ]
  },
  {
   "cell_type": "code",
   "execution_count": 7,
   "metadata": {},
   "outputs": [],
   "source": [
    "from polara.recommender.data import RecommenderData\n",
    "from polara.recommender.models import SVDModel\n",
    "from sklearn.model_selection import KFold"
   ]
  },
  {
   "cell_type": "code",
   "execution_count": 8,
   "metadata": {},
   "outputs": [],
   "source": [
    "def cross_validation_svd(data, n_splits=5, seed=1, test_size=0.05, topk=500, rank=10):\n",
    "    kf = KFold(n_splits=n_splits, random_state=seed)\n",
    "    i = 1\n",
    "    scores = {'precision': [], 'recall': [], 'miss_rate': [], 'nDCG': []}\n",
    "    for users_ids, unseen_users_ids in kf.split(data['pid'].drop_duplicates()):\n",
    "        print('=========================Fold {}============================='.format(i))\n",
    "        i += 1\n",
    "        users = data['pid'].drop_duplicates().values[users_ids]\n",
    "        unseen_users = data['pid'].drop_duplicates().values[unseen_users_ids]\n",
    "        train = data.query('pid in @users')\n",
    "        test = data.query('pid in @unseen_users')\n",
    "        test_sampled = test.sample(frac=1-test_size, random_state=seed).sort_values('pid')\n",
    "        test_holdout = test[~test.index.isin(test_sampled.index)]\n",
    "        \n",
    "        data_model = RecommenderData(train,'pid', 'trackid', 'rating', seed=seed)\n",
    "        data_model.prepare_training_only()\n",
    "        svd = SVDModel(data_model)\n",
    "        svd.rank = rank\n",
    "        svd.build()\n",
    "        \n",
    "        data_model.set_test_data(testset=test_sampled, holdout=test_holdout, warm_start=True)\n",
    "        svd.switch_positive = 1\n",
    "        svd.topk = topk\n",
    "        hits = svd.evaluate()\n",
    "        relevance = svd.evaluate('relevance')\n",
    "        ranking = svd.evaluate('ranking')\n",
    "        \n",
    "        print(hits)\n",
    "        \n",
    "        scores['precision'].append(relevance.precision)\n",
    "        scores['recall'].append(relevance.recall)\n",
    "        scores['miss_rate'].append(relevance.miss_rate)\n",
    "        scores['nDCG'].append(ranking.nDCG)\n",
    "        \n",
    "    result = pd.DataFrame(scores)\n",
    "    return result"
   ]
  },
  {
   "cell_type": "code",
   "execution_count": 9,
   "metadata": {},
   "outputs": [
    {
     "name": "stderr",
     "output_type": "stream",
     "text": [
      "\r",
      "  0%|          | 0/8 [00:00<?, ?it/s]"
     ]
    },
    {
     "name": "stdout",
     "output_type": "stream",
     "text": [
      "             ===========rank=3=============\n",
      "(72955, 3)\n",
      "=========================Fold 1=============================\n",
      "Preparing data...\n",
      "Done.\n",
      "PureSVD training time: 0.11694298299971706s\n",
      "302 unique trackid's within 324 testset interactions were filtered. Reason: not in the training data.\n",
      "43 unique trackid's within 43 holdout interactions were filtered. Reason: not in the training data.\n",
      "164 pid's were filtered out from testset. Reason: inconsistent with holdout.\n",
      "Hits(true_positive=104, false_positive=0, true_negative=0, false_negative=1308)\n",
      "=========================Fold 2=============================\n",
      "Preparing data...\n",
      "Done.\n",
      "PureSVD training time: 0.03486535999991247s\n",
      "254 unique trackid's within 272 testset interactions were filtered. Reason: not in the training data.\n",
      "24 unique trackid's within 24 holdout interactions were filtered. Reason: not in the training data.\n",
      "154 pid's were filtered out from testset. Reason: inconsistent with holdout.\n",
      "Hits(true_positive=97, false_positive=0, true_negative=0, false_negative=1330)\n",
      "=========================Fold 3=============================\n",
      "Preparing data...\n",
      "Done.\n",
      "PureSVD training time: 0.02298739400021077s\n",
      "247 unique trackid's within 273 testset interactions were filtered. Reason: not in the training data.\n",
      "36 unique trackid's within 36 holdout interactions were filtered. Reason: not in the training data.\n",
      "150 pid's were filtered out from testset. Reason: inconsistent with holdout.\n",
      "Hits(true_positive=106, false_positive=0, true_negative=0, false_negative=1357)\n",
      "=========================Fold 4=============================\n",
      "Preparing data...\n",
      "Done.\n",
      "PureSVD training time: 0.03251636100003452s\n",
      "313 unique trackid's within 341 testset interactions were filtered. Reason: not in the training data.\n",
      "49 unique trackid's within 49 holdout interactions were filtered. Reason: not in the training data.\n",
      "155 pid's were filtered out from testset. Reason: inconsistent with holdout.\n",
      "Hits(true_positive=98, false_positive=0, true_negative=0, false_negative=1268)\n",
      "=========================Fold 5=============================\n",
      "Preparing data...\n",
      "Done.\n",
      "PureSVD training time: 0.05188635100012107s\n",
      "290 unique trackid's within 326 testset interactions were filtered. Reason: not in the training data.\n",
      "28 unique trackid's within 28 holdout interactions were filtered. Reason: not in the training data.\n",
      "157 pid's were filtered out from testset. Reason: inconsistent with holdout.\n"
     ]
    },
    {
     "name": "stderr",
     "output_type": "stream",
     "text": [
      "\r",
      " 12%|█▎        | 1/8 [00:01<00:11,  1.60s/it]"
     ]
    },
    {
     "name": "stdout",
     "output_type": "stream",
     "text": [
      "Hits(true_positive=85, false_positive=0, true_negative=0, false_negative=1362)\n",
      "             ===========rank=4=============\n",
      "(72955, 3)\n",
      "=========================Fold 1=============================\n",
      "Preparing data...\n",
      "Done.\n",
      "PureSVD training time: 0.03638350800019907s\n",
      "302 unique trackid's within 324 testset interactions were filtered. Reason: not in the training data.\n",
      "43 unique trackid's within 43 holdout interactions were filtered. Reason: not in the training data.\n",
      "164 pid's were filtered out from testset. Reason: inconsistent with holdout.\n",
      "Hits(true_positive=128, false_positive=0, true_negative=0, false_negative=1284)\n",
      "=========================Fold 2=============================\n",
      "Preparing data...\n",
      "Done.\n",
      "PureSVD training time: 0.02315348100000847s\n",
      "254 unique trackid's within 272 testset interactions were filtered. Reason: not in the training data.\n",
      "24 unique trackid's within 24 holdout interactions were filtered. Reason: not in the training data.\n",
      "154 pid's were filtered out from testset. Reason: inconsistent with holdout.\n",
      "Hits(true_positive=140, false_positive=0, true_negative=0, false_negative=1287)\n",
      "=========================Fold 3=============================\n",
      "Preparing data...\n",
      "Done.\n",
      "PureSVD training time: 0.055152896999970835s\n",
      "247 unique trackid's within 273 testset interactions were filtered. Reason: not in the training data.\n",
      "36 unique trackid's within 36 holdout interactions were filtered. Reason: not in the training data.\n",
      "150 pid's were filtered out from testset. Reason: inconsistent with holdout.\n",
      "Hits(true_positive=121, false_positive=0, true_negative=0, false_negative=1342)\n",
      "=========================Fold 4=============================\n",
      "Preparing data...\n",
      "Done.\n",
      "PureSVD training time: 0.031773717000305624s\n",
      "313 unique trackid's within 341 testset interactions were filtered. Reason: not in the training data.\n",
      "49 unique trackid's within 49 holdout interactions were filtered. Reason: not in the training data.\n",
      "155 pid's were filtered out from testset. Reason: inconsistent with holdout.\n",
      "Hits(true_positive=107, false_positive=0, true_negative=0, false_negative=1259)\n",
      "=========================Fold 5=============================\n",
      "Preparing data...\n",
      "Done.\n",
      "PureSVD training time: 0.06697798499999408s\n",
      "290 unique trackid's within 326 testset interactions were filtered. Reason: not in the training data.\n",
      "28 unique trackid's within 28 holdout interactions were filtered. Reason: not in the training data.\n",
      "157 pid's were filtered out from testset. Reason: inconsistent with holdout.\n"
     ]
    },
    {
     "name": "stderr",
     "output_type": "stream",
     "text": [
      "\r",
      " 25%|██▌       | 2/8 [00:03<00:09,  1.57s/it]"
     ]
    },
    {
     "name": "stdout",
     "output_type": "stream",
     "text": [
      "Hits(true_positive=115, false_positive=0, true_negative=0, false_negative=1332)\n",
      "             ===========rank=5=============\n",
      "(72955, 3)\n",
      "=========================Fold 1=============================\n",
      "Preparing data...\n",
      "Done.\n",
      "PureSVD training time: 0.029936303999875236s\n",
      "302 unique trackid's within 324 testset interactions were filtered. Reason: not in the training data.\n",
      "43 unique trackid's within 43 holdout interactions were filtered. Reason: not in the training data.\n",
      "164 pid's were filtered out from testset. Reason: inconsistent with holdout.\n",
      "Hits(true_positive=146, false_positive=0, true_negative=0, false_negative=1266)\n",
      "=========================Fold 2=============================\n",
      "Preparing data...\n",
      "Done.\n",
      "PureSVD training time: 0.05116222900005596s\n",
      "254 unique trackid's within 272 testset interactions were filtered. Reason: not in the training data.\n",
      "24 unique trackid's within 24 holdout interactions were filtered. Reason: not in the training data.\n",
      "154 pid's were filtered out from testset. Reason: inconsistent with holdout.\n",
      "Hits(true_positive=153, false_positive=0, true_negative=0, false_negative=1274)\n",
      "=========================Fold 3=============================\n",
      "Preparing data...\n",
      "Done.\n",
      "PureSVD training time: 0.1069474139999329s\n",
      "247 unique trackid's within 273 testset interactions were filtered. Reason: not in the training data.\n",
      "36 unique trackid's within 36 holdout interactions were filtered. Reason: not in the training data.\n",
      "150 pid's were filtered out from testset. Reason: inconsistent with holdout.\n",
      "Hits(true_positive=146, false_positive=0, true_negative=0, false_negative=1317)\n",
      "=========================Fold 4=============================\n",
      "Preparing data...\n",
      "Done.\n",
      "PureSVD training time: 0.023484137999730592s\n",
      "313 unique trackid's within 341 testset interactions were filtered. Reason: not in the training data.\n",
      "49 unique trackid's within 49 holdout interactions were filtered. Reason: not in the training data.\n",
      "155 pid's were filtered out from testset. Reason: inconsistent with holdout.\n",
      "Hits(true_positive=128, false_positive=0, true_negative=0, false_negative=1238)\n",
      "=========================Fold 5=============================\n",
      "Preparing data...\n",
      "Done.\n",
      "PureSVD training time: 0.0961909289999312s\n",
      "290 unique trackid's within 326 testset interactions were filtered. Reason: not in the training data.\n",
      "28 unique trackid's within 28 holdout interactions were filtered. Reason: not in the training data.\n",
      "157 pid's were filtered out from testset. Reason: inconsistent with holdout.\n"
     ]
    },
    {
     "name": "stderr",
     "output_type": "stream",
     "text": [
      "\r",
      " 38%|███▊      | 3/8 [00:05<00:08,  1.67s/it]"
     ]
    },
    {
     "name": "stdout",
     "output_type": "stream",
     "text": [
      "Hits(true_positive=127, false_positive=0, true_negative=0, false_negative=1320)\n",
      "             ===========rank=10=============\n",
      "(72955, 3)\n",
      "=========================Fold 1=============================\n",
      "Preparing data...\n",
      "Done.\n",
      "PureSVD training time: 0.034052863999932015s\n",
      "302 unique trackid's within 324 testset interactions were filtered. Reason: not in the training data.\n",
      "43 unique trackid's within 43 holdout interactions were filtered. Reason: not in the training data.\n",
      "164 pid's were filtered out from testset. Reason: inconsistent with holdout.\n",
      "Hits(true_positive=212, false_positive=0, true_negative=0, false_negative=1200)\n",
      "=========================Fold 2=============================\n",
      "Preparing data...\n",
      "Done.\n",
      "PureSVD training time: 0.03575138299993341s\n",
      "254 unique trackid's within 272 testset interactions were filtered. Reason: not in the training data.\n",
      "24 unique trackid's within 24 holdout interactions were filtered. Reason: not in the training data.\n",
      "154 pid's were filtered out from testset. Reason: inconsistent with holdout.\n",
      "Hits(true_positive=206, false_positive=0, true_negative=0, false_negative=1221)\n",
      "=========================Fold 3=============================\n",
      "Preparing data...\n",
      "Done.\n",
      "PureSVD training time: 0.062071001999811415s\n",
      "247 unique trackid's within 273 testset interactions were filtered. Reason: not in the training data.\n",
      "36 unique trackid's within 36 holdout interactions were filtered. Reason: not in the training data.\n",
      "150 pid's were filtered out from testset. Reason: inconsistent with holdout.\n",
      "Hits(true_positive=199, false_positive=0, true_negative=0, false_negative=1264)\n",
      "=========================Fold 4=============================\n",
      "Preparing data...\n",
      "Done.\n",
      "PureSVD training time: 0.08191099999976359s\n",
      "313 unique trackid's within 341 testset interactions were filtered. Reason: not in the training data.\n",
      "49 unique trackid's within 49 holdout interactions were filtered. Reason: not in the training data.\n",
      "155 pid's were filtered out from testset. Reason: inconsistent with holdout.\n",
      "Hits(true_positive=187, false_positive=0, true_negative=0, false_negative=1179)\n",
      "=========================Fold 5=============================\n",
      "Preparing data...\n",
      "Done.\n",
      "PureSVD training time: 0.0741253940000206s\n",
      "290 unique trackid's within 326 testset interactions were filtered. Reason: not in the training data.\n",
      "28 unique trackid's within 28 holdout interactions were filtered. Reason: not in the training data.\n",
      "157 pid's were filtered out from testset. Reason: inconsistent with holdout.\n",
      "Hits(true_positive=196, false_positive=0, true_negative=0, false_negative=1251)\n"
     ]
    },
    {
     "name": "stderr",
     "output_type": "stream",
     "text": [
      "\r",
      " 50%|█████     | 4/8 [00:06<00:06,  1.63s/it]"
     ]
    },
    {
     "name": "stdout",
     "output_type": "stream",
     "text": [
      "             ===========rank=25=============\n",
      "(72955, 3)\n",
      "=========================Fold 1=============================\n",
      "Preparing data...\n",
      "Done.\n",
      "PureSVD training time: 0.12216063400001076s\n",
      "302 unique trackid's within 324 testset interactions were filtered. Reason: not in the training data.\n",
      "43 unique trackid's within 43 holdout interactions were filtered. Reason: not in the training data.\n",
      "164 pid's were filtered out from testset. Reason: inconsistent with holdout.\n",
      "Hits(true_positive=303, false_positive=0, true_negative=0, false_negative=1109)\n",
      "=========================Fold 2=============================\n",
      "Preparing data...\n",
      "Done.\n",
      "PureSVD training time: 0.12755034300016632s\n",
      "254 unique trackid's within 272 testset interactions were filtered. Reason: not in the training data.\n",
      "24 unique trackid's within 24 holdout interactions were filtered. Reason: not in the training data.\n",
      "154 pid's were filtered out from testset. Reason: inconsistent with holdout.\n",
      "Hits(true_positive=290, false_positive=0, true_negative=0, false_negative=1137)\n",
      "=========================Fold 3=============================\n",
      "Preparing data...\n",
      "Done.\n",
      "PureSVD training time: 0.10443198900020434s\n",
      "247 unique trackid's within 273 testset interactions were filtered. Reason: not in the training data.\n",
      "36 unique trackid's within 36 holdout interactions were filtered. Reason: not in the training data.\n",
      "150 pid's were filtered out from testset. Reason: inconsistent with holdout.\n",
      "Hits(true_positive=287, false_positive=0, true_negative=0, false_negative=1176)\n",
      "=========================Fold 4=============================\n",
      "Preparing data...\n",
      "Done.\n",
      "PureSVD training time: 0.07660668399967108s\n",
      "313 unique trackid's within 341 testset interactions were filtered. Reason: not in the training data.\n",
      "49 unique trackid's within 49 holdout interactions were filtered. Reason: not in the training data.\n",
      "155 pid's were filtered out from testset. Reason: inconsistent with holdout.\n",
      "Hits(true_positive=258, false_positive=0, true_negative=0, false_negative=1108)\n",
      "=========================Fold 5=============================\n",
      "Preparing data...\n",
      "Done.\n",
      "PureSVD training time: 0.08154517299999497s\n",
      "290 unique trackid's within 326 testset interactions were filtered. Reason: not in the training data.\n",
      "28 unique trackid's within 28 holdout interactions were filtered. Reason: not in the training data.\n",
      "157 pid's were filtered out from testset. Reason: inconsistent with holdout.\n"
     ]
    },
    {
     "name": "stderr",
     "output_type": "stream",
     "text": [
      "\r",
      " 62%|██████▎   | 5/8 [00:08<00:04,  1.64s/it]"
     ]
    },
    {
     "name": "stdout",
     "output_type": "stream",
     "text": [
      "Hits(true_positive=273, false_positive=0, true_negative=0, false_negative=1174)\n",
      "             ===========rank=50=============\n",
      "(72955, 3)\n",
      "=========================Fold 1=============================\n",
      "Preparing data...\n",
      "Done.\n",
      "PureSVD training time: 0.3841771769998559s\n",
      "302 unique trackid's within 324 testset interactions were filtered. Reason: not in the training data.\n",
      "43 unique trackid's within 43 holdout interactions were filtered. Reason: not in the training data.\n",
      "164 pid's were filtered out from testset. Reason: inconsistent with holdout.\n",
      "Hits(true_positive=342, false_positive=0, true_negative=0, false_negative=1070)\n",
      "=========================Fold 2=============================\n",
      "Preparing data...\n",
      "Done.\n",
      "PureSVD training time: 0.3264883439996993s\n",
      "254 unique trackid's within 272 testset interactions were filtered. Reason: not in the training data.\n",
      "24 unique trackid's within 24 holdout interactions were filtered. Reason: not in the training data.\n",
      "154 pid's were filtered out from testset. Reason: inconsistent with holdout.\n",
      "Hits(true_positive=319, false_positive=0, true_negative=0, false_negative=1108)\n",
      "=========================Fold 3=============================\n",
      "Preparing data...\n",
      "Done.\n",
      "PureSVD training time: 0.237205652999819s\n",
      "247 unique trackid's within 273 testset interactions were filtered. Reason: not in the training data.\n",
      "36 unique trackid's within 36 holdout interactions were filtered. Reason: not in the training data.\n",
      "150 pid's were filtered out from testset. Reason: inconsistent with holdout.\n",
      "Hits(true_positive=316, false_positive=0, true_negative=0, false_negative=1147)\n",
      "=========================Fold 4=============================\n",
      "Preparing data...\n",
      "Done.\n",
      "PureSVD training time: 0.31433796200008146s\n",
      "313 unique trackid's within 341 testset interactions were filtered. Reason: not in the training data.\n",
      "49 unique trackid's within 49 holdout interactions were filtered. Reason: not in the training data.\n",
      "155 pid's were filtered out from testset. Reason: inconsistent with holdout.\n",
      "Hits(true_positive=284, false_positive=0, true_negative=0, false_negative=1082)\n",
      "=========================Fold 5=============================\n",
      "Preparing data...\n",
      "Done.\n"
     ]
    },
    {
     "name": "stderr",
     "output_type": "stream",
     "text": [
      "\r",
      " 75%|███████▌  | 6/8 [00:11<00:03,  1.87s/it]"
     ]
    },
    {
     "name": "stdout",
     "output_type": "stream",
     "text": [
      "PureSVD training time: 0.2426439119999486s\n",
      "290 unique trackid's within 326 testset interactions were filtered. Reason: not in the training data.\n",
      "28 unique trackid's within 28 holdout interactions were filtered. Reason: not in the training data.\n",
      "157 pid's were filtered out from testset. Reason: inconsistent with holdout.\n",
      "Hits(true_positive=310, false_positive=0, true_negative=0, false_negative=1137)\n",
      "             ===========rank=100=============\n",
      "(72955, 3)\n",
      "=========================Fold 1=============================\n",
      "Preparing data...\n",
      "Done.\n",
      "PureSVD training time: 0.7429618119999759s\n",
      "302 unique trackid's within 324 testset interactions were filtered. Reason: not in the training data.\n",
      "43 unique trackid's within 43 holdout interactions were filtered. Reason: not in the training data.\n",
      "164 pid's were filtered out from testset. Reason: inconsistent with holdout.\n",
      "Hits(true_positive=322, false_positive=0, true_negative=0, false_negative=1090)\n",
      "=========================Fold 2=============================\n",
      "Preparing data...\n",
      "Done.\n",
      "PureSVD training time: 0.9913802030000625s\n",
      "254 unique trackid's within 272 testset interactions were filtered. Reason: not in the training data.\n",
      "24 unique trackid's within 24 holdout interactions were filtered. Reason: not in the training data.\n",
      "154 pid's were filtered out from testset. Reason: inconsistent with holdout.\n",
      "Hits(true_positive=340, false_positive=0, true_negative=0, false_negative=1087)\n",
      "=========================Fold 3=============================\n",
      "Preparing data...\n",
      "Done.\n",
      "PureSVD training time: 1.1572921560000395s\n",
      "247 unique trackid's within 273 testset interactions were filtered. Reason: not in the training data.\n",
      "36 unique trackid's within 36 holdout interactions were filtered. Reason: not in the training data.\n",
      "150 pid's were filtered out from testset. Reason: inconsistent with holdout.\n",
      "Hits(true_positive=345, false_positive=0, true_negative=0, false_negative=1118)\n",
      "=========================Fold 4=============================\n",
      "Preparing data...\n",
      "Done.\n",
      "PureSVD training time: 0.7705188589998215s\n",
      "313 unique trackid's within 341 testset interactions were filtered. Reason: not in the training data.\n",
      "49 unique trackid's within 49 holdout interactions were filtered. Reason: not in the training data.\n",
      "155 pid's were filtered out from testset. Reason: inconsistent with holdout.\n",
      "Hits(true_positive=292, false_positive=0, true_negative=0, false_negative=1074)\n",
      "=========================Fold 5=============================\n",
      "Preparing data...\n",
      "Done.\n"
     ]
    },
    {
     "name": "stderr",
     "output_type": "stream",
     "text": [
      "\r",
      " 88%|████████▊ | 7/8 [00:17<00:02,  2.46s/it]"
     ]
    },
    {
     "name": "stdout",
     "output_type": "stream",
     "text": [
      "PureSVD training time: 1.0386829120002403s\n",
      "290 unique trackid's within 326 testset interactions were filtered. Reason: not in the training data.\n",
      "28 unique trackid's within 28 holdout interactions were filtered. Reason: not in the training data.\n",
      "157 pid's were filtered out from testset. Reason: inconsistent with holdout.\n",
      "Hits(true_positive=320, false_positive=0, true_negative=0, false_negative=1127)\n",
      "             ===========rank=200=============\n",
      "(72955, 3)\n",
      "=========================Fold 1=============================\n",
      "Preparing data...\n",
      "Done.\n",
      "PureSVD training time: 4.412477634999959s\n",
      "302 unique trackid's within 324 testset interactions were filtered. Reason: not in the training data.\n",
      "43 unique trackid's within 43 holdout interactions were filtered. Reason: not in the training data.\n",
      "164 pid's were filtered out from testset. Reason: inconsistent with holdout.\n",
      "Hits(true_positive=340, false_positive=0, true_negative=0, false_negative=1072)\n",
      "=========================Fold 2=============================\n",
      "Preparing data...\n",
      "Done.\n",
      "PureSVD training time: 4.150561248000031s\n",
      "254 unique trackid's within 272 testset interactions were filtered. Reason: not in the training data.\n",
      "24 unique trackid's within 24 holdout interactions were filtered. Reason: not in the training data.\n",
      "154 pid's were filtered out from testset. Reason: inconsistent with holdout.\n",
      "Hits(true_positive=323, false_positive=0, true_negative=0, false_negative=1104)\n",
      "=========================Fold 3=============================\n",
      "Preparing data...\n",
      "Done.\n",
      "PureSVD training time: 3.694564261999858s\n",
      "247 unique trackid's within 273 testset interactions were filtered. Reason: not in the training data.\n",
      "36 unique trackid's within 36 holdout interactions were filtered. Reason: not in the training data.\n",
      "150 pid's were filtered out from testset. Reason: inconsistent with holdout.\n",
      "Hits(true_positive=327, false_positive=0, true_negative=0, false_negative=1136)\n",
      "=========================Fold 4=============================\n",
      "Preparing data...\n",
      "Done.\n",
      "PureSVD training time: 3.134899217000111s\n",
      "313 unique trackid's within 341 testset interactions were filtered. Reason: not in the training data.\n",
      "49 unique trackid's within 49 holdout interactions were filtered. Reason: not in the training data.\n",
      "155 pid's were filtered out from testset. Reason: inconsistent with holdout.\n",
      "Hits(true_positive=303, false_positive=0, true_negative=0, false_negative=1063)\n",
      "=========================Fold 5=============================\n",
      "Preparing data...\n",
      "Done.\n"
     ]
    },
    {
     "name": "stderr",
     "output_type": "stream",
     "text": [
      "\r",
      "100%|██████████| 8/8 [00:37<00:00,  4.65s/it]"
     ]
    },
    {
     "name": "stdout",
     "output_type": "stream",
     "text": [
      "PureSVD training time: 3.236294139000165s\n",
      "290 unique trackid's within 326 testset interactions were filtered. Reason: not in the training data.\n",
      "28 unique trackid's within 28 holdout interactions were filtered. Reason: not in the training data.\n",
      "157 pid's were filtered out from testset. Reason: inconsistent with holdout.\n",
      "Hits(true_positive=317, false_positive=0, true_negative=0, false_negative=1130)\n"
     ]
    },
    {
     "name": "stderr",
     "output_type": "stream",
     "text": [
      "\n"
     ]
    }
   ],
   "source": [
    "topks = [500]\n",
    "ranks = [3,4,5,10, 25, 50, 100, 200]\n",
    "recall = []\n",
    "nDCG = []\n",
    "precision = []\n",
    "miss_rate = []\n",
    "for rank in tqdm.tqdm(ranks):\n",
    "    print('             ===========rank={}============='.format(rank))\n",
    "    print(data.shape)\n",
    "    result = cross_validation_svd(data, topk=10, test_size=0.1, rank=rank)\n",
    "    recall.append(result.recall.mean())\n",
    "    nDCG.append(result.nDCG.mean())\n",
    "    precision.append(result.precision.mean())\n",
    "    miss_rate.append(result.miss_rate.mean())"
   ]
  },
  {
   "cell_type": "code",
   "execution_count": 12,
   "metadata": {},
   "outputs": [],
   "source": [
    "import matplotlib.pyplot as plt"
   ]
  },
  {
   "cell_type": "code",
   "execution_count": 13,
   "metadata": {},
   "outputs": [
    {
     "data": {
      "image/png": "[encoded data removed]",
      "text/plain": [
       "<Figure size 864x576 with 1 Axes>"
      ]
     },
     "metadata": {},
     "output_type": "display_data"
    }
   ],
   "source": [
    "plt.style.use('seaborn')\n",
    "plt.figure(figsize=(12,8))\n",
    "plt.plot(ranks, recall, 'orange', label='recall')\n",
    "plt.plot(ranks, nDCG,label='nDCG')\n",
    "plt.plot(ranks, precision, label='precision')\n",
    "plt.plot(ranks, miss_rate, label='miss_rate')\n",
    "plt.ylabel('evalution')\n",
    "plt.xlabel('rank')\n",
    "plt.legend()\n",
    "plt.show()"
   ]
  },
  {
   "cell_type": "code",
   "execution_count": null,
   "metadata": {},
   "outputs": [],
   "source": []
  }
 ],
 "metadata": {
  "kernelspec": {
   "display_name": "Python 3",
   "language": "python",
   "name": "python3"
  },
  "language_info": {
   "codemirror_mode": {
    "name": "ipython",
    "version": 3
   },
   "file_extension": ".py",
   "mimetype": "text/x-python",
   "name": "python",
   "nbconvert_exporter": "python",
   "pygments_lexer": "ipython3",
   "version": "3.5.2"
  }
 },
 "nbformat": 4,
 "nbformat_minor": 2
}
