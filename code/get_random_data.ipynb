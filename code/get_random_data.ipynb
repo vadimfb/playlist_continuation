{
 "cells": [
  {
   "cell_type": "code",
   "execution_count": 1,
   "metadata": {},
   "outputs": [],
   "source": [
    "import pandas as pd\n",
    "import numpy as np"
   ]
  },
  {
   "cell_type": "code",
   "execution_count": 2,
   "metadata": {},
   "outputs": [],
   "source": [
    "def get_threholds_and_sizes(tracks, number_tracks, parts=[1, 0]):\n",
    "    threholds = []\n",
    "    sizes = []\n",
    "    n = len(parts) - 1\n",
    "    for i in range(n):\n",
    "        t1 = round(tracks.popular.quantile(q=parts[i]))\n",
    "        t2 = round(tracks.popular.quantile(q=parts[i+1]))\n",
    "        if i == n - 1:\n",
    "            t2 = 0\n",
    "        size = round(number_tracks*(parts[i] - parts[i+1]))\n",
    "        sizes.append(size)\n",
    "        threholds.append((t1, t2))\n",
    "    return threholds, sizes"
   ]
  },
  {
   "cell_type": "code",
   "execution_count": 3,
   "metadata": {},
   "outputs": [],
   "source": [
    "def get_tracks_ids(tracks, sizes, threholds):\n",
    "    ids = np.array([])\n",
    "    num_tracks = np.sum(sizes)\n",
    "    flag = False\n",
    "    for thr,size in zip(threholds, sizes):\n",
    "        start_ids = tracks[(tracks.popular <= thr[0]) & \n",
    "                           (tracks.popular > thr[1])].trackid.values\n",
    "        if flag:\n",
    "            add_ids = np.random.choice(start_ids, size=size, replace=False)\n",
    "        else:\n",
    "            add_ids = tracks[(tracks.popular <= thr[0]) & \n",
    "                             (tracks.popular > thr[1])].sort_values(by='popular', \n",
    "                                                                    ascending=False).trackid.values[:size]\n",
    "            flag = True\n",
    "        ids = np.hstack((ids, add_ids))\n",
    "    return ids"
   ]
  },
  {
   "cell_type": "code",
   "execution_count": 4,
   "metadata": {},
   "outputs": [],
   "source": [
    "def get_playlists_ids(playlists, size):\n",
    "    return np.random.choice(playlists['pid'].values, size, replace=False)"
   ]
  },
  {
   "cell_type": "code",
   "execution_count": 5,
   "metadata": {},
   "outputs": [],
   "source": [
    "def sample_ids(tracks, playlists, transactions, \n",
    "               number_tracks, number_playlists, \n",
    "               parts=[1, 0], seed=0):\n",
    "    np.random.seed(seed)\n",
    "    playlists_ids = get_playlists_ids(playlists, number_playlists)\n",
    "    start_tracks_ids = transactions.query('pid in @playlists_ids').trackid.unique()\n",
    "    start_tracks = tracks.query('trackid in @start_tracks_ids')\n",
    "    thrs, sizes = get_threholds_and_sizes(start_tracks, number_tracks, parts)\n",
    "    print (thrs)\n",
    "    tracks_ids = get_tracks_ids(tracks, sizes, thrs)\n",
    "    return playlists_ids, tracks_ids"
   ]
  },
  {
   "cell_type": "code",
   "execution_count": 6,
   "metadata": {},
   "outputs": [],
   "source": [
    "def get_data_by_ids(tracks, playlists, transactions, artists, albums, p_ids, t_ids):\n",
    "    new_tracks = tracks.query('trackid in @t_ids')\n",
    "    artist_ids = new_tracks.artistid.unique()\n",
    "    new_artists = artists.query('artistid in @artist_ids')\n",
    "    album_ids = new_tracks.albumid.unique()\n",
    "    new_albums = albums.query('albumid in @album_ids')\n",
    "    new_playlists = playlists.query('pid in @p_ids')\n",
    "    new_transactions = transactions.query('pid in @p_ids')\n",
    "    print (new_transactions.shape)\n",
    "    new_transactions = new_transactions.query('trackid in @t_ids')\n",
    "    print (new_transactions.shape)\n",
    "    return [new_tracks, new_playlists, new_transactions, new_artists, new_albums]"
   ]
  },
  {
   "cell_type": "code",
   "execution_count": 7,
   "metadata": {},
   "outputs": [],
   "source": [
    "data_dir = '/home/vadim/playlist_generation/data'"
   ]
  },
  {
   "cell_type": "code",
   "execution_count": 8,
   "metadata": {},
   "outputs": [
    {
     "name": "stderr",
     "output_type": "stream",
     "text": [
      "/usr/local/lib/python3.5/dist-packages/numpy/lib/arraysetops.py:472: FutureWarning: elementwise comparison failed; returning scalar instead, but in the future will perform elementwise comparison\n",
      "  mask |= (ar1 == a)\n"
     ]
    }
   ],
   "source": [
    "tracks = pd.read_csv('{}/tracks.csv'.format(data_dir), index_col=0)\n",
    "artists = pd.read_csv('{}/artists.csv'.format(data_dir), index_col=0)\n",
    "albums = pd.read_csv('{}/albums.csv'.format(data_dir), index_col=0)\n",
    "transactions = pd.read_csv('{}/transactions.csv'.format(data_dir), index_col=0)\n",
    "playlists = pd.read_csv('{}/playlists.csv'.format(data_dir), index_col=0)"
   ]
  },
  {
   "cell_type": "code",
   "execution_count": 9,
   "metadata": {},
   "outputs": [],
   "source": [
    "seed = 0"
   ]
  },
  {
   "cell_type": "code",
   "execution_count": 10,
   "metadata": {},
   "outputs": [
    {
     "name": "stdout",
     "output_type": "stream",
     "text": [
      "[(13977, 170), (170, 73), (73, 15), (15, 0)]\n"
     ]
    }
   ],
   "source": [
    "p_ids, t_ids = sample_ids(tracks, playlists, transactions, \n",
    "           number_tracks=22000, number_playlists=10000, \n",
    "           parts=[1, 0.90, 0.8, 0.50, 0], seed=seed)"
   ]
  },
  {
   "cell_type": "code",
   "execution_count": 11,
   "metadata": {},
   "outputs": [
    {
     "name": "stdout",
     "output_type": "stream",
     "text": [
      "(654202, 2)\n",
      "(215579, 2)\n"
     ]
    }
   ],
   "source": [
    "datas = get_data_by_ids(tracks, playlists, transactions, artists, albums, p_ids, t_ids)"
   ]
  },
  {
   "cell_type": "code",
   "execution_count": 12,
   "metadata": {},
   "outputs": [],
   "source": [
    "grouped = datas[2].groupby('pid')"
   ]
  },
  {
   "cell_type": "code",
   "execution_count": 13,
   "metadata": {},
   "outputs": [],
   "source": [
    "pids = grouped.count()[grouped.count()['trackid'] >= 5].index.values"
   ]
  },
  {
   "cell_type": "code",
   "execution_count": 14,
   "metadata": {},
   "outputs": [],
   "source": [
    "datas[2] = datas[2].query('pid in @pids')"
   ]
  },
  {
   "cell_type": "code",
   "execution_count": 15,
   "metadata": {},
   "outputs": [
    {
     "data": {
      "text/plain": [
       "(210950, 2)"
      ]
     },
     "execution_count": 15,
     "metadata": {},
     "output_type": "execute_result"
    }
   ],
   "source": [
    "datas[2].shape"
   ]
  },
  {
   "cell_type": "code",
   "execution_count": 16,
   "metadata": {},
   "outputs": [
    {
     "data": {
      "text/plain": [
       "((7657,), (8560,))"
      ]
     },
     "execution_count": 16,
     "metadata": {},
     "output_type": "execute_result"
    }
   ],
   "source": [
    "datas[2].pid.unique().shape, datas[2].trackid.unique().shape"
   ]
  },
  {
   "cell_type": "code",
   "execution_count": 17,
   "metadata": {},
   "outputs": [
    {
     "data": {
      "text/plain": [
       "(210950, 2)"
      ]
     },
     "execution_count": 17,
     "metadata": {},
     "output_type": "execute_result"
    }
   ],
   "source": [
    "datas[2].shape"
   ]
  },
  {
   "cell_type": "code",
   "execution_count": 18,
   "metadata": {},
   "outputs": [],
   "source": [
    "names = ['tracks', 'playlists', 'transactions', 'artists', 'albums']\n",
    "for df, name in zip(datas, names):\n",
    "    df.to_csv('{}/random_data/{}.csv'.format(data_dir, name))"
   ]
  },
  {
   "cell_type": "code",
   "execution_count": null,
   "metadata": {},
   "outputs": [],
   "source": []
  }
 ],
 "metadata": {
  "kernelspec": {
   "display_name": "Python 3",
   "language": "python",
   "name": "python3"
  },
  "language_info": {
   "codemirror_mode": {
    "name": "ipython",
    "version": 3
   },
   "file_extension": ".py",
   "mimetype": "text/x-python",
   "name": "python",
   "nbconvert_exporter": "python",
   "pygments_lexer": "ipython3",
   "version": "3.5.2"
  }
 },
 "nbformat": 4,
 "nbformat_minor": 2
}
